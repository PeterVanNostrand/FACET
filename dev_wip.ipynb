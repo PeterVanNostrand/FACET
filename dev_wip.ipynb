{
 "cells": [
  {
   "cell_type": "code",
   "execution_count": 3,
   "metadata": {},
   "outputs": [
    {
     "name": "stdout",
     "output_type": "stream",
     "text": [
      "difference based: 0.004675 ms\n",
      "iter based: 0.006869 ms\n"
     ]
    }
   ],
   "source": [
    "import numpy as np\n",
    "import time\n",
    "\n",
    "# comparing runtime of methods to find next largest discrete value\n",
    "\n",
    "possible_vals = np.array(range(0, 200 + 1)) / 120\n",
    "threshold = 62.5 / 125\n",
    "niters = 1000000\n",
    "values = np.random.uniform(low=0.0, high=1.0, size=niters)\n",
    "\n",
    "start = time.time()\n",
    "for val in values:\n",
    "    # get next largest by difference\n",
    "    differences = possible_vals - val\n",
    "    differences[differences < 0] = np.inf\n",
    "    idx_next_largest = np.argmin(differences)\n",
    "    new_val = possible_vals[idx_next_largest]\n",
    "    # print(val * 120, new_val * 120)\n",
    "end = time.time()\n",
    "avg_time_ms = ((end-start) / niters) * 1000\n",
    "print(\"difference based: {:6f} ms\".format(avg_time_ms))\n",
    "\n",
    "start = time.time()\n",
    "for val in values:\n",
    "    i = 0\n",
    "    while possible_vals[i] < val:\n",
    "        i += 1\n",
    "    new_val = possible_vals[i]\n",
    "    # print(val * 120, new_val * 120)\n",
    "end = time.time()\n",
    "avg_time_ms = ((end-start) / niters) * 1000\n",
    "print(\"iter based: {:6f} ms\".format(avg_time_ms))\n"
   ]
  },
  {
   "cell_type": "code",
   "execution_count": null,
   "metadata": {},
   "outputs": [],
   "source": [
    "## DEBUG SCRIPTS\n",
    "\n",
    "# print rect i, col_name, rect_lower, rect_higher\n",
    "# for j in range(self.ds_info.ncols): print(\"{}\\t{}\\t\\t{:.4f}\\t{:.4f}\".format(j, self.ds_info.col_names[j], rect[j, LOWER], rect[j, UPPER]))\n",
    "\n",
    "# print inststance i, col_name, val\n",
    "# for j in range(self.ds_info.ncols): print(\"{}\\t{}\\t\\t{:.4f}\".format(j, self.ds_info.col_names[j], xprime[j]))\n",
    "\n",
    "# check if an instance falls in the region\n",
    "# for j in range(self.ds_info.ncols):\n",
    "# \tis_in = rect[j, LOWER] < xprime[j] < rect[j, UPPER]\n",
    "# \tprint(\"{}\\t{}\\t\\t{:.4f}\\t{:.4f}\\t{:.4f}\\t{:.4f}\".format(j, self.ds_info.col_names[j], xprime[j], rect[j, LOWER], rect[j, UPPER], is_in))"
   ]
  },
  {
   "cell_type": "code",
   "execution_count": null,
   "metadata": {},
   "outputs": [],
   "source": [
    "# save all the nearest nearect rects to a file\n",
    "# disc_norm = self.explainer.ds_info.normalize_discrete\n",
    "# fend = \"norm\" if disc_norm else \"unnorm\"\n",
    "# with open(\"temp_{}.txt\".format(fend), \"a\") as f:\n",
    "#     for j in range(closest_rect.shape[0]):\n",
    "#         for k in [0, 1]:\n",
    "#             val = closest_rect[j, k]\n",
    "#             if disc_norm:\n",
    "#                 val = self.explainer.ds_info.unscale(val, j)\n",
    "#             f.write(\"{:+0.6f}\\t\".format(round(val, 6)))\n",
    "#         f.write(\"\\n\")\n",
    "#     f.write(\"\\n\")\n",
    "#     f.write(\"\\n\")"
   ]
  },
  {
   "cell_type": "code",
   "execution_count": 1,
   "metadata": {},
   "outputs": [],
   "source": [
    "# save y_explain to a file\n",
    "# with open(\"temp.txt\", \"a\") as f:\n",
    "#     f.write(\"Norm Discrete: {} \\t Norm Numeric: {}\\n\".format(\n",
    "#         ds_info.normalize_discrete, ds_info.normalize_numeric))\n",
    "#     for j in range(len(y_explain)):\n",
    "#         f.write(\"{} \".format(y_explain[j]))\n",
    "#     f.write(\"\\n\")"
   ]
  },
  {
   "cell_type": "code",
   "execution_count": null,
   "metadata": {},
   "outputs": [],
   "source": [
    "# with open(\"facet_x.csv\", \"w\") as f:\n",
    "#     for i in range(x.shape[0]):\n",
    "#         for j in range(x.shape[1]):\n",
    "#             f.write(\"{},\".format(self.ds_info.unscale(x[i][j], j)))\n",
    "#         f.write(\"{}\".format(self.manager.predict([x[i]])[0]))\n",
    "#         f.write(\"\\n\")\n",
    "\n",
    "# with open(\"facet_expl.csv\", \"w\") as f:\n",
    "#     for i in range(xprime.shape[0]):\n",
    "#         for j in range(xprime.shape[1]):\n",
    "#             f.write(\"{},\".format(self.ds_info.unscale(xprime[i][j], j)))\n",
    "#         f.write(\"{},\".format(self.manager.predict([xprime[i]])[0]))\n",
    "#         f.write(\"\\n\")\n",
    "\n",
    "# with open(\"rfocse_x.csv\", \"w\") as f:\n",
    "#     for i in range(x.shape[0]):\n",
    "#         for j in range(x.shape[1]):\n",
    "#             f.write(\"{},\".format(x[i][j]))\n",
    "#         f.write(\"{},\".format(self.manager.predict([x[i]])[0]))\n",
    "#         f.write(\"\\n\")\n",
    "\n",
    "# with open(\"rfocse_expl.csv\", \"w\") as f:\n",
    "#     for i in range(xprime.shape[0]):\n",
    "#         for j in range(xprime.shape[1]):\n",
    "#             f.write(\"{},\".format(xprime[i][j], j))\n",
    "#         f.write(\"{},\".format(self.manager.predict([xprime[i]])[0]))\n",
    "#         f.write(\"\\n\")"
   ]
  }
 ],
 "metadata": {
  "kernelspec": {
   "display_name": "dsrg",
   "language": "python",
   "name": "python3"
  },
  "language_info": {
   "codemirror_mode": {
    "name": "ipython",
    "version": 3
   },
   "file_extension": ".py",
   "mimetype": "text/x-python",
   "name": "python",
   "nbconvert_exporter": "python",
   "pygments_lexer": "ipython3",
   "version": "3.8.13"
  },
  "orig_nbformat": 4
 },
 "nbformat": 4,
 "nbformat_minor": 2
}
