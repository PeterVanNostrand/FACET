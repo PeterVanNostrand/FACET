{
 "cells": [
  {
   "cell_type": "code",
   "execution_count": 3,
   "metadata": {},
   "outputs": [
    {
     "name": "stdout",
     "output_type": "stream",
     "text": [
      "difference based: 0.004675 ms\n",
      "iter based: 0.006869 ms\n"
     ]
    }
   ],
   "source": [
    "import numpy as np\n",
    "import time\n",
    "\n",
    "# comparing runtime of methods to find next largest discrete value\n",
    "\n",
    "possible_vals = np.array(range(0, 200 + 1)) / 120\n",
    "threshold = 62.5 / 125\n",
    "niters = 1000000\n",
    "values = np.random.uniform(low=0.0, high=1.0, size=niters)\n",
    "\n",
    "start = time.time()\n",
    "for val in values:\n",
    "    # get next largest by difference\n",
    "    differences = possible_vals - val\n",
    "    differences[differences < 0] = np.inf\n",
    "    idx_next_largest = np.argmin(differences)\n",
    "    new_val = possible_vals[idx_next_largest]\n",
    "    # print(val * 120, new_val * 120)\n",
    "end = time.time()\n",
    "avg_time_ms = ((end-start) / niters) * 1000\n",
    "print(\"difference based: {:6f} ms\".format(avg_time_ms))\n",
    "\n",
    "start = time.time()\n",
    "for val in values:\n",
    "    i = 0\n",
    "    while possible_vals[i] < val:\n",
    "        i += 1\n",
    "    new_val = possible_vals[i]\n",
    "    # print(val * 120, new_val * 120)\n",
    "end = time.time()\n",
    "avg_time_ms = ((end-start) / niters) * 1000\n",
    "print(\"iter based: {:6f} ms\".format(avg_time_ms))\n"
   ]
  },
  {
   "cell_type": "code",
   "execution_count": null,
   "metadata": {},
   "outputs": [],
   "source": [
    "## DEBUG SCRIPTS\n",
    "\n",
    "# print rect i, col_name, rect_lower, rect_higher\n",
    "for j in range(self.ds_info.ncols): print(\"{}\\t{}\\t\\t{:.4f}\\t{:.4f}\".format(j, self.ds_info.col_names[j], rect[j, LOWER], rect[j, UPPER]))\n",
    "\n",
    "# print inststance i, col_name, val\n",
    "for j in range(self.ds_info.ncols): print(\"{}\\t{}\\t\\t{:.4f}\".format(j, self.ds_info.col_names[j], xprime[j]))\n",
    "\n",
    "for j in range(self.ds_info.ncols):\n",
    "\tis_in = rect[j, LOWER] < xprime[j] < rect[j, UPPER]\n",
    "\tprint(\"{}\\t{}\\t\\t{:.4f}\\t{:.4f}\\t{:.4f}\\t{:.4f}\".format(j, self.ds_info.col_names[j], xprime[j], rect[j, LOWER], rect[j, UPPER], is_in))"
   ]
  }
 ],
 "metadata": {
  "kernelspec": {
   "display_name": "dsrg",
   "language": "python",
   "name": "python3"
  },
  "language_info": {
   "codemirror_mode": {
    "name": "ipython",
    "version": 3
   },
   "file_extension": ".py",
   "mimetype": "text/x-python",
   "name": "python",
   "nbconvert_exporter": "python",
   "pygments_lexer": "ipython3",
   "version": "3.8.13"
  },
  "orig_nbformat": 4
 },
 "nbformat": 4,
 "nbformat_minor": 2
}
