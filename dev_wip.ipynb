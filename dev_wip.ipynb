{
 "cells": [
  {
   "cell_type": "code",
   "execution_count": 3,
   "metadata": {},
   "outputs": [
    {
     "name": "stdout",
     "output_type": "stream",
     "text": [
      "difference based: 0.004675 ms\n",
      "iter based: 0.006869 ms\n"
     ]
    }
   ],
   "source": [
    "import numpy as np\n",
    "import time\n",
    "\n",
    "# comparing runtime of methods to find next largest discrete value\n",
    "\n",
    "possible_vals = np.array(range(0, 200 + 1)) / 120\n",
    "threshold = 62.5 / 125\n",
    "niters = 1000000\n",
    "values = np.random.uniform(low=0.0, high=1.0, size=niters)\n",
    "\n",
    "start = time.time()\n",
    "for val in values:\n",
    "    # get next largest by difference\n",
    "    differences = possible_vals - val\n",
    "    differences[differences < 0] = np.inf\n",
    "    idx_next_largest = np.argmin(differences)\n",
    "    new_val = possible_vals[idx_next_largest]\n",
    "    # print(val * 120, new_val * 120)\n",
    "end = time.time()\n",
    "avg_time_ms = ((end-start) / niters) * 1000\n",
    "print(\"difference based: {:6f} ms\".format(avg_time_ms))\n",
    "\n",
    "start = time.time()\n",
    "for val in values:\n",
    "    i = 0\n",
    "    while possible_vals[i] < val:\n",
    "        i += 1\n",
    "    new_val = possible_vals[i]\n",
    "    # print(val * 120, new_val * 120)\n",
    "end = time.time()\n",
    "avg_time_ms = ((end-start) / niters) * 1000\n",
    "print(\"iter based: {:6f} ms\".format(avg_time_ms))\n"
   ]
  },
  {
   "cell_type": "code",
   "execution_count": null,
   "metadata": {},
   "outputs": [],
   "source": [
    "## DEBUG SCRIPTS\n",
    "\n",
    "# print rect i, col_name, rect_lower, rect_higher\n",
    "# for j in range(self.ds_info.ncols): print(\"{}\\t{}\\t\\t{:.4f}\\t{:.4f}\".format(j, self.ds_info.col_names[j], rect[j, LOWER], rect[j, UPPER]))\n",
    "\n",
    "# print inststance i, col_name, val\n",
    "# for j in range(self.ds_info.ncols): print(\"{}\\t{}\\t\\t{:.4f}\".format(j, self.ds_info.col_names[j], xprime[j]))\n",
    "\n",
    "# check if an instance falls in the region\n",
    "# for j in range(self.ds_info.ncols):\n",
    "# \tis_in = rect[j, LOWER] < xprime[j] < rect[j, UPPER]\n",
    "# \tprint(\"{}\\t{}\\t\\t{:.4f}\\t{:.4f}\\t{:.4f}\\t{:.4f}\".format(j, self.ds_info.col_names[j], xprime[j], rect[j, LOWER], rect[j, UPPER], is_in))"
   ]
  },
  {
   "cell_type": "code",
   "execution_count": 1,
   "metadata": {},
   "outputs": [],
   "source": [
    "# check explanation and nearest rect\n",
    "# for j in range(self.ds_info.ncols):\n",
    "#  \tis_in = nearest_rect[j, LOWER] < explanation[j] < nearest_rect[j, UPPER]\n",
    "#  \tprint(\"{}\\t{:<35}\\t{:.4f}\\t{:.4f}\\t{:.4f}\\t{:.4f}\".format(j, self.ds_info.col_names[j], explanation[j], nearest_rect[j, LOWER], nearest_rect[j, UPPER], is_in))\n",
    "\n",
    "# for j in range(self.ds_info.ncols):\n",
    "#  \tis_in = rect[j, LOWER] < x[j] < rect[j, UPPER]\n",
    "#  \tprint(\"{}\\t{:<35}\\t{:.4f}\\t{:.4f}\\t{:.4f}\\t{:.4f}\".format(j, self.ds_info.col_names[j], x[j], rect[j, LOWER], rect[j, UPPER], is_in))"
   ]
  },
  {
   "cell_type": "code",
   "execution_count": null,
   "metadata": {},
   "outputs": [],
   "source": [
    "# save all the nearest nearect rects to a file\n",
    "# disc_norm = self.explainer.ds_info.normalize_discrete\n",
    "# fend = \"norm\" if disc_norm else \"unnorm\"\n",
    "# with open(\"temp_{}.txt\".format(fend), \"a\") as f:\n",
    "#     for j in range(closest_rect.shape[0]):\n",
    "#         for k in [0, 1]:\n",
    "#             val = closest_rect[j, k]\n",
    "#             if disc_norm:\n",
    "#                 val = self.explainer.ds_info.unscale(val, j)\n",
    "#             f.write(\"{:+0.6f}\\t\".format(round(val, 6)))\n",
    "#         f.write(\"\\n\")\n",
    "#     f.write(\"\\n\")\n",
    "#     f.write(\"\\n\")"
   ]
  },
  {
   "cell_type": "code",
   "execution_count": 1,
   "metadata": {},
   "outputs": [],
   "source": [
    "# save y_explain to a file\n",
    "# with open(\"temp.txt\", \"a\") as f:\n",
    "#     f.write(\"Norm Discrete: {} \\t Norm Numeric: {}\\n\".format(\n",
    "#         ds_info.normalize_discrete, ds_info.normalize_numeric))\n",
    "#     for j in range(len(y_explain)):\n",
    "#         f.write(\"{} \".format(y_explain[j]))\n",
    "#     f.write(\"\\n\")"
   ]
  },
  {
   "cell_type": "code",
   "execution_count": null,
   "metadata": {},
   "outputs": [],
   "source": [
    "# with open(\"facet_x.csv\", \"w\") as f:\n",
    "#     for i in range(x.shape[0]):\n",
    "#         for j in range(x.shape[1]):\n",
    "#             f.write(\"{},\".format(self.ds_info.unscale(x[i][j], j)))\n",
    "#         f.write(\"{}\".format(self.manager.predict([x[i]])[0]))\n",
    "#         f.write(\"\\n\")\n",
    "\n",
    "# with open(\"facet_expl.csv\", \"w\") as f:\n",
    "#     for i in range(xprime.shape[0]):\n",
    "#         for j in range(xprime.shape[1]):\n",
    "#             f.write(\"{},\".format(self.ds_info.unscale(xprime[i][j], j)))\n",
    "#         f.write(\"{},\".format(self.manager.predict([xprime[i]])[0]))\n",
    "#         f.write(\"\\n\")\n",
    "\n",
    "# with open(\"rfocse_x.csv\", \"w\") as f:\n",
    "#     for i in range(x.shape[0]):\n",
    "#         for j in range(x.shape[1]):\n",
    "#             f.write(\"{},\".format(x[i][j]))\n",
    "#         f.write(\"{},\".format(self.manager.predict([x[i]])[0]))\n",
    "#         f.write(\"\\n\")\n",
    "\n",
    "# with open(\"rfocse_expl.csv\", \"w\") as f:\n",
    "#     for i in range(xprime.shape[0]):\n",
    "#         for j in range(xprime.shape[1]):\n",
    "#             f.write(\"{},\".format(xprime[i][j], j))\n",
    "#         f.write(\"{},\".format(self.manager.predict([xprime[i]])[0]))\n",
    "#         f.write(\"\\n\")"
   ]
  },
  {
   "cell_type": "code",
   "execution_count": 3,
   "metadata": {},
   "outputs": [
    {
     "ename": "ModuleNotFoundError",
     "evalue": "No module named 'fastcrf'",
     "output_type": "error",
     "traceback": [
      "\u001b[1;31m---------------------------------------------------------------------------\u001b[0m",
      "\u001b[1;31mModuleNotFoundError\u001b[0m                       Traceback (most recent call last)",
      "\u001b[1;32mc:\\Users\\Peter\\Documents\\Peter\\9-Graduate-School\\2-dsrg\\explainable-ad\\code\\FACET\\dev_wip.ipynb Cell 7\u001b[0m in \u001b[0;36m<cell line: 6>\u001b[1;34m()\u001b[0m\n\u001b[0;32m      <a href='vscode-notebook-cell:/c%3A/Users/Peter/Documents/Peter/9-Graduate-School/2-dsrg/explainable-ad/code/FACET/dev_wip.ipynb#W6sZmlsZQ%3D%3D?line=6'>7</a>\u001b[0m \u001b[39mwhile\u001b[39;00m \u001b[39mTrue\u001b[39;00m:\n\u001b[0;32m      <a href='vscode-notebook-cell:/c%3A/Users/Peter/Documents/Peter/9-Graduate-School/2-dsrg/explainable-ad/code/FACET/dev_wip.ipynb#W6sZmlsZQ%3D%3D?line=7'>8</a>\u001b[0m     \u001b[39mtry\u001b[39;00m:\n\u001b[1;32m----> <a href='vscode-notebook-cell:/c%3A/Users/Peter/Documents/Peter/9-Graduate-School/2-dsrg/explainable-ad/code/FACET/dev_wip.ipynb#W6sZmlsZQ%3D%3D?line=8'>9</a>\u001b[0m         objects\u001b[39m.\u001b[39mappend(pickle\u001b[39m.\u001b[39;49mload(openfile))\n\u001b[0;32m     <a href='vscode-notebook-cell:/c%3A/Users/Peter/Documents/Peter/9-Graduate-School/2-dsrg/explainable-ad/code/FACET/dev_wip.ipynb#W6sZmlsZQ%3D%3D?line=9'>10</a>\u001b[0m     \u001b[39mexcept\u001b[39;00m \u001b[39mEOFError\u001b[39;00m:\n\u001b[0;32m     <a href='vscode-notebook-cell:/c%3A/Users/Peter/Documents/Peter/9-Graduate-School/2-dsrg/explainable-ad/code/FACET/dev_wip.ipynb#W6sZmlsZQ%3D%3D?line=10'>11</a>\u001b[0m         \u001b[39mbreak\u001b[39;00m\n",
      "\u001b[1;31mModuleNotFoundError\u001b[0m: No module named 'fastcrf'"
     ]
    }
   ],
   "source": [
    "# import pickle\n",
    "\n",
    "# path = \"dataset_info.pickle\"\n",
    "\n",
    "# objects = []\n",
    "# with (open(path, \"rb\")) as openfile:\n",
    "#     while True:\n",
    "#         try:\n",
    "#             objects.append(pickle.load(openfile))\n",
    "#         except EOFError:\n",
    "#             break\n",
    "# objects"
   ]
  }
 ],
 "metadata": {
  "kernelspec": {
   "display_name": "dsrg",
   "language": "python",
   "name": "python3"
  },
  "language_info": {
   "codemirror_mode": {
    "name": "ipython",
    "version": 3
   },
   "file_extension": ".py",
   "mimetype": "text/x-python",
   "name": "python",
   "nbconvert_exporter": "python",
   "pygments_lexer": "ipython3",
   "version": "3.8.13"
  },
  "orig_nbformat": 4
 },
 "nbformat": 4,
 "nbformat_minor": 2
}
