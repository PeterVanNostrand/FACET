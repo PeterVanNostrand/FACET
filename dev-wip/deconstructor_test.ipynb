{
 "cells": [
  {
   "cell_type": "code",
   "execution_count": 12,
   "metadata": {},
   "outputs": [],
   "source": [
    "class Test():\n",
    "    def __init__(self):\n",
    "        print(\"constructed\")\n",
    "    \n",
    "    def __del__(self):\n",
    "        print(\"destructed\")"
   ]
  },
  {
   "cell_type": "code",
   "execution_count": 9,
   "metadata": {},
   "outputs": [
    {
     "name": "stdout",
     "output_type": "stream",
     "text": [
      "constructed\n"
     ]
    }
   ],
   "source": [
    "t = Test()"
   ]
  },
  {
   "cell_type": "code",
   "execution_count": 11,
   "metadata": {},
   "outputs": [
    {
     "name": "stdout",
     "output_type": "stream",
     "text": [
      "destructed\n"
     ]
    }
   ],
   "source": [
    "del t"
   ]
  },
  {
   "cell_type": "code",
   "execution_count": 13,
   "metadata": {},
   "outputs": [
    {
     "name": "stdout",
     "output_type": "stream",
     "text": [
      "constructed\n",
      "constructed\n",
      "constructed\n"
     ]
    }
   ],
   "source": [
    "list_t = [Test(), Test(), Test()]"
   ]
  },
  {
   "cell_type": "code",
   "execution_count": 14,
   "metadata": {},
   "outputs": [
    {
     "name": "stdout",
     "output_type": "stream",
     "text": [
      "destructed\n",
      "destructed\n",
      "destructed\n"
     ]
    }
   ],
   "source": [
    "del list_t"
   ]
  }
 ],
 "metadata": {
  "interpreter": {
   "hash": "0ee1fceac40cd608145abbd18cebcc49c15aa542c45457ebe635f49f93e12ec7"
  },
  "kernelspec": {
   "display_name": "Python 3.8.8 ('dsrg')",
   "language": "python",
   "name": "python3"
  },
  "language_info": {
   "codemirror_mode": {
    "name": "ipython",
    "version": 3
   },
   "file_extension": ".py",
   "mimetype": "text/x-python",
   "name": "python",
   "nbconvert_exporter": "python",
   "pygments_lexer": "ipython3",
   "version": "3.8.8"
  },
  "orig_nbformat": 4
 },
 "nbformat": 4,
 "nbformat_minor": 2
}
