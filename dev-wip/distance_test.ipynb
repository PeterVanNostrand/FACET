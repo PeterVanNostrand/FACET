{
    "cells": [
        {
            "cell_type": "code",
            "execution_count": 1,
            "source": [
                "import numpy as np"
            ],
            "outputs": [],
            "metadata": {}
        },
        {
            "cell_type": "code",
            "execution_count": 2,
            "source": [
                "def dist_euclidean(x, xprime):\r\n",
                "    '''\r\n",
                "    Computes the euclidean distance between `x` and `xprime`\r\n",
                "\r\n",
                "    Parameters\r\n",
                "    ----------\r\n",
                "    x      : a array of dimension d\r\n",
                "    xprime : an array of dimension d+1\r\n",
                "\r\n",
                "    Returns\r\n",
                "    -------\r\n",
                "    distance : an array of dimension d+1 containing the Euclidean distance between x and each example in xprime\r\n",
                "    '''\r\n",
                "    diff = x - xprime\r\n",
                "    squared_diff = np.square(diff)\r\n",
                "    if len(xprime.shape) == 3:\r\n",
                "        sos_diff = np.sum(squared_diff, axis=2)\r\n",
                "    elif len(xprime.shape) == 2:\r\n",
                "        sos_diff = np.sum(squared_diff, axis=1)\r\n",
                "    else:\r\n",
                "        sos_diff = np.sum(squared_diff)\r\n",
                "\r\n",
                "    distance = np.sqrt(sos_diff)\r\n",
                "    return distance"
            ],
            "outputs": [],
            "metadata": {}
        },
        {
            "cell_type": "code",
            "execution_count": 28,
            "source": [
                "def dist_features_changed(x, xprime):\r\n",
                "    '''\r\n",
                "    Computes the euclidean distance between `x` and `xprime`\r\n",
                "\r\n",
                "    Parameters\r\n",
                "    ----------\r\n",
                "    x      : a array of dimension d\r\n",
                "    xprime : an array of dimension d+1\r\n",
                "\r\n",
                "    Returns\r\n",
                "    -------\r\n",
                "    distance : an array of dimension d+1 containing the Euclidean distance between x and each example in xprime\r\n",
                "    '''\r\n",
                "    if len(xprime.shape) == 3:\r\n",
                "        distance = (x != xprime).sum(axis=2)\r\n",
                "    elif len(xprime.shape) == 2:\r\n",
                "        distance = (x != xprime).sum(axis=1)\r\n",
                "    else:\r\n",
                "        distance = (x != xprime).sum()\r\n",
                "\r\n",
                "    return distance"
            ],
            "outputs": [],
            "metadata": {}
        },
        {
            "cell_type": "code",
            "execution_count": 36,
            "source": [
                "# both (nfeatures,)\r\n",
                "x = np.array([1, 1, 1, 1])\r\n",
                "xprime = np.tile(0, (4,))\r\n",
                "print(x.shape, x)\r\n",
                "print(xprime.shape, xprime)\r\n",
                "print(features_changed(x, xprime))"
            ],
            "outputs": [
                {
                    "output_type": "stream",
                    "name": "stdout",
                    "text": [
                        "(4,) [1 1 1 1]\n",
                        "(4,) [0 0 0 0]\n",
                        "4\n"
                    ]
                }
            ],
            "metadata": {}
        },
        {
            "cell_type": "code",
            "execution_count": 41,
            "source": [
                "# x (nfeatures,) xprime (nsamples, nfeatures)\r\n",
                "x = np.array([1, 1, 1, 1])\r\n",
                "xprime = np.array([\r\n",
                "    [1, 1, 1, 1],\r\n",
                "    [1, 1, 1, 0],\r\n",
                "    [1, 1, 0, 0],\r\n",
                "    [1, 0, 0, 0],\r\n",
                "    [0, 0, 0, 0]\r\n",
                "])\r\n",
                "print(x.shape, x)\r\n",
                "print(xprime.shape)\r\n",
                "print(xprime)\r\n",
                "print(features_changed(x, xprime))"
            ],
            "outputs": [
                {
                    "output_type": "stream",
                    "name": "stdout",
                    "text": [
                        "(4,) [1 1 1 1]\n",
                        "(5, 4)\n",
                        "[[1 1 1 1]\n",
                        " [1 1 1 0]\n",
                        " [1 1 0 0]\n",
                        " [1 0 0 0]\n",
                        " [0 0 0 0]]\n",
                        "[0 1 2 3 4]\n"
                    ]
                }
            ],
            "metadata": {}
        },
        {
            "cell_type": "code",
            "execution_count": 47,
            "source": [
                "# x (nfeatures,) xprime (ndetectors, nsamples, nfeatures)\r\n",
                "x = np.array([1, 1, 1, 1])\r\n",
                "xprime = np.empty((2, 5, 4))\r\n",
                "xprime[0] = np.array([\r\n",
                "    [1, 1, 1, 1],\r\n",
                "    [1, 1, 1, 0],\r\n",
                "    [1, 1, 0, 0],\r\n",
                "    [1, 0, 0, 0],\r\n",
                "    [0, 0, 0, 0]\r\n",
                "])\r\n",
                "\r\n",
                "xprime[1] = np.array([\r\n",
                "    [0, 0, 0, 0],\r\n",
                "    [1, 0, 0, 0],\r\n",
                "    [1, 1, 0, 0],\r\n",
                "    [1, 1, 1, 0],\r\n",
                "    [1, 1, 1, 1]\r\n",
                "])\r\n",
                "\r\n",
                "print(x.shape, x)\r\n",
                "print(xprime.shape)\r\n",
                "print(xprime)\r\n",
                "\r\n",
                "print(features_changed(x, xprime))"
            ],
            "outputs": [
                {
                    "output_type": "stream",
                    "name": "stdout",
                    "text": [
                        "(4,) [1 1 1 1]\n",
                        "(2, 5, 4)\n",
                        "[[[1. 1. 1. 1.]\n",
                        "  [1. 1. 1. 0.]\n",
                        "  [1. 1. 0. 0.]\n",
                        "  [1. 0. 0. 0.]\n",
                        "  [0. 0. 0. 0.]]\n",
                        "\n",
                        " [[0. 0. 0. 0.]\n",
                        "  [1. 0. 0. 0.]\n",
                        "  [1. 1. 0. 0.]\n",
                        "  [1. 1. 1. 0.]\n",
                        "  [1. 1. 1. 1.]]]\n",
                        "[[0 1 2 3 4]\n",
                        " [4 3 2 1 0]]\n"
                    ]
                }
            ],
            "metadata": {}
        },
        {
            "cell_type": "code",
            "execution_count": 50,
            "source": [
                "# x (nsamples, nfeatures) xprime (ndetectors, nsamples, nfeatures)\r\n",
                "x = np.array([\r\n",
                "    [1, 1, 1, 1],\r\n",
                "    [0, 0, 0, 0],\r\n",
                "    [1, 1, 0, 0],\r\n",
                "    [1, 1, 1, 0],\r\n",
                "    [1, 0, 0, 0]\r\n",
                "])\r\n",
                "xprime = np.empty((2, 5, 4))\r\n",
                "xprime[0] = np.array([\r\n",
                "    [1, 1, 1, 1],\r\n",
                "    [1, 1, 1, 0],\r\n",
                "    [1, 1, 0, 0],\r\n",
                "    [1, 0, 0, 0],\r\n",
                "    [0, 0, 0, 0]\r\n",
                "])\r\n",
                "\r\n",
                "xprime[1] = np.array([\r\n",
                "    [0, 0, 0, 0],\r\n",
                "    [1, 0, 0, 0],\r\n",
                "    [1, 1, 0, 0],\r\n",
                "    [1, 1, 1, 0],\r\n",
                "    [1, 1, 1, 1]\r\n",
                "])\r\n",
                "\r\n",
                "print(x.shape)\r\n",
                "print(x)\r\n",
                "print(xprime.shape)\r\n",
                "print(xprime)\r\n",
                "\r\n",
                "print(features_changed(x, xprime))"
            ],
            "outputs": [
                {
                    "output_type": "stream",
                    "name": "stdout",
                    "text": [
                        "(5, 4)\n",
                        "[[1 1 1 1]\n",
                        " [0 0 0 0]\n",
                        " [1 1 0 0]\n",
                        " [1 1 1 0]\n",
                        " [1 0 0 0]]\n",
                        "(2, 5, 4)\n",
                        "[[[1. 1. 1. 1.]\n",
                        "  [1. 1. 1. 0.]\n",
                        "  [1. 1. 0. 0.]\n",
                        "  [1. 0. 0. 0.]\n",
                        "  [0. 0. 0. 0.]]\n",
                        "\n",
                        " [[0. 0. 0. 0.]\n",
                        "  [1. 0. 0. 0.]\n",
                        "  [1. 1. 0. 0.]\n",
                        "  [1. 1. 1. 0.]\n",
                        "  [1. 1. 1. 1.]]]\n",
                        "[[0 3 0 2 1]\n",
                        " [4 1 0 0 3]]\n"
                    ]
                }
            ],
            "metadata": {}
        }
    ],
    "metadata": {
        "orig_nbformat": 4,
        "language_info": {
            "name": "python",
            "version": "3.8.8",
            "mimetype": "text/x-python",
            "codemirror_mode": {
                "name": "ipython",
                "version": 3
            },
            "pygments_lexer": "ipython3",
            "nbconvert_exporter": "python",
            "file_extension": ".py"
        },
        "kernelspec": {
            "name": "python3",
            "display_name": "Python 3.8.8 64-bit ('dsrg': conda)"
        },
        "interpreter": {
            "hash": "0ee1fceac40cd608145abbd18cebcc49c15aa542c45457ebe635f49f93e12ec7"
        }
    },
    "nbformat": 4,
    "nbformat_minor": 2
}