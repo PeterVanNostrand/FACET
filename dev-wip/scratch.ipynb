{
 "cells": [
  {
   "cell_type": "code",
   "execution_count": 1,
   "metadata": {},
   "outputs": [],
   "source": [
    "import numpy as np"
   ]
  },
  {
   "cell_type": "code",
   "execution_count": 24,
   "metadata": {},
   "outputs": [
    {
     "name": "stdout",
     "output_type": "stream",
     "text": [
      "[[ 1  2  3  4]\n",
      " [ 5  6  7  8]\n",
      " [ 9 10 11 12]\n",
      " [13 14 15 16]\n",
      " [17 18 19 20]]\n",
      "[[21 22 23 24]\n",
      " [25 26 27 28]\n",
      " [29 30 31 32]\n",
      " [33 34 35 36]\n",
      " [37 38 39 40]]\n",
      "[[41 42 43 44]\n",
      " [45 46 47 48]\n",
      " [49 50 51 52]\n",
      " [53 54 55 56]\n",
      " [57 58 59 60]]\n"
     ]
    }
   ],
   "source": [
    "x = np.array([[i+1 for i in range(j, j+4)] for j in range(0,20,4)])\r\n",
    "y = np.array([[i+1 for i in range(j, j+4)] for j in range(20,40,4)])\r\n",
    "z = np.array([[i+1 for i in range(j, j+4)] for j in range(40,60,4)])\r\n",
    "print(x)\r\n",
    "print(y)\r\n",
    "print(z)\r\n",
    "arr_list = [x, y, z]"
   ]
  },
  {
   "cell_type": "code",
   "execution_count": 25,
   "metadata": {},
   "outputs": [
    {
     "name": "stdout",
     "output_type": "stream",
     "text": [
      "[[ 1  2  3  4]\n",
      " [ 5  6  7  8]\n",
      " [ 9 10 11 12]\n",
      " [13 14 15 16]\n",
      " [17 18 19 20]\n",
      " [21 22 23 24]\n",
      " [25 26 27 28]\n",
      " [29 30 31 32]\n",
      " [33 34 35 36]\n",
      " [37 38 39 40]\n",
      " [41 42 43 44]\n",
      " [45 46 47 48]\n",
      " [49 50 51 52]\n",
      " [53 54 55 56]\n",
      " [57 58 59 60]]\n",
      "[[[ 1  2  3  4]\n",
      "  [ 5  6  7  8]\n",
      "  [ 9 10 11 12]\n",
      "  [13 14 15 16]\n",
      "  [17 18 19 20]]\n",
      "\n",
      " [[21 22 23 24]\n",
      "  [25 26 27 28]\n",
      "  [29 30 31 32]\n",
      "  [33 34 35 36]\n",
      "  [37 38 39 40]]\n",
      "\n",
      " [[41 42 43 44]\n",
      "  [45 46 47 48]\n",
      "  [49 50 51 52]\n",
      "  [53 54 55 56]\n",
      "  [57 58 59 60]]]\n"
     ]
    }
   ],
   "source": [
    "res1 = np.vstack(arr_list)\r\n",
    "res2 = np.array(arr_list)\r\n",
    "print(res1)\r\n",
    "print(res2)"
   ]
  },
  {
   "cell_type": "code",
   "execution_count": 26,
   "metadata": {},
   "outputs": [
    {
     "data": {
      "text/plain": "(3, 5, 4)"
     },
     "execution_count": 26,
     "metadata": {},
     "output_type": "execute_result"
    }
   ],
   "source": [
    "res2.shape"
   ]
  },
  {
   "cell_type": "code",
   "execution_count": 27,
   "metadata": {},
   "outputs": [
    {
     "name": "stdout",
     "output_type": "stream",
     "text": [
      "[[[ 1  2  3  4]\n",
      "  [21 22 23 24]\n",
      "  [41 42 43 44]]\n",
      "\n",
      " [[ 5  6  7  8]\n",
      "  [25 26 27 28]\n",
      "  [45 46 47 48]]\n",
      "\n",
      " [[ 9 10 11 12]\n",
      "  [29 30 31 32]\n",
      "  [49 50 51 52]]\n",
      "\n",
      " [[13 14 15 16]\n",
      "  [33 34 35 36]\n",
      "  [53 54 55 56]]\n",
      "\n",
      " [[17 18 19 20]\n",
      "  [37 38 39 40]\n",
      "  [57 58 59 60]]]\n"
     ]
    }
   ],
   "source": [
    "res3 = np.swapaxes(res2, 0, 1)\r\n",
    "print(res3)"
   ]
  },
  {
   "cell_type": "code",
   "execution_count": 33,
   "metadata": {},
   "outputs": [
    {
     "data": {
      "text/plain": "array([[ 10,  90, 170],\n       [ 26, 106, 186],\n       [ 42, 122, 202],\n       [ 58, 138, 218],\n       [ 74, 154, 234]])"
     },
     "execution_count": 33,
     "metadata": {},
     "output_type": "execute_result"
    }
   ],
   "source": [
    "ntrees = 3\r\n",
    "nsamples = x.shape[0]\r\n",
    "nfeatures = x.shape[1]\r\n",
    "\r\n",
    "np.sum(res3.reshape((ntrees*nsamples, nfeatures)), axis=1).reshape((nsamples, ntrees))"
   ]
  },
  {
   "cell_type": "code",
   "execution_count": 44,
   "metadata": {},
   "outputs": [],
   "source": [
    "def euclidean_distance(x, xprime):\r\n",
    "    '''\r\n",
    "    Computes the euclidean distance between `x` and `xprime`\r\n",
    "\r\n",
    "    Parameters\r\n",
    "    ----------\r\n",
    "    x      : a array of dimension d\r\n",
    "    xprime : an array of dimension d+1\r\n",
    "\r\n",
    "    Returns\r\n",
    "    -------\r\n",
    "    distance : an array of dimension d+1 containing the Euclidean distance between x and each example in xprime\r\n",
    "    '''\r\n",
    "    diff = x - xprime\r\n",
    "    squared_diff = np.square(diff)\r\n",
    "    if len(xprime.shape) == 3:\r\n",
    "        sos_diff = np.sum(squared_diff, axis=2)\r\n",
    "    elif len(xprime.shape) == 2:\r\n",
    "        sos_diff = np.sum(squared_diff, axis=1)\r\n",
    "    else:\r\n",
    "        sos_diff = np.sum(squared_diff)\r\n",
    "\r\n",
    "    distance = np.sqrt(sos_diff)\r\n",
    "    return distance"
   ]
  },
  {
   "cell_type": "code",
   "execution_count": 46,
   "metadata": {},
   "outputs": [
    {
     "data": {
      "text/plain": "2.0"
     },
     "execution_count": 46,
     "metadata": {},
     "output_type": "execute_result"
    }
   ],
   "source": [
    "x = np.array([0, 0, 0, 0])\r\n",
    "xprime = np.array([1, 1, 1, 1])\r\n",
    "\r\n",
    "euclidean_distance(x, xprime)"
   ]
  },
  {
   "cell_type": "code",
   "execution_count": 48,
   "metadata": {},
   "outputs": [
    {
     "data": {
      "text/plain": "array([2., 4.])"
     },
     "execution_count": 48,
     "metadata": {},
     "output_type": "execute_result"
    }
   ],
   "source": [
    "x = np.array([0, 0, 0, 0])\r\n",
    "xprime = np.array([[1, 1, 1, 1], [2,2,2,2]])\r\n",
    "\r\n",
    "euclidean_distance(x, xprime)"
   ]
  },
  {
   "cell_type": "code",
   "execution_count": 45,
   "metadata": {},
   "outputs": [
    {
     "data": {
      "text/plain": "array([[ 2.,  4.],\n       [ 6.,  8.],\n       [10., 12.]])"
     },
     "execution_count": 45,
     "metadata": {},
     "output_type": "execute_result"
    }
   ],
   "source": [
    "x = np.array([0, 0, 0, 0])\r\n",
    "xprime = np.array( [[[1, 1, 1, 1], [2,2,2,2]],\r\n",
    "                    [[3, 3, 3, 3], [4, 4, 4, 4]],\r\n",
    "                    [[5, 5, 5, 5], [6, 6, 6, 6]]])\r\n",
    "\r\n",
    "euclidean_distance(x, xprime)"
   ]
  },
  {
   "cell_type": "code",
   "execution_count": 50,
   "metadata": {},
   "outputs": [
    {
     "data": {
      "text/plain": "(2, 4)"
     },
     "execution_count": 50,
     "metadata": {},
     "output_type": "execute_result"
    }
   ],
   "source": [
    "xprime.reshape((8,1))\r\n",
    "xprime.shape"
   ]
  },
  {
   "cell_type": "code",
   "execution_count": 6,
   "metadata": {},
   "outputs": [
    {
     "name": "stdout",
     "output_type": "stream",
     "text": [
      "[array([2.12199579e-314, 6.23059386e-307, 3.43869690e-321, 6.95208261e-310]), array([2.12199579e-314, 6.23059386e-307, 3.43869690e-321, 6.95208261e-310]), array([2.12199579e-314, 6.23059386e-307, 3.43869690e-321, 6.95208261e-310]), array([2.12199579e-314, 6.23059386e-307, 3.43869690e-321, 6.95208261e-310]), array([2.12199579e-314, 6.23059386e-307, 3.43869690e-321, 6.95208261e-310]), array([2.12199579e-314, 6.23059386e-307, 3.43869690e-321, 6.95208261e-310]), array([2.12199579e-314, 6.23059386e-307, 3.43869690e-321, 6.95208261e-310]), array([2.12199579e-314, 6.23059386e-307, 3.43869690e-321, 6.95208261e-310]), array([2.12199579e-314, 6.23059386e-307, 3.43869690e-321, 6.95208261e-310]), array([2.12199579e-314, 6.23059386e-307, 3.43869690e-321, 6.95208261e-310])]\n"
     ]
    }
   ],
   "source": [
    "import numpy as np\r\n",
    "a = [np.empty(shape=(4,))]*10\r\n",
    "print(a)\r\n"
   ]
  },
  {
   "cell_type": "code",
   "execution_count": 24,
   "metadata": {},
   "outputs": [
    {
     "name": "stdout",
     "output_type": "stream",
     "text": [
      "0\n",
      "[[], []]\n",
      "[]\n"
     ]
    }
   ],
   "source": [
    "mlist = [[]] * 2\r\n",
    "\r\n",
    "\r\n",
    "\r\n",
    "# mlist[0] = [1]\r\n",
    "\r\n",
    "# mlist[0].extend([1,2,3])\r\n",
    "\r\n",
    "print(len(mlist[0]))\r\n",
    "\r\n",
    "print(mlist)\r\n",
    "print(mlist[0])"
   ]
  },
  {
   "cell_type": "code",
   "execution_count": 26,
   "metadata": {},
   "outputs": [
    {
     "data": {
      "text/plain": "array([[0, 0, 0, 0],\n       [1, 1, 1, 1],\n       [2, 2, 2, 2]])"
     },
     "execution_count": 26,
     "metadata": {},
     "output_type": "execute_result"
    }
   ],
   "source": [
    "a = np.array([0, 0, 0, 0])\r\n",
    "b = np.array([[1, 1, 1, 1], [2,2,2,2]])\r\n",
    "np.vstack([a, b])"
   ]
  },
  {
   "cell_type": "code",
   "execution_count": 27,
   "metadata": {},
   "outputs": [
    {
     "data": {
      "text/plain": "array([[nan, nan, nan, nan],\n       [nan, nan, nan, nan]])"
     },
     "execution_count": 27,
     "metadata": {},
     "output_type": "execute_result"
    }
   ],
   "source": [
    "np.tile(np.nan, (2,4))"
   ]
  },
  {
   "cell_type": "code",
   "execution_count": 29,
   "metadata": {},
   "outputs": [
    {
     "data": {
      "text/plain": "'test   3 test'"
     },
     "execution_count": 29,
     "metadata": {},
     "output_type": "execute_result"
    }
   ],
   "source": [
    "\"test {a:3d} test\".format(a=3)"
   ]
  },
  {
   "cell_type": "code",
   "execution_count": 37,
   "metadata": {},
   "outputs": [
    {
     "name": "stdout",
     "output_type": "stream",
     "text": [
      "False\n",
      "-1\n"
     ]
    },
    {
     "data": {
      "text/plain": "1"
     },
     "execution_count": 37,
     "metadata": {},
     "output_type": "execute_result"
    }
   ],
   "source": [
    "a = [1, 2, 3, 4]\r\n",
    "idx = (a == [1])\r\n",
    "print(idx)\r\n",
    "print(~idx)\r\n",
    "a[idx]"
   ]
  },
  {
   "cell_type": "code",
   "execution_count": 15,
   "metadata": {},
   "outputs": [],
   "source": [
    "import scipy.io as sio\r\n",
    "import os\r\n",
    "data_path = os.path.abspath(\"./data/thyroid/thyroid.mat\")\r\n",
    "\r\n",
    "data_dict = sio.loadmat(\"./data/thyroid/thyroid.mat\")"
   ]
  },
  {
   "cell_type": "code",
   "execution_count": 11,
   "metadata": {},
   "outputs": [
    {
     "data": {
      "text/plain": "dict_keys(['__header__', '__version__', '__globals__', 'X', 'y'])"
     },
     "execution_count": 11,
     "metadata": {},
     "output_type": "execute_result"
    }
   ],
   "source": [
    "data_dict.keys()"
   ]
  },
  {
   "cell_type": "code",
   "execution_count": 17,
   "metadata": {},
   "outputs": [],
   "source": [
    "x = data_dict[\"X\"]\r\n",
    "y = data_dict[\"y\"]"
   ]
  },
  {
   "cell_type": "code",
   "execution_count": 25,
   "metadata": {},
   "outputs": [
    {
     "name": "stdout",
     "output_type": "stream",
     "text": [
      "data dim: (3772, 6)\n",
      "num classes: [0. 1.]\n",
      "num class 0: 3679\n",
      "num class 1: 93\n"
     ]
    }
   ],
   "source": [
    "import numpy as np\r\n",
    "print(\"data dim:\", x.shape)\r\n",
    "print(\"num classes:\", np.unique(y))\r\n",
    "print(\"num class 0:\", (y==0).sum())\r\n",
    "print(\"num class 1:\", (y==1).sum())\r\n"
   ]
  },
  {
   "cell_type": "code",
   "execution_count": 2,
   "metadata": {},
   "outputs": [
    {
     "name": "stdout",
     "output_type": "stream",
     "text": [
      "{'a': 2, 'b': 4}\n"
     ]
    }
   ],
   "source": [
    "mydict = {\r\n",
    "    \"a\": 2,\r\n",
    "    \"b\" : 4\r\n",
    "}\r\n",
    "print(mydict)"
   ]
  },
  {
   "cell_type": "code",
   "execution_count": 11,
   "metadata": {},
   "outputs": [
    {
     "data": {
      "text/html": "<div>\n<style scoped>\n    .dataframe tbody tr th:only-of-type {\n        vertical-align: middle;\n    }\n\n    .dataframe tbody tr th {\n        vertical-align: top;\n    }\n\n    .dataframe thead th {\n        text-align: right;\n    }\n</style>\n<table border=\"1\" class=\"dataframe\">\n  <thead>\n    <tr style=\"text-align: right;\">\n      <th></th>\n      <th>accuracy</th>\n      <th>precision</th>\n      <th>recall</th>\n      <th>f1</th>\n      <th>conversion_rate</th>\n      <th>mean_distance</th>\n    </tr>\n  </thead>\n  <tbody>\n  </tbody>\n</table>\n</div>",
      "text/plain": "Empty DataFrame\nColumns: [accuracy, precision, recall, f1, conversion_rate, mean_distance]\nIndex: []"
     },
     "execution_count": 11,
     "metadata": {},
     "output_type": "execute_result"
    }
   ],
   "source": [
    "import pandas as pd\r\n",
    "results = pd.DataFrame(columns=[\"accuracy\", \"precision\", \"recall\", \"f1\", \"conversion_rate\", \"mean_distance\"])\r\n",
    "results"
   ]
  },
  {
   "cell_type": "code",
   "execution_count": 13,
   "metadata": {},
   "outputs": [
    {
     "data": {
      "text/html": "<div>\n<style scoped>\n    .dataframe tbody tr th:only-of-type {\n        vertical-align: middle;\n    }\n\n    .dataframe tbody tr th {\n        vertical-align: top;\n    }\n\n    .dataframe thead th {\n        text-align: right;\n    }\n</style>\n<table border=\"1\" class=\"dataframe\">\n  <thead>\n    <tr style=\"text-align: right;\">\n      <th></th>\n      <th>accuracy</th>\n      <th>precision</th>\n      <th>recall</th>\n      <th>f1</th>\n      <th>conversion_rate</th>\n      <th>mean_distance</th>\n    </tr>\n  </thead>\n  <tbody>\n    <tr>\n      <th>0</th>\n      <td>0.9888</td>\n      <td>1.0</td>\n      <td>0.8</td>\n      <td>0.76</td>\n      <td>1.0</td>\n      <td>0.08</td>\n    </tr>\n  </tbody>\n</table>\n</div>",
      "text/plain": "   accuracy  precision  recall    f1  conversion_rate  mean_distance\n0    0.9888        1.0     0.8  0.76              1.0           0.08"
     },
     "execution_count": 13,
     "metadata": {},
     "output_type": "execute_result"
    }
   ],
   "source": [
    "accuracy = 0.9888\r\n",
    "precision = 1.0\r\n",
    "recall = 0.8\r\n",
    "f1 = 0.76\r\n",
    "conv_rate = 1.0\r\n",
    "mean_dist = 0.08\r\n",
    "\r\n",
    "run_result = {\r\n",
    "    \"accuracy\" : accuracy,\r\n",
    "    \"precision\" : precision,\r\n",
    "    \"recall\" : recall,\r\n",
    "    \"f1\" : f1,\r\n",
    "    \"conversion_rate\" : conv_rate,\r\n",
    "    \"mean_distance\" : mean_dist\r\n",
    "}\r\n",
    "\r\n",
    "results = results.append(run_result, ignore_index=True)\r\n",
    "results"
   ]
  },
  {
   "cell_type": "code",
   "execution_count": 16,
   "metadata": {},
   "outputs": [],
   "source": [
    "import os\r\n",
    "results_dir = \"./results1\"\r\n",
    "if not os.path.isdir(\"./results1\"):\r\n",
    "    os.makedirs(results_dir)"
   ]
  }
 ],
 "metadata": {
  "kernelspec": {
   "display_name": "Python 3.8.8 64-bit ('dsrg': conda)",
   "name": "python388jvsc74a57bd00ee1fceac40cd608145abbd18cebcc49c15aa542c45457ebe635f49f93e12ec7"
  },
  "language_info": {
   "codemirror_mode": {
    "name": "ipython",
    "version": 3
   },
   "file_extension": ".py",
   "mimetype": "text/x-python",
   "name": "python",
   "nbconvert_exporter": "python",
   "pygments_lexer": "ipython3",
   "version": "3.8.8"
  },
  "orig_nbformat": 2
 },
 "nbformat": 4,
 "nbformat_minor": 2
}