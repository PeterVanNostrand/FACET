{
 "cells": [
  {
   "cell_type": "code",
   "execution_count": 75,
   "metadata": {},
   "outputs": [
    {
     "name": "stdout",
     "output_type": "stream",
     "text": [
      "2\n"
     ]
    }
   ],
   "source": [
    "import os\r\n",
    "import re\r\n",
    "\r\n",
    "max_run_id = 0\r\n",
    "\r\n",
    "dir_names = os.listdir(\"../results/vary-ntrees\")\r\n",
    "for name in dir_names:\r\n",
    "    x = re.match(\"run-(\\d{3})\", name)\r\n",
    "    if x is not None:\r\n",
    "        found_run_id = int(x.group(1))\r\n",
    "        if found_run_id > max_run_id:\r\n",
    "            max_run_id = found_run_id\r\n",
    "run_id = max_run_id + 1\r\n",
    "\r\n",
    "print(run_id)\r\n"
   ]
  },
  {
   "cell_type": "code",
   "execution_count": 76,
   "metadata": {},
   "outputs": [
    {
     "name": "stdout",
     "output_type": "stream",
     "text": [
      "c:\\Users\\Peter\\Documents\\Peter\\9-Graduate-School\\dsrg\\explainable-ad\\code\\HEEAD\\results\\vary-ntrees\\run-002\n"
     ]
    }
   ],
   "source": [
    "dir_path=\"../results/vary-ntrees\"\r\n",
    "run_dir = \"run-{:03d}\".format(run_id)\r\n",
    "\r\n",
    "run_path = os.path.join(os.path.abspath(dir_path), run_dir)\r\n",
    "print(run_path)"
   ]
  }
 ],
 "metadata": {
  "interpreter": {
   "hash": "0ee1fceac40cd608145abbd18cebcc49c15aa542c45457ebe635f49f93e12ec7"
  },
  "kernelspec": {
   "display_name": "Python 3.8.8 64-bit ('dsrg': conda)",
   "name": "python3"
  },
  "language_info": {
   "codemirror_mode": {
    "name": "ipython",
    "version": 3
   },
   "file_extension": ".py",
   "mimetype": "text/x-python",
   "name": "python",
   "nbconvert_exporter": "python",
   "pygments_lexer": "ipython3",
   "version": "3.8.8"
  },
  "orig_nbformat": 2
 },
 "nbformat": 4,
 "nbformat_minor": 2
}