{
 "cells": [
  {
   "cell_type": "code",
   "execution_count": 1,
   "metadata": {},
   "outputs": [
    {
     "data": {
      "text/plain": [
       "bitarray('1010111100011011')"
      ]
     },
     "execution_count": 1,
     "metadata": {},
     "output_type": "execute_result"
    }
   ],
   "source": [
    "import numpy as np\n",
    "from bitarray import bitarray\n",
    "\n",
    "bit_vector = [True, False, True, False, True, True, True, True, False, False, False, True, True, False, True, True]\n",
    "a = bitarray(bit_vector)\n",
    "a"
   ]
  },
  {
   "cell_type": "code",
   "execution_count": 2,
   "metadata": {},
   "outputs": [
    {
     "data": {
      "text/plain": [
       "(1937217238144, 2, 'big', 0, 4, 0, 0, 0)"
      ]
     },
     "execution_count": 2,
     "metadata": {},
     "output_type": "execute_result"
    }
   ],
   "source": [
    "a.buffer_info()"
   ]
  },
  {
   "cell_type": "code",
   "execution_count": 5,
   "metadata": {},
   "outputs": [],
   "source": [
    "ndimension = 3\n",
    "m = 4\n",
    "rbv = [[[bitarray() for _ in range(m)] for _ in range(2)] for _ in range(ndimension)]\n",
    "# Dim LowerBoundVectors   UpperBoundVectors\n",
    "#  0  [P1L, P2L ... PML], [P1U, P2U ... PMU]\n",
    "#  1  [P1L, P2L ... PML], [P1U, P2U ... PMU]\n",
    "#          .......             .......\n",
    "#  D  [P1L, P2L ... PML], [P1U, P2U ... PMU]\n",
    "# rbv[dimension][lower/upper][interval]"
   ]
  },
  {
   "cell_type": "code",
   "execution_count": 12,
   "metadata": {},
   "outputs": [],
   "source": [
    "LOWER = 0\n",
    "UPPER = 1\n",
    "\n",
    "rbv[0][LOWER][0].extend(bit_vector)"
   ]
  },
  {
   "cell_type": "code",
   "execution_count": 14,
   "metadata": {},
   "outputs": [],
   "source": [
    "rbv[0][UPPER][1].extend(bit_vector)"
   ]
  },
  {
   "cell_type": "code",
   "execution_count": 15,
   "metadata": {},
   "outputs": [
    {
     "data": {
      "text/plain": [
       "[[[bitarray('1010111100011011'), bitarray(), bitarray(), bitarray()],\n",
       "  [bitarray(), bitarray('1010111100011011'), bitarray(), bitarray()]],\n",
       " [[bitarray(), bitarray(), bitarray(), bitarray()],\n",
       "  [bitarray(), bitarray(), bitarray(), bitarray()]],\n",
       " [[bitarray(), bitarray(), bitarray(), bitarray()],\n",
       "  [bitarray(), bitarray(), bitarray(), bitarray()]]]"
      ]
     },
     "execution_count": 15,
     "metadata": {},
     "output_type": "execute_result"
    }
   ],
   "source": [
    "rbv"
   ]
  },
  {
   "cell_type": "code",
   "execution_count": 20,
   "metadata": {},
   "outputs": [
    {
     "name": "stdout",
     "output_type": "stream",
     "text": [
      "bitarray('1111111111111111')\n"
     ]
    },
    {
     "name": "stderr",
     "output_type": "stream",
     "text": [
      "<ipython-input-20-b42b6964a131>:2: DeprecationWarning: In future, it will be an error for 'np.bool_' scalars to be interpreted as an index\n",
      "  b.extend(np.tile(True, 16))\n"
     ]
    },
    {
     "data": {
      "text/plain": [
       "(1937217238304, 2, 'big', 0, 4, 0, 0, 0)"
      ]
     },
     "execution_count": 20,
     "metadata": {},
     "output_type": "execute_result"
    }
   ],
   "source": [
    "b = bitarray()\n",
    "b.extend(np.tile(True, 16))\n",
    "print(b)\n",
    "b.buffer_info()\n",
    "\n",
    "np.array(np.tile(True, 16), dtype=bool)"
   ]
  },
  {
   "cell_type": "code",
   "execution_count": 22,
   "metadata": {},
   "outputs": [
    {
     "name": "stderr",
     "output_type": "stream",
     "text": [
      "<ipython-input-22-6482670cbac0>:1: DeprecationWarning: In future, it will be an error for 'np.bool_' scalars to be interpreted as an index\n",
      "  b.extend(list(np.tile(True, 16)))\n"
     ]
    }
   ],
   "source": [
    "b.extend(list(np.tile(True, 16)))"
   ]
  },
  {
   "cell_type": "code",
   "execution_count": 2,
   "metadata": {},
   "outputs": [
    {
     "data": {
      "image/png": "[encoded data removed]",
      "text/plain": [
       "<Figure size 432x288 with 1 Axes>"
      ]
     },
     "metadata": {
      "needs_background": "light"
     },
     "output_type": "display_data"
    }
   ],
   "source": [
    "\"\"\"\n",
    "Script to calculate and then plot the difference between the volume of a hypercube and the volume of the hypersphere contained within it.\n",
    "\"\"\"\n",
    "\n",
    "import math\n",
    "import matplotlib.pyplot as plt\n",
    "import pandas as pd\n",
    "\n",
    "# xkcdify the plot\n",
    "# plt.xkcd()\n",
    "\n",
    "# create lists to contain the values\n",
    "ratio_sphere_to_cube = []\n",
    "dimension = []\n",
    "\n",
    "for x in range(1, 21):\n",
    "    dimension.append(x)\n",
    "\n",
    "    volume_of_hsphere = (math.pow(math.pi, x/2) / math.gamma(x/2 + 1)) * math.pow(1, x)\n",
    "    volume_of_hcube = math.pow(2, x)\n",
    "\n",
    "    ratio = volume_of_hsphere/volume_of_hcube\n",
    "\n",
    "    ratio_sphere_to_cube.append(ratio)\n",
    "\n",
    "# create a DataFrame to hold the data\n",
    "df = pd.DataFrame(ratio_sphere_to_cube, dimension)\n",
    "\n",
    "fig = plt.figure()\n",
    "ax = fig.gca()\n",
    "\n",
    "# hide the top and right axes\n",
    "ax.spines[\"top\"].set_visible(False)\n",
    "ax.spines[\"right\"].set_visible(False)\n",
    "\n",
    "# put the x and y tick marks in the correct places\n",
    "ax.set_xticks([0,10,20])\n",
    "ax.set_yticks([0,0.5,1])\n",
    "\n",
    "# Add labels\n",
    "ax.set_xlabel(\"dimension\")\n",
    "ax.set_ylabel(\"ratio of hypersphere to hypercube\")\n",
    "\n",
    "# add the data to the plot\n",
    "plt.plot(df)\n",
    "\n",
    "# make sure the bottom label isn't cut off\n",
    "plt.tight_layout()\n",
    "\n",
    "# save the figure into the current folder.\n",
    "fig.savefig(\"ratio.png\")"
   ]
  }
 ],
 "metadata": {
  "interpreter": {
   "hash": "08812bb2998125df4c8e516011843b79b484604e59ec6ff09af2a17f9c9172dc"
  },
  "kernelspec": {
   "display_name": "Python 3.8.8 ('dsrg')",
   "language": "python",
   "name": "python3"
  },
  "language_info": {
   "codemirror_mode": {
    "name": "ipython",
    "version": 3
   },
   "file_extension": ".py",
   "mimetype": "text/x-python",
   "name": "python",
   "nbconvert_exporter": "python",
   "pygments_lexer": "ipython3",
   "version": "3.8.8"
  },
  "orig_nbformat": 4
 },
 "nbformat": 4,
 "nbformat_minor": 2
}
