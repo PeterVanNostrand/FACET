{
 "cells": [
  {
   "cell_type": "code",
   "execution_count": 1,
   "metadata": {},
   "outputs": [
    {
     "data": {
      "text/plain": [
       "bitarray('1010111100011011')"
      ]
     },
     "execution_count": 1,
     "metadata": {},
     "output_type": "execute_result"
    }
   ],
   "source": [
    "import numpy as np\n",
    "from bitarray import bitarray\n",
    "\n",
    "bit_vector = [True, False, True, False, True, True, True, True, False, False, False, True, True, False, True, True]\n",
    "a = bitarray(bit_vector)\n",
    "a"
   ]
  },
  {
   "cell_type": "code",
   "execution_count": 2,
   "metadata": {},
   "outputs": [
    {
     "data": {
      "text/plain": [
       "(1937217238144, 2, 'big', 0, 4, 0, 0, 0)"
      ]
     },
     "execution_count": 2,
     "metadata": {},
     "output_type": "execute_result"
    }
   ],
   "source": [
    "a.buffer_info()"
   ]
  },
  {
   "cell_type": "code",
   "execution_count": 5,
   "metadata": {},
   "outputs": [],
   "source": [
    "ndimension = 3\n",
    "m = 4\n",
    "rbv = [[[bitarray() for _ in range(m)] for _ in range(2)] for _ in range(ndimension)]\n",
    "# Dim LowerBoundVectors   UpperBoundVectors\n",
    "#  0  [P1L, P2L ... PML], [P1U, P2U ... PMU]\n",
    "#  1  [P1L, P2L ... PML], [P1U, P2U ... PMU]\n",
    "#          .......             .......\n",
    "#  D  [P1L, P2L ... PML], [P1U, P2U ... PMU]\n",
    "# rbv[dimension][lower/upper][interval]"
   ]
  },
  {
   "cell_type": "code",
   "execution_count": 12,
   "metadata": {},
   "outputs": [],
   "source": [
    "LOWER = 0\n",
    "UPPER = 1\n",
    "\n",
    "rbv[0][LOWER][0].extend(bit_vector)"
   ]
  },
  {
   "cell_type": "code",
   "execution_count": 14,
   "metadata": {},
   "outputs": [],
   "source": [
    "rbv[0][UPPER][1].extend(bit_vector)"
   ]
  },
  {
   "cell_type": "code",
   "execution_count": 15,
   "metadata": {},
   "outputs": [
    {
     "data": {
      "text/plain": [
       "[[[bitarray('1010111100011011'), bitarray(), bitarray(), bitarray()],\n",
       "  [bitarray(), bitarray('1010111100011011'), bitarray(), bitarray()]],\n",
       " [[bitarray(), bitarray(), bitarray(), bitarray()],\n",
       "  [bitarray(), bitarray(), bitarray(), bitarray()]],\n",
       " [[bitarray(), bitarray(), bitarray(), bitarray()],\n",
       "  [bitarray(), bitarray(), bitarray(), bitarray()]]]"
      ]
     },
     "execution_count": 15,
     "metadata": {},
     "output_type": "execute_result"
    }
   ],
   "source": [
    "rbv"
   ]
  },
  {
   "cell_type": "code",
   "execution_count": 20,
   "metadata": {},
   "outputs": [
    {
     "name": "stdout",
     "output_type": "stream",
     "text": [
      "bitarray('1111111111111111')\n"
     ]
    },
    {
     "name": "stderr",
     "output_type": "stream",
     "text": [
      "<ipython-input-20-b42b6964a131>:2: DeprecationWarning: In future, it will be an error for 'np.bool_' scalars to be interpreted as an index\n",
      "  b.extend(np.tile(True, 16))\n"
     ]
    },
    {
     "data": {
      "text/plain": [
       "(1937217238304, 2, 'big', 0, 4, 0, 0, 0)"
      ]
     },
     "execution_count": 20,
     "metadata": {},
     "output_type": "execute_result"
    }
   ],
   "source": [
    "b = bitarray()\n",
    "b.extend(np.tile(True, 16))\n",
    "print(b)\n",
    "b.buffer_info()\n",
    "\n",
    "np.array(np.tile(True, 16), dtype=bool)"
   ]
  },
  {
   "cell_type": "code",
   "execution_count": 22,
   "metadata": {},
   "outputs": [
    {
     "name": "stderr",
     "output_type": "stream",
     "text": [
      "<ipython-input-22-6482670cbac0>:1: DeprecationWarning: In future, it will be an error for 'np.bool_' scalars to be interpreted as an index\n",
      "  b.extend(list(np.tile(True, 16)))\n"
     ]
    }
   ],
   "source": [
    "b.extend(list(np.tile(True, 16)))"
   ]
  }
 ],
 "metadata": {
  "interpreter": {
   "hash": "08812bb2998125df4c8e516011843b79b484604e59ec6ff09af2a17f9c9172dc"
  },
  "kernelspec": {
   "display_name": "Python 3.8.8 ('dsrg')",
   "language": "python",
   "name": "python3"
  },
  "language_info": {
   "codemirror_mode": {
    "name": "ipython",
    "version": 3
   },
   "file_extension": ".py",
   "mimetype": "text/x-python",
   "name": "python",
   "nbconvert_exporter": "python",
   "pygments_lexer": "ipython3",
   "version": "3.8.8"
  },
  "orig_nbformat": 4
 },
 "nbformat": 4,
 "nbformat_minor": 2
}
