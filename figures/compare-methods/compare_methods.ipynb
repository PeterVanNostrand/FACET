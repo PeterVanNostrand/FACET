{
 "cells": [
  {
   "cell_type": "code",
   "execution_count": 476,
   "metadata": {},
   "outputs": [],
   "source": [
    "import pandas as pd\n",
    "import matplotlib.pyplot as plt\n",
    "import numpy as np\n",
    "import os\n",
    "import re\n",
    "import sys\n",
    "\n",
    "sys.path.append(os.path.abspath(\"../../\"))\n",
    "from dataset import DS_NAMES\n",
    "from dataset import DS_DIMENSIONS\n",
    "from utilities.figure_tools import get_latest_results_directory, make_fig_directory, load_results\n",
    "\n",
    "cmap = plt.get_cmap(\"Set1\")\n",
    "colors = cmap.colors"
   ]
  },
  {
   "cell_type": "code",
   "execution_count": 477,
   "metadata": {},
   "outputs": [
    {
     "name": "stdout",
     "output_type": "stream",
     "text": [
      "Generating figures for run-015\n",
      "Datasets included:\n",
      "\t annthyroid\n",
      "\t cardio\n",
      "\t musk\n",
      "\t pendigits\n",
      "\t satimage\n",
      "\t shuttle\n",
      "\t thyroid\n",
      "\t wbc\n",
      "Explainers included:\n",
      "\t BestCandidate\n",
      "\t GraphMerge\n"
     ]
    }
   ],
   "source": [
    "run_id, run_path = get_latest_results_directory(\"../../results/compare-methods/\")\n",
    "# run_id = 1\n",
    "# run_path = \"C:/Users/Peter/Documents/Peter/9-Graduate-School/2-dsrg/explainable-ad/code/HEEAD/results/compare-methods/run-{:003d}\".format(run_id)\n",
    "fig_output_path = make_fig_directory(run_id)\n",
    "found_ds, results = load_results(run_path, group_field=\"explainer\")\n",
    "\n",
    "all_results = pd.DataFrame(columns=[\"dataset\", \"explainer\", \"n_samples\", \"n_samples_explained\" \"n_features\", \"accuracy\", \"precision\", \"recall\", \"f1\", \"avg_nnodes\", \"avg_nleaves\", \"avg_depth\", \"q\", \"jaccard\", \"coverage_ratio\", \"mean_distance\", \"mean_length\", \"runtime\", \"clique_size\", \"init_time\", \"sample_runtime\", \"mdr\"])\n",
    "\n",
    "for ds in found_ds:\n",
    "    results[ds][\"sample_runtime\"] = results[ds].runtime / results[ds].n_samples_explained * 1000\n",
    "    results[ds][\"init_time\"] = results[ds][\"init_time\"] * 1000\n",
    "    results[ds][\"mdr\"] = results[ds].mean_distance / np.sqrt(results[ds].n_features) * 100\n",
    "\n",
    "for ds in found_ds:\n",
    "    for index, row in results[ds].iterrows():\n",
    "        row[\"dataset\"] = ds\n",
    "        all_results = all_results.append(row)\n",
    "idx_neg = all_results[\"clique_size\"] < 0\n",
    "all_results.loc[idx_neg, \"clique_size\"] = 0\n",
    "\n",
    "found_explainers = all_results[\"explainer\"].unique()\n",
    "explainer_dict = {\n",
    "    \"BestCandidate\" : \"AFT\",\n",
    "    \"GraphMerge\" : \"FACET\",\n",
    "    \"OCEAN\" : \"OCEAN\",\n",
    "    \"MACE\": \"MACE\"\n",
    "}\n",
    "explainer_colors = {\n",
    "    \"BestCandidate\" : colors[3] , # purple\n",
    "    \"GraphMerge\" : colors[0], # red\n",
    "    \"OCEAN\" : colors[4], # orange\n",
    "    \"MACE\": colors[1] # blue\n",
    "}\n",
    "explainer_names = []\n",
    "for e in found_explainers:\n",
    "    explainer_names.append(explainer_dict[e])\n",
    "\n",
    "print(\"Generating figures for run-{:03d}\".format(run_id))\n",
    "print(\"Datasets included:\")\n",
    "for ds in found_ds:\n",
    "    print(\"\\t\", ds)\n",
    "print(\"Explainers included:\")\n",
    "for expl in found_explainers:\n",
    "    print(\"\\t\", expl)"
   ]
  },
  {
   "cell_type": "code",
   "execution_count": 478,
   "metadata": {},
   "outputs": [
    {
     "data": {
      "text/html": [
       "<div>\n",
       "<style scoped>\n",
       "    .dataframe tbody tr th:only-of-type {\n",
       "        vertical-align: middle;\n",
       "    }\n",
       "\n",
       "    .dataframe tbody tr th {\n",
       "        vertical-align: top;\n",
       "    }\n",
       "\n",
       "    .dataframe thead th {\n",
       "        text-align: right;\n",
       "    }\n",
       "</style>\n",
       "<table border=\"1\" class=\"dataframe\">\n",
       "  <thead>\n",
       "    <tr style=\"text-align: right;\">\n",
       "      <th></th>\n",
       "      <th>dataset</th>\n",
       "      <th>explainer</th>\n",
       "      <th>n_samples</th>\n",
       "      <th>n_samples_explainedn_features</th>\n",
       "      <th>accuracy</th>\n",
       "      <th>precision</th>\n",
       "      <th>recall</th>\n",
       "      <th>f1</th>\n",
       "      <th>avg_nnodes</th>\n",
       "      <th>avg_nleaves</th>\n",
       "      <th>...</th>\n",
       "      <th>coverage_ratio</th>\n",
       "      <th>mean_distance</th>\n",
       "      <th>mean_length</th>\n",
       "      <th>runtime</th>\n",
       "      <th>clique_size</th>\n",
       "      <th>init_time</th>\n",
       "      <th>sample_runtime</th>\n",
       "      <th>mdr</th>\n",
       "      <th>n_features</th>\n",
       "      <th>n_samples_explained</th>\n",
       "    </tr>\n",
       "  </thead>\n",
       "  <tbody>\n",
       "    <tr>\n",
       "      <th>0</th>\n",
       "      <td>annthyroid</td>\n",
       "      <td>BestCandidate</td>\n",
       "      <td>7200</td>\n",
       "      <td>NaN</td>\n",
       "      <td>0.982847</td>\n",
       "      <td>0.853514</td>\n",
       "      <td>0.921514</td>\n",
       "      <td>0.885624</td>\n",
       "      <td>137.97</td>\n",
       "      <td>69.485</td>\n",
       "      <td>...</td>\n",
       "      <td>1.000000</td>\n",
       "      <td>0.016574</td>\n",
       "      <td>1.583403</td>\n",
       "      <td>23.857940</td>\n",
       "      <td>0</td>\n",
       "      <td>0.000000</td>\n",
       "      <td>16.568014</td>\n",
       "      <td>0.676642</td>\n",
       "      <td>6.0</td>\n",
       "      <td>1440.0</td>\n",
       "    </tr>\n",
       "    <tr>\n",
       "      <th>1</th>\n",
       "      <td>annthyroid</td>\n",
       "      <td>GraphMerge</td>\n",
       "      <td>7200</td>\n",
       "      <td>NaN</td>\n",
       "      <td>0.982847</td>\n",
       "      <td>0.853514</td>\n",
       "      <td>0.921514</td>\n",
       "      <td>0.885624</td>\n",
       "      <td>137.97</td>\n",
       "      <td>69.485</td>\n",
       "      <td>...</td>\n",
       "      <td>0.524861</td>\n",
       "      <td>0.009689</td>\n",
       "      <td>1.270100</td>\n",
       "      <td>2.549725</td>\n",
       "      <td>1</td>\n",
       "      <td>10.541224</td>\n",
       "      <td>1.770642</td>\n",
       "      <td>0.395540</td>\n",
       "      <td>6.0</td>\n",
       "      <td>1440.0</td>\n",
       "    </tr>\n",
       "    <tr>\n",
       "      <th>0</th>\n",
       "      <td>cardio</td>\n",
       "      <td>BestCandidate</td>\n",
       "      <td>1831</td>\n",
       "      <td>NaN</td>\n",
       "      <td>0.986104</td>\n",
       "      <td>0.954148</td>\n",
       "      <td>0.904480</td>\n",
       "      <td>0.927434</td>\n",
       "      <td>45.22</td>\n",
       "      <td>23.110</td>\n",
       "      <td>...</td>\n",
       "      <td>0.908447</td>\n",
       "      <td>0.341508</td>\n",
       "      <td>1.733321</td>\n",
       "      <td>1.730699</td>\n",
       "      <td>0</td>\n",
       "      <td>0.000000</td>\n",
       "      <td>4.715800</td>\n",
       "      <td>7.452313</td>\n",
       "      <td>21.0</td>\n",
       "      <td>367.0</td>\n",
       "    </tr>\n",
       "    <tr>\n",
       "      <th>1</th>\n",
       "      <td>cardio</td>\n",
       "      <td>GraphMerge</td>\n",
       "      <td>1831</td>\n",
       "      <td>NaN</td>\n",
       "      <td>0.986104</td>\n",
       "      <td>0.954148</td>\n",
       "      <td>0.904480</td>\n",
       "      <td>0.927434</td>\n",
       "      <td>45.22</td>\n",
       "      <td>23.110</td>\n",
       "      <td>...</td>\n",
       "      <td>0.017166</td>\n",
       "      <td>0.086175</td>\n",
       "      <td>1.221389</td>\n",
       "      <td>1.555818</td>\n",
       "      <td>1</td>\n",
       "      <td>10.347509</td>\n",
       "      <td>4.239286</td>\n",
       "      <td>1.880491</td>\n",
       "      <td>21.0</td>\n",
       "      <td>367.0</td>\n",
       "    </tr>\n",
       "    <tr>\n",
       "      <th>0</th>\n",
       "      <td>musk</td>\n",
       "      <td>BestCandidate</td>\n",
       "      <td>3062.0</td>\n",
       "      <td>NaN</td>\n",
       "      <td>1.000000</td>\n",
       "      <td>1.000000</td>\n",
       "      <td>1.000000</td>\n",
       "      <td>1.000000</td>\n",
       "      <td>3.56</td>\n",
       "      <td>2.280</td>\n",
       "      <td>...</td>\n",
       "      <td>0.000000</td>\n",
       "      <td>NaN</td>\n",
       "      <td>NaN</td>\n",
       "      <td>0.931606</td>\n",
       "      <td>0</td>\n",
       "      <td>0.000000</td>\n",
       "      <td>1.519748</td>\n",
       "      <td>NaN</td>\n",
       "      <td>166.0</td>\n",
       "      <td>613.0</td>\n",
       "    </tr>\n",
       "  </tbody>\n",
       "</table>\n",
       "<p>5 rows × 23 columns</p>\n",
       "</div>"
      ],
      "text/plain": [
       "      dataset      explainer n_samples  n_samples_explainedn_features  \\\n",
       "0  annthyroid  BestCandidate      7200                            NaN   \n",
       "1  annthyroid     GraphMerge      7200                            NaN   \n",
       "0      cardio  BestCandidate      1831                            NaN   \n",
       "1      cardio     GraphMerge      1831                            NaN   \n",
       "0        musk  BestCandidate    3062.0                            NaN   \n",
       "\n",
       "   accuracy  precision    recall        f1  avg_nnodes  avg_nleaves  ...  \\\n",
       "0  0.982847   0.853514  0.921514  0.885624      137.97       69.485  ...   \n",
       "1  0.982847   0.853514  0.921514  0.885624      137.97       69.485  ...   \n",
       "0  0.986104   0.954148  0.904480  0.927434       45.22       23.110  ...   \n",
       "1  0.986104   0.954148  0.904480  0.927434       45.22       23.110  ...   \n",
       "0  1.000000   1.000000  1.000000  1.000000        3.56        2.280  ...   \n",
       "\n",
       "   coverage_ratio  mean_distance  mean_length    runtime  clique_size  \\\n",
       "0        1.000000       0.016574     1.583403  23.857940            0   \n",
       "1        0.524861       0.009689     1.270100   2.549725            1   \n",
       "0        0.908447       0.341508     1.733321   1.730699            0   \n",
       "1        0.017166       0.086175     1.221389   1.555818            1   \n",
       "0        0.000000            NaN          NaN   0.931606            0   \n",
       "\n",
       "   init_time  sample_runtime       mdr  n_features  n_samples_explained  \n",
       "0   0.000000       16.568014  0.676642         6.0               1440.0  \n",
       "1  10.541224        1.770642  0.395540         6.0               1440.0  \n",
       "0   0.000000        4.715800  7.452313        21.0                367.0  \n",
       "1  10.347509        4.239286  1.880491        21.0                367.0  \n",
       "0   0.000000        1.519748       NaN       166.0                613.0  \n",
       "\n",
       "[5 rows x 23 columns]"
      ]
     },
     "execution_count": 478,
     "metadata": {},
     "output_type": "execute_result"
    }
   ],
   "source": [
    "all_results.head()"
   ]
  },
  {
   "cell_type": "code",
   "execution_count": 479,
   "metadata": {},
   "outputs": [],
   "source": [
    "def render_bar_plot(xfeature, yfeature, xlabel, ylabel, title, save_name=None, xrange=None, yrange=None, xlog=False, lloc=None):\n",
    "    fig, ax = plt.subplots()\n",
    "    pos = np.arange(len(found_ds))\n",
    "    bar_width = 0.15\n",
    "\n",
    "    yvalues = all_results[yfeature].unique()\n",
    "\n",
    "    for i in range(len(yvalues)):\n",
    "        isExpl = all_results[yfeature] == yvalues[i]\n",
    "        hbars = ax.barh(y=(pos + bar_width*i), width=all_results[isExpl][xfeature], height=bar_width, log=xlog, color=explainer_colors[yvalues[i]])\n",
    "\n",
    "    plt.xlabel(xlabel)\n",
    "    plt.ylabel(ylabel)\n",
    "    plt.title(title)\n",
    "\n",
    "    if not lloc:\n",
    "        lloc = \"best\"\n",
    "    plt.legend(explainer_names, loc=lloc)\n",
    "    plt.yticks(pos, found_ds)\n",
    "\n",
    "    if save_name is not None:\n",
    "        plt.savefig(fig_output_path + \"/\" + save_name, bbox_inches=\"tight\")"
   ]
  },
  {
   "cell_type": "code",
   "execution_count": 480,
   "metadata": {},
   "outputs": [
    {
     "data": {
      "image/png": "[encoded data removed]",
      "text/plain": [
       "<Figure size 432x288 with 1 Axes>"
      ]
     },
     "metadata": {
      "needs_background": "light"
     },
     "output_type": "display_data"
    }
   ],
   "source": [
    "render_bar_plot(\"init_time\", \"explainer\", \"Initialization Time (ms)\", \"Dataset\", \"Initilization Time by Explainer\", \"inittime.png\", xlog=True)"
   ]
  },
  {
   "cell_type": "code",
   "execution_count": 481,
   "metadata": {},
   "outputs": [
    {
     "data": {
      "image/png": "[encoded data removed]",
      "text/plain": [
       "<Figure size 432x288 with 1 Axes>"
      ]
     },
     "metadata": {
      "needs_background": "light"
     },
     "output_type": "display_data"
    }
   ],
   "source": [
    "render_bar_plot(\"sample_runtime\", \"explainer\", \"Per Sample Runtime (ms)\", \"Dataset\", \"Per Sample Runtime Time by Explainer\", \"runtime.png\", xlog=True)"
   ]
  },
  {
   "cell_type": "code",
   "execution_count": 482,
   "metadata": {},
   "outputs": [
    {
     "data": {
      "image/png": "[encoded data removed]",
      "text/plain": [
       "<Figure size 432x288 with 1 Axes>"
      ]
     },
     "metadata": {
      "needs_background": "light"
     },
     "output_type": "display_data"
    }
   ],
   "source": [
    "render_bar_plot(\"coverage_ratio\", \"explainer\", \"Coverage\", \"Dataset\", \"Coverage by Explainer\", \"coverage.png\")"
   ]
  },
  {
   "cell_type": "code",
   "execution_count": 483,
   "metadata": {},
   "outputs": [
    {
     "data": {
      "image/png": "[encoded data removed]",
      "text/plain": [
       "<Figure size 432x288 with 1 Axes>"
      ]
     },
     "metadata": {
      "needs_background": "light"
     },
     "output_type": "display_data"
    }
   ],
   "source": [
    "render_bar_plot(\"mdr\", \"explainer\", \"Mean Distance Ratio\", \"Dataset\", \"Distance by Explainer\", \"distance.png\")"
   ]
  },
  {
   "cell_type": "code",
   "execution_count": 484,
   "metadata": {},
   "outputs": [
    {
     "data": {
      "image/png": "[encoded data removed]",
      "text/plain": [
       "<Figure size 432x288 with 1 Axes>"
      ]
     },
     "metadata": {
      "needs_background": "light"
     },
     "output_type": "display_data"
    }
   ],
   "source": [
    "render_bar_plot(\"mean_length\", \"explainer\", \"Features Changes\", \"Dataset\", \"Length by Explainer\", \"length.png\")"
   ]
  },
  {
   "cell_type": "code",
   "execution_count": 485,
   "metadata": {},
   "outputs": [
    {
     "data": {
      "image/png": "[encoded data removed]",
      "text/plain": [
       "<Figure size 432x288 with 1 Axes>"
      ]
     },
     "metadata": {
      "needs_background": "light"
     },
     "output_type": "display_data"
    }
   ],
   "source": [
    "\n",
    "render_bar_plot(\"clique_size\", \"explainer\", \"Trees in Disjoint Clique\", \"Dataset\", \"Disjoint Clique Size by Dataset\", \"cliques.png\")"
   ]
  },
  {
   "cell_type": "code",
   "execution_count": 486,
   "metadata": {},
   "outputs": [],
   "source": [
    "# Classification performance\n",
    "\n",
    "md_table_path = fig_output_path + \"/results.md\"\n",
    "f = open(md_table_path, \"w\")\n",
    "\n",
    "metrics = [\"f1\", \"avg_nnodes\", \"avg_nleaves\", \"avg_depth\", \"q\", \"jaccard\"]\n",
    "formats = [\"{v:0.2f}\", \"{v:0.2f}\", \"{v:0.2f}\", \"{v:0.2f}\", \"{v:0.2f}\", \"{v:0.2f}\"]\n",
    "\n",
    "f.write(\"| dataset | n | p | f1 | nNodes | nLeaves | depth | Q | J |\\n\")\n",
    "f.write(\"|---------|---|---|----|--------|---------|-------|---|---|\\n\")\n",
    "\n",
    "for ds in found_ds:\n",
    "    n = DS_DIMENSIONS[ds][0]\n",
    "    p = DS_DIMENSIONS[ds][1]\n",
    "    f.write(\"| {ds} | {n} | {p}\".format(ds=ds, n=n, p=p))\n",
    "    for i in range(len(metrics)):\n",
    "        metric = metrics[i]\n",
    "        isexpl = results[found_ds[0]][\"explainer\"] == found_explainers[0]\n",
    "        val = results[ds][isexpl][metric].to_numpy()[0]\n",
    "        f.write((\" | \" + \"{v:0.2f}\" + \"\").format(v=val))\n",
    "    f.write(\" |\")\n",
    "    f.write(\"\\n\")\n",
    "\n",
    "# Explanation performance\n",
    "f.write(\"\\n\\n\")\n",
    "metrics = [\"coverage_ratio\", \"sample_runtime\", \"mean_length\", \"mdr\"]\n",
    "scales = [100, 1, 1, 1]\n",
    "f.write(\"|            |       |     | AFT    | FACET  | AFT   | FACET | AFT   | FACET | AFT   | FACET  |\\n\")\n",
    "f.write(\"| ---------- | ----- | --- | ------ | ------ | ----- | ----- | ----- | ----- | ----- | ------ |\\n\")\n",
    "f.write(\"| Dataset    | n     | p   | C      | C      | R     | R     | L     | L     | D     | D      |\\n\")\n",
    "\n",
    "for ds in found_ds:\n",
    "    n = DS_DIMENSIONS[ds][0]\n",
    "    p = DS_DIMENSIONS[ds][1]\n",
    "    f.write(\"| {ds} | {n} | {p}\".format(ds=ds, n=n, p=p))\n",
    "    for i in range(len(metrics)):\n",
    "        metric = metrics[i]\n",
    "        scale = scales[i]\n",
    "        for explainer in found_explainers:\n",
    "            isexpl = results[found_ds[0]][\"explainer\"] == explainer\n",
    "            val = results[ds][isexpl][metric].to_numpy()[0]\n",
    "            f.write(\" | {v:0.2f}\".format(v=val * scale))\n",
    "    f.write(\" |\")\n",
    "    f.write(\"\\n\")\n",
    "\n",
    "f.close()\n"
   ]
  }
 ],
 "metadata": {
  "interpreter": {
   "hash": "0ee1fceac40cd608145abbd18cebcc49c15aa542c45457ebe635f49f93e12ec7"
  },
  "kernelspec": {
   "display_name": "Python 3.8.8 64-bit ('dsrg': conda)",
   "name": "python3"
  },
  "language_info": {
   "codemirror_mode": {
    "name": "ipython",
    "version": 3
   },
   "file_extension": ".py",
   "mimetype": "text/x-python",
   "name": "python",
   "nbconvert_exporter": "python",
   "pygments_lexer": "ipython3",
   "version": "3.8.8"
  },
  "orig_nbformat": 4
 },
 "nbformat": 4,
 "nbformat_minor": 2
}
