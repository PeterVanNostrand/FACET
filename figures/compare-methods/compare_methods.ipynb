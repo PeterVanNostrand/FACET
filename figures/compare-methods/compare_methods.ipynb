{
 "cells": [
  {
   "cell_type": "code",
   "execution_count": 430,
   "metadata": {},
   "outputs": [],
   "source": [
    "import pandas as pd\n",
    "import matplotlib.pyplot as plt\n",
    "import numpy as np\n",
    "import os\n",
    "import re\n",
    "import sys\n",
    "\n",
    "sys.path.append(os.path.abspath(\"../../\"))\n",
    "from dataset import DS_NAMES\n",
    "from dataset import DS_DIMENSIONS\n",
    "from utilities.figure_tools import get_latest_results_directory, make_fig_directory, load_results\n",
    "\n",
    "cmap = plt.get_cmap(\"Set1\")\n",
    "colors = cmap.colors"
   ]
  },
  {
   "cell_type": "code",
   "execution_count": 431,
   "metadata": {},
   "outputs": [
    {
     "name": "stdout",
     "output_type": "stream",
     "text": [
      "Generating figures for run-001\n",
      "Datasets included:\n",
      "\t annthyroid\n",
      "\t cardio\n",
      "\t musk\n",
      "\t pendigits\n",
      "\t satimage\n",
      "\t shuttle\n",
      "\t thyroid\n",
      "\t wbc\n",
      "Explainers included:\n",
      "\t BestCandidate\n",
      "\t GraphMerge\n"
     ]
    }
   ],
   "source": [
    "run_id, run_path = get_latest_results_directory(\"../../results/compare-methods/\")\n",
    "# run_id = 94\n",
    "# run_path = \"C:/Users/Peter/Documents/Peter/9-Graduate-School/2-dsrg/explainable-ad/code/HEEAD/results/compare-methods/run-094\"\n",
    "fig_output_path = make_fig_directory(run_id)\n",
    "found_ds, results = load_results(run_path, group_field=\"explainer\")\n",
    "\n",
    "all_results = pd.DataFrame(columns=[\"dataset\", \"explainer\", \"n_samples\", \"n_features\", \"accuracy\", \"precision\",\n",
    "                               \"recall\", \"f1\", \"avg_nnodes\", \"avg_nleaves\", \"avg_depth\", \"q\", \"jaccard\", \"coverage_ratio\", \"mean_distance\", \"mean_length\", \"runtime\", \"sample_runtime\", \"mdr\"])\n",
    "\n",
    "for ds in found_ds:\n",
    "    results[ds][\"sample_runtime\"] = results[ds].runtime / (results[ds].n_samples * 0.2) * 1000 # / 20 * 1000\n",
    "    results[ds][\"mdr\"] = results[ds].mean_distance / np.sqrt(results[ds].n_features) * 100\n",
    "\n",
    "for ds in found_ds:\n",
    "    for index, row in results[ds].iterrows():\n",
    "        row[\"dataset\"] = ds\n",
    "        all_results = all_results.append(row)\n",
    "\n",
    "found_explainers = all_results[\"explainer\"].unique()\n",
    "explainer_dict = {\n",
    "    \"BestCandidate\" : \"AFT\",\n",
    "    \"GraphMerge\" : \"FACET\",\n",
    "    \"OCEAN\" : \"OCEAN\",\n",
    "    \"MACE\": \"MACE\"\n",
    "}\n",
    "explainer_colors = {\n",
    "    \"BestCandidate\" : colors[3] , # purple\n",
    "    \"GraphMerge\" : colors[0], # red\n",
    "    \"OCEAN\" : colors[4], # orange\n",
    "    \"MACE\": colors[1] # blue\n",
    "}\n",
    "explainer_names = []\n",
    "for e in found_explainers:\n",
    "    explainer_names.append(explainer_dict[e])\n",
    "\n",
    "print(\"Generating figures for run-{:03d}\".format(run_id))\n",
    "print(\"Datasets included:\")\n",
    "for ds in found_ds:\n",
    "    print(\"\\t\", ds)\n",
    "print(\"Explainers included:\")\n",
    "for expl in found_explainers:\n",
    "    print(\"\\t\", expl)"
   ]
  },
  {
   "cell_type": "code",
   "execution_count": 432,
   "metadata": {},
   "outputs": [
    {
     "data": {
      "text/html": [
       "<div>\n",
       "<style scoped>\n",
       "    .dataframe tbody tr th:only-of-type {\n",
       "        vertical-align: middle;\n",
       "    }\n",
       "\n",
       "    .dataframe tbody tr th {\n",
       "        vertical-align: top;\n",
       "    }\n",
       "\n",
       "    .dataframe thead th {\n",
       "        text-align: right;\n",
       "    }\n",
       "</style>\n",
       "<table border=\"1\" class=\"dataframe\">\n",
       "  <thead>\n",
       "    <tr style=\"text-align: right;\">\n",
       "      <th></th>\n",
       "      <th>dataset</th>\n",
       "      <th>explainer</th>\n",
       "      <th>n_samples</th>\n",
       "      <th>n_features</th>\n",
       "      <th>accuracy</th>\n",
       "      <th>precision</th>\n",
       "      <th>recall</th>\n",
       "      <th>f1</th>\n",
       "      <th>avg_nnodes</th>\n",
       "      <th>avg_nleaves</th>\n",
       "      <th>avg_depth</th>\n",
       "      <th>q</th>\n",
       "      <th>jaccard</th>\n",
       "      <th>coverage_ratio</th>\n",
       "      <th>mean_distance</th>\n",
       "      <th>mean_length</th>\n",
       "      <th>runtime</th>\n",
       "      <th>sample_runtime</th>\n",
       "      <th>mdr</th>\n",
       "      <th>n_samples_explained</th>\n",
       "    </tr>\n",
       "  </thead>\n",
       "  <tbody>\n",
       "    <tr>\n",
       "      <th>0</th>\n",
       "      <td>annthyroid</td>\n",
       "      <td>BestCandidate</td>\n",
       "      <td>7200</td>\n",
       "      <td>6</td>\n",
       "      <td>0.982500</td>\n",
       "      <td>0.829843</td>\n",
       "      <td>0.962553</td>\n",
       "      <td>0.890158</td>\n",
       "      <td>30.42</td>\n",
       "      <td>15.710</td>\n",
       "      <td>5.00</td>\n",
       "      <td>0.951621</td>\n",
       "      <td>0.851325</td>\n",
       "      <td>1.000000</td>\n",
       "      <td>0.019724</td>\n",
       "      <td>1.483819</td>\n",
       "      <td>4.222264</td>\n",
       "      <td>2.932128</td>\n",
       "      <td>0.805237</td>\n",
       "      <td>1440.0</td>\n",
       "    </tr>\n",
       "    <tr>\n",
       "      <th>1</th>\n",
       "      <td>annthyroid</td>\n",
       "      <td>GraphMerge</td>\n",
       "      <td>7200</td>\n",
       "      <td>6</td>\n",
       "      <td>0.982500</td>\n",
       "      <td>0.829843</td>\n",
       "      <td>0.962553</td>\n",
       "      <td>0.890158</td>\n",
       "      <td>30.42</td>\n",
       "      <td>15.710</td>\n",
       "      <td>5.00</td>\n",
       "      <td>0.951621</td>\n",
       "      <td>0.851325</td>\n",
       "      <td>0.553958</td>\n",
       "      <td>0.011017</td>\n",
       "      <td>1.267050</td>\n",
       "      <td>1.142189</td>\n",
       "      <td>0.793187</td>\n",
       "      <td>0.449757</td>\n",
       "      <td>1440.0</td>\n",
       "    </tr>\n",
       "    <tr>\n",
       "      <th>0</th>\n",
       "      <td>cardio</td>\n",
       "      <td>BestCandidate</td>\n",
       "      <td>1831</td>\n",
       "      <td>21</td>\n",
       "      <td>0.982016</td>\n",
       "      <td>0.951745</td>\n",
       "      <td>0.859801</td>\n",
       "      <td>0.902667</td>\n",
       "      <td>27.08</td>\n",
       "      <td>14.040</td>\n",
       "      <td>5.00</td>\n",
       "      <td>0.867508</td>\n",
       "      <td>0.382115</td>\n",
       "      <td>0.832425</td>\n",
       "      <td>0.341937</td>\n",
       "      <td>1.470745</td>\n",
       "      <td>0.993854</td>\n",
       "      <td>2.713965</td>\n",
       "      <td>7.461686</td>\n",
       "      <td>367.0</td>\n",
       "    </tr>\n",
       "    <tr>\n",
       "      <th>1</th>\n",
       "      <td>cardio</td>\n",
       "      <td>GraphMerge</td>\n",
       "      <td>1831</td>\n",
       "      <td>21</td>\n",
       "      <td>0.982016</td>\n",
       "      <td>0.951745</td>\n",
       "      <td>0.859801</td>\n",
       "      <td>0.902667</td>\n",
       "      <td>27.08</td>\n",
       "      <td>14.040</td>\n",
       "      <td>5.00</td>\n",
       "      <td>0.867508</td>\n",
       "      <td>0.382115</td>\n",
       "      <td>0.029973</td>\n",
       "      <td>0.088344</td>\n",
       "      <td>1.138512</td>\n",
       "      <td>1.023835</td>\n",
       "      <td>2.795836</td>\n",
       "      <td>1.927830</td>\n",
       "      <td>367.0</td>\n",
       "    </tr>\n",
       "    <tr>\n",
       "      <th>0</th>\n",
       "      <td>musk</td>\n",
       "      <td>BestCandidate</td>\n",
       "      <td>3062</td>\n",
       "      <td>166</td>\n",
       "      <td>1.000000</td>\n",
       "      <td>1.000000</td>\n",
       "      <td>1.000000</td>\n",
       "      <td>1.000000</td>\n",
       "      <td>3.51</td>\n",
       "      <td>2.255</td>\n",
       "      <td>1.23</td>\n",
       "      <td>0.000000</td>\n",
       "      <td>0.042856</td>\n",
       "      <td>0.000000</td>\n",
       "      <td>NaN</td>\n",
       "      <td>NaN</td>\n",
       "      <td>0.864304</td>\n",
       "      <td>1.411339</td>\n",
       "      <td>NaN</td>\n",
       "      <td>613.0</td>\n",
       "    </tr>\n",
       "  </tbody>\n",
       "</table>\n",
       "</div>"
      ],
      "text/plain": [
       "      dataset      explainer n_samples n_features  accuracy  precision  \\\n",
       "0  annthyroid  BestCandidate      7200          6  0.982500   0.829843   \n",
       "1  annthyroid     GraphMerge      7200          6  0.982500   0.829843   \n",
       "0      cardio  BestCandidate      1831         21  0.982016   0.951745   \n",
       "1      cardio     GraphMerge      1831         21  0.982016   0.951745   \n",
       "0        musk  BestCandidate      3062        166  1.000000   1.000000   \n",
       "\n",
       "     recall        f1  avg_nnodes  avg_nleaves  avg_depth         q   jaccard  \\\n",
       "0  0.962553  0.890158       30.42       15.710       5.00  0.951621  0.851325   \n",
       "1  0.962553  0.890158       30.42       15.710       5.00  0.951621  0.851325   \n",
       "0  0.859801  0.902667       27.08       14.040       5.00  0.867508  0.382115   \n",
       "1  0.859801  0.902667       27.08       14.040       5.00  0.867508  0.382115   \n",
       "0  1.000000  1.000000        3.51        2.255       1.23  0.000000  0.042856   \n",
       "\n",
       "   coverage_ratio  mean_distance  mean_length   runtime  sample_runtime  \\\n",
       "0        1.000000       0.019724     1.483819  4.222264        2.932128   \n",
       "1        0.553958       0.011017     1.267050  1.142189        0.793187   \n",
       "0        0.832425       0.341937     1.470745  0.993854        2.713965   \n",
       "1        0.029973       0.088344     1.138512  1.023835        2.795836   \n",
       "0        0.000000            NaN          NaN  0.864304        1.411339   \n",
       "\n",
       "        mdr  n_samples_explained  \n",
       "0  0.805237               1440.0  \n",
       "1  0.449757               1440.0  \n",
       "0  7.461686                367.0  \n",
       "1  1.927830                367.0  \n",
       "0       NaN                613.0  "
      ]
     },
     "execution_count": 432,
     "metadata": {},
     "output_type": "execute_result"
    }
   ],
   "source": [
    "all_results.head()"
   ]
  },
  {
   "cell_type": "code",
   "execution_count": 433,
   "metadata": {},
   "outputs": [],
   "source": [
    "def render_bar_plot(xfeature, yfeature, xlabel, ylabel, title, save_name=None, xrange=None, yrange=None, xlog=False, lloc=None):\n",
    "    fig, ax = plt.subplots()\n",
    "    pos = np.arange(len(found_ds))\n",
    "    bar_width = 0.15\n",
    "\n",
    "    yvalues = all_results[yfeature].unique()\n",
    "\n",
    "    for i in range(len(yvalues)):\n",
    "        isExpl = all_results[yfeature] == yvalues[i]\n",
    "        hbars = ax.barh(y=(pos + bar_width*i), width=all_results[isExpl][xfeature], height=bar_width, log=xlog, color=explainer_colors[yvalues[i]])\n",
    "        print(yfeature)\n",
    "\n",
    "    plt.xlabel(xlabel)\n",
    "    plt.ylabel(ylabel)\n",
    "    plt.title(title)\n",
    "\n",
    "    if not lloc:\n",
    "        lloc = \"best\"\n",
    "    plt.legend(explainer_names, loc=lloc)\n",
    "    plt.yticks(pos, found_ds)\n",
    "\n",
    "    if save_name is not None:\n",
    "        plt.savefig(fig_output_path + \"/\" + save_name)"
   ]
  },
  {
   "cell_type": "code",
   "execution_count": 434,
   "metadata": {},
   "outputs": [
    {
     "name": "stdout",
     "output_type": "stream",
     "text": [
      "explainer\n",
      "explainer\n"
     ]
    },
    {
     "data": {
      "image/png": "[encoded data removed]",
      "text/plain": [
       "<Figure size 432x288 with 1 Axes>"
      ]
     },
     "metadata": {
      "needs_background": "light"
     },
     "output_type": "display_data"
    }
   ],
   "source": [
    "render_bar_plot(\"sample_runtime\", \"explainer\", \"Runtime (ms)\", \"Dataset\", \"Runtime by Explainer\", \"runtime.png\", xlog=True)"
   ]
  },
  {
   "cell_type": "code",
   "execution_count": 435,
   "metadata": {},
   "outputs": [
    {
     "name": "stdout",
     "output_type": "stream",
     "text": [
      "explainer\n",
      "explainer\n"
     ]
    },
    {
     "data": {
      "image/png": "[encoded data removed]",
      "text/plain": [
       "<Figure size 432x288 with 1 Axes>"
      ]
     },
     "metadata": {
      "needs_background": "light"
     },
     "output_type": "display_data"
    }
   ],
   "source": [
    "render_bar_plot(\"coverage_ratio\", \"explainer\", \"Coverage\", \"Dataset\", \"Coverage by Explainer\", \"coverage.png\", lloc=\"lower left\")"
   ]
  },
  {
   "cell_type": "code",
   "execution_count": 436,
   "metadata": {},
   "outputs": [
    {
     "name": "stdout",
     "output_type": "stream",
     "text": [
      "explainer\n",
      "explainer\n"
     ]
    },
    {
     "data": {
      "image/png": "[encoded data removed]",
      "text/plain": [
       "<Figure size 432x288 with 1 Axes>"
      ]
     },
     "metadata": {
      "needs_background": "light"
     },
     "output_type": "display_data"
    }
   ],
   "source": [
    "render_bar_plot(\"mdr\", \"explainer\", \"Mean Distance Ratio\", \"Dataset\", \"Distance by Explainer\", \"distance.png\")"
   ]
  },
  {
   "cell_type": "code",
   "execution_count": 437,
   "metadata": {},
   "outputs": [
    {
     "name": "stdout",
     "output_type": "stream",
     "text": [
      "explainer\n",
      "explainer\n"
     ]
    },
    {
     "data": {
      "image/png": "[encoded data removed]",
      "text/plain": [
       "<Figure size 432x288 with 1 Axes>"
      ]
     },
     "metadata": {
      "needs_background": "light"
     },
     "output_type": "display_data"
    }
   ],
   "source": [
    "render_bar_plot(\"mean_length\", \"explainer\", \"Features Changes\", \"Dataset\", \"Length by Explainer\", \"length.png\")"
   ]
  },
  {
   "cell_type": "code",
   "execution_count": 438,
   "metadata": {},
   "outputs": [],
   "source": [
    "# Classification performance\n",
    "\n",
    "md_table_path = fig_output_path + \"/results.md\"\n",
    "f = open(md_table_path, \"w\")\n",
    "\n",
    "metrics = [\"f1\", \"avg_nnodes\", \"avg_nleaves\", \"avg_depth\", \"q\", \"jaccard\"]\n",
    "formats = [\"{v:0.2f}\", \"{v:0.2f}\", \"{v:0.2f}\", \"{v:0.2f}\", \"{v:0.2f}\", \"{v:0.2f}\"]\n",
    "\n",
    "f.write(\"| dataset | n | p | f1 | nNodes | nLeaves | depth | Q | J |\\n\")\n",
    "f.write(\"|---------|---|---|----|--------|---------|-------|---|---|\\n\")\n",
    "\n",
    "for ds in found_ds:\n",
    "    n = DS_DIMENSIONS[ds][0]\n",
    "    p = DS_DIMENSIONS[ds][1]\n",
    "    f.write(\"| {ds} | {n} | {p}\".format(ds=ds, n=n, p=p))\n",
    "    for i in range(len(metrics)):\n",
    "        metric = metrics[i]\n",
    "        isexpl = results[found_ds[0]][\"explainer\"] == found_explainers[0]\n",
    "        val = results[ds][isexpl][metric].to_numpy()[0]\n",
    "        f.write((\" | \" + \"{v:0.2f}\" + \"\").format(v=val))\n",
    "    f.write(\" |\")\n",
    "    f.write(\"\\n\")\n",
    "\n",
    "# Explanation performance\n",
    "f.write(\"\\n\\n\")\n",
    "metrics = [\"coverage_ratio\", \"sample_runtime\", \"mean_length\", \"mdr\"]\n",
    "scales = [100, 1, 1, 1]\n",
    "f.write(\"|            |       |     | AFT    | FACET  | AFT   | FACET | AFT   | FACET | AFT   | FACET  |\\n\")\n",
    "f.write(\"| ---------- | ----- | --- | ------ | ------ | ----- | ----- | ----- | ----- | ----- | ------ |\\n\")\n",
    "f.write(\"| Dataset    | n     | p   | C      | C      | R     | R     | L     | L     | D     | D      |\\n\")\n",
    "\n",
    "for ds in found_ds:\n",
    "    n = DS_DIMENSIONS[ds][0]\n",
    "    p = DS_DIMENSIONS[ds][1]\n",
    "    f.write(\"| {ds} | {n} | {p}\".format(ds=ds, n=n, p=p))\n",
    "    for i in range(len(metrics)):\n",
    "        metric = metrics[i]\n",
    "        scale = scales[i]\n",
    "        for explainer in found_explainers:\n",
    "            isexpl = results[found_ds[0]][\"explainer\"] == explainer\n",
    "            val = results[ds][isexpl][metric].to_numpy()[0]\n",
    "            f.write(\" | {v:0.2f}\".format(v=val * scale))\n",
    "    f.write(\" |\")\n",
    "    f.write(\"\\n\")\n",
    "\n",
    "f.close()"
   ]
  }
 ],
 "metadata": {
  "interpreter": {
   "hash": "0ee1fceac40cd608145abbd18cebcc49c15aa542c45457ebe635f49f93e12ec7"
  },
  "kernelspec": {
   "display_name": "Python 3.8.8 64-bit ('dsrg': conda)",
   "name": "python3"
  },
  "language_info": {
   "codemirror_mode": {
    "name": "ipython",
    "version": 3
   },
   "file_extension": ".py",
   "mimetype": "text/x-python",
   "name": "python",
   "nbconvert_exporter": "python",
   "pygments_lexer": "ipython3",
   "version": "3.8.8"
  },
  "orig_nbformat": 4
 },
 "nbformat": 4,
 "nbformat_minor": 2
}
