{
 "cells": [
  {
   "cell_type": "code",
   "execution_count": 49,
   "metadata": {},
   "outputs": [],
   "source": [
    "import pandas as pd\n",
    "import matplotlib.pyplot as plt\n",
    "import numpy as np\n",
    "import os\n",
    "import re\n",
    "import sys\n",
    "\n",
    "sys.path.append(os.path.abspath(\"../../\"))\n",
    "from dataset import DS_NAMES\n",
    "from dataset import DS_DIMENSIONS\n",
    "from utilities.figure_tools import get_latest_results_directory, make_fig_directory, load_results\n",
    "\n",
    "cmap = plt.get_cmap(\"Set1\")\n",
    "colors = cmap.colors"
   ]
  },
  {
   "cell_type": "code",
   "execution_count": 50,
   "metadata": {},
   "outputs": [
    {
     "name": "stdout",
     "output_type": "stream",
     "text": [
      "Generating figures for run-049\n",
      "Datasets included:\n",
      "\t cancer\n",
      "\t glass\n",
      "\t magic\n",
      "\t spambase\n",
      "\t vertebral\n",
      "Explainers included:\n",
      "\t FACETIndex\n",
      "\t OCEAN\n"
     ]
    }
   ],
   "source": [
    "run_id, run_path = get_latest_results_directory(\"../../results/compare-methods/\")\n",
    "# run_id = 1\n",
    "# run_path = \"C:/Users/Peter/Documents/Peter/9-Graduate-School/2-dsrg/explainable-ad/code/HEEAD/results/compare-methods/run-{:003d}\".format(run_id)\n",
    "fig_output_path = make_fig_directory(run_id)\n",
    "found_ds, results = load_results(run_path, group_fields=[\"explainer\"])\n",
    "\n",
    "all_results = pd.DataFrame(columns=[\"dataset\", \"explainer\", \"n_samples\", \"n_samples_explained\" \"n_features\", \"accuracy\", \"precision\", \"recall\", \"f1\", \"avg_nnodes\", \"avg_nleaves\", \"avg_depth\", \"q\", \"jaccard\", \"coverage_ratio\", \"mean_distance\", \"mean_length\", \"runtime\", \"clique_size\", \"init_time\", \"sample_runtime\", \"mdr\"])\n",
    "\n",
    "for ds in found_ds:\n",
    "    results[ds][\"sample_runtime\"] = results[ds].runtime / results[ds].n_samples_explained * 1000\n",
    "    results[ds][\"init_time\"] = results[ds][\"init_time\"] * 1000\n",
    "    results[ds][\"mdr\"] = results[ds].mean_distance / np.sqrt(results[ds].n_features) * 100\n",
    "\n",
    "for ds in found_ds:\n",
    "    for index, row in results[ds].iterrows():\n",
    "        row[\"dataset\"] = ds\n",
    "        all_results = all_results.append(row)\n",
    "idx_neg = all_results[\"clique_size\"] < 0\n",
    "all_results.loc[idx_neg, \"clique_size\"] = 0\n",
    "\n",
    "found_explainers = all_results[\"explainer\"].unique()\n",
    "explainer_dict = {\n",
    "    \"AFT\" : \"AFT\",\n",
    "    \"FACET\" : \"FACET\",\n",
    "    \"FACETPaths\" : \"FACETPaths\",\n",
    "    \"FACETTrees\" : \"FACETTrees\",\n",
    "    \"FACETGrow\" : \"FACETGrow\",\n",
    "    \"FACETIndex\": \"FACETIndex\",\n",
    "    \"OCEAN\" : \"OCEAN\",\n",
    "    \"MACE\": \"MACE\"\n",
    "}\n",
    "explainer_colors = {\n",
    "    \"AFT\" : colors[3] , # purple\n",
    "    \"FACET\" : colors[0], # red\n",
    "    \"FACETPaths\" : colors[0], # red\n",
    "    \"FACETTrees\" : colors[0], # red\n",
    "    \"FACETGrow\" : colors[0], # red\n",
    "    \"FACETIndex\" : colors[0], # red\n",
    "    \"OCEAN\" : colors[4], # orange\n",
    "    \"MACE\": colors[1] # blue\n",
    "}\n",
    "explainer_names = []\n",
    "for e in found_explainers:\n",
    "    explainer_names.append(explainer_dict[e])\n",
    "\n",
    "print(\"Generating figures for run-{:03d}\".format(run_id))\n",
    "print(\"Datasets included:\")\n",
    "for ds in found_ds:\n",
    "    print(\"\\t\", ds)\n",
    "print(\"Explainers included:\")\n",
    "for expl in found_explainers:\n",
    "    print(\"\\t\", expl)"
   ]
  },
  {
   "cell_type": "code",
   "execution_count": 51,
   "metadata": {},
   "outputs": [
    {
     "data": {
      "text/html": [
       "<div>\n",
       "<style scoped>\n",
       "    .dataframe tbody tr th:only-of-type {\n",
       "        vertical-align: middle;\n",
       "    }\n",
       "\n",
       "    .dataframe tbody tr th {\n",
       "        vertical-align: top;\n",
       "    }\n",
       "\n",
       "    .dataframe thead th {\n",
       "        text-align: right;\n",
       "    }\n",
       "</style>\n",
       "<table border=\"1\" class=\"dataframe\">\n",
       "  <thead>\n",
       "    <tr style=\"text-align: right;\">\n",
       "      <th></th>\n",
       "      <th>dataset</th>\n",
       "      <th>explainer</th>\n",
       "      <th>n_samples</th>\n",
       "      <th>n_samples_explainedn_features</th>\n",
       "      <th>accuracy</th>\n",
       "      <th>precision</th>\n",
       "      <th>recall</th>\n",
       "      <th>f1</th>\n",
       "      <th>avg_nnodes</th>\n",
       "      <th>avg_nleaves</th>\n",
       "      <th>...</th>\n",
       "      <th>clique_size</th>\n",
       "      <th>init_time</th>\n",
       "      <th>sample_runtime</th>\n",
       "      <th>mdr</th>\n",
       "      <th>ext_avg</th>\n",
       "      <th>ext_max</th>\n",
       "      <th>ext_min</th>\n",
       "      <th>grown_clique_size</th>\n",
       "      <th>n_features</th>\n",
       "      <th>n_samples_explained</th>\n",
       "    </tr>\n",
       "  </thead>\n",
       "  <tbody>\n",
       "    <tr>\n",
       "      <th>0</th>\n",
       "      <td>cancer</td>\n",
       "      <td>FACETIndex</td>\n",
       "      <td>20</td>\n",
       "      <td>NaN</td>\n",
       "      <td>0.97</td>\n",
       "      <td>0.975000</td>\n",
       "      <td>0.938095</td>\n",
       "      <td>0.953100</td>\n",
       "      <td>12.60</td>\n",
       "      <td>6.80</td>\n",
       "      <td>...</td>\n",
       "      <td>0</td>\n",
       "      <td>30.999756</td>\n",
       "      <td>4.129825</td>\n",
       "      <td>5.833444</td>\n",
       "      <td>-1.0</td>\n",
       "      <td>-1.0</td>\n",
       "      <td>-1.0</td>\n",
       "      <td>-1.0</td>\n",
       "      <td>30.0</td>\n",
       "      <td>20.0</td>\n",
       "    </tr>\n",
       "    <tr>\n",
       "      <th>1</th>\n",
       "      <td>cancer</td>\n",
       "      <td>OCEAN</td>\n",
       "      <td>20</td>\n",
       "      <td>NaN</td>\n",
       "      <td>0.97</td>\n",
       "      <td>0.975000</td>\n",
       "      <td>0.938095</td>\n",
       "      <td>0.953100</td>\n",
       "      <td>12.60</td>\n",
       "      <td>6.80</td>\n",
       "      <td>...</td>\n",
       "      <td>0</td>\n",
       "      <td>0.000000</td>\n",
       "      <td>52.119062</td>\n",
       "      <td>3.321154</td>\n",
       "      <td>-1.0</td>\n",
       "      <td>-1.0</td>\n",
       "      <td>-1.0</td>\n",
       "      <td>-1.0</td>\n",
       "      <td>30.0</td>\n",
       "      <td>20.0</td>\n",
       "    </tr>\n",
       "    <tr>\n",
       "      <th>0</th>\n",
       "      <td>glass</td>\n",
       "      <td>FACETIndex</td>\n",
       "      <td>20</td>\n",
       "      <td>NaN</td>\n",
       "      <td>0.80</td>\n",
       "      <td>0.748846</td>\n",
       "      <td>0.883317</td>\n",
       "      <td>0.806518</td>\n",
       "      <td>11.70</td>\n",
       "      <td>6.35</td>\n",
       "      <td>...</td>\n",
       "      <td>0</td>\n",
       "      <td>11.599064</td>\n",
       "      <td>1.290014</td>\n",
       "      <td>4.255824</td>\n",
       "      <td>-1.0</td>\n",
       "      <td>-1.0</td>\n",
       "      <td>-1.0</td>\n",
       "      <td>-1.0</td>\n",
       "      <td>9.0</td>\n",
       "      <td>20.0</td>\n",
       "    </tr>\n",
       "    <tr>\n",
       "      <th>1</th>\n",
       "      <td>glass</td>\n",
       "      <td>OCEAN</td>\n",
       "      <td>20</td>\n",
       "      <td>NaN</td>\n",
       "      <td>0.80</td>\n",
       "      <td>0.748846</td>\n",
       "      <td>0.883317</td>\n",
       "      <td>0.806518</td>\n",
       "      <td>11.70</td>\n",
       "      <td>6.35</td>\n",
       "      <td>...</td>\n",
       "      <td>0</td>\n",
       "      <td>0.000000</td>\n",
       "      <td>42.639229</td>\n",
       "      <td>1.756953</td>\n",
       "      <td>-1.0</td>\n",
       "      <td>-1.0</td>\n",
       "      <td>-1.0</td>\n",
       "      <td>-1.0</td>\n",
       "      <td>9.0</td>\n",
       "      <td>20.0</td>\n",
       "    </tr>\n",
       "    <tr>\n",
       "      <th>0</th>\n",
       "      <td>magic</td>\n",
       "      <td>FACETIndex</td>\n",
       "      <td>20</td>\n",
       "      <td>NaN</td>\n",
       "      <td>0.81</td>\n",
       "      <td>0.787577</td>\n",
       "      <td>0.984615</td>\n",
       "      <td>0.872696</td>\n",
       "      <td>14.98</td>\n",
       "      <td>7.99</td>\n",
       "      <td>...</td>\n",
       "      <td>0</td>\n",
       "      <td>854.521942</td>\n",
       "      <td>84.231138</td>\n",
       "      <td>3.957790</td>\n",
       "      <td>-1.0</td>\n",
       "      <td>-1.0</td>\n",
       "      <td>-1.0</td>\n",
       "      <td>-1.0</td>\n",
       "      <td>10.0</td>\n",
       "      <td>20.0</td>\n",
       "    </tr>\n",
       "  </tbody>\n",
       "</table>\n",
       "<p>5 rows × 27 columns</p>\n",
       "</div>"
      ],
      "text/plain": [
       "  dataset   explainer n_samples  n_samples_explainedn_features  accuracy  \\\n",
       "0  cancer  FACETIndex        20                            NaN      0.97   \n",
       "1  cancer       OCEAN        20                            NaN      0.97   \n",
       "0   glass  FACETIndex        20                            NaN      0.80   \n",
       "1   glass       OCEAN        20                            NaN      0.80   \n",
       "0   magic  FACETIndex        20                            NaN      0.81   \n",
       "\n",
       "   precision    recall        f1  avg_nnodes  avg_nleaves  ...  clique_size  \\\n",
       "0   0.975000  0.938095  0.953100       12.60         6.80  ...            0   \n",
       "1   0.975000  0.938095  0.953100       12.60         6.80  ...            0   \n",
       "0   0.748846  0.883317  0.806518       11.70         6.35  ...            0   \n",
       "1   0.748846  0.883317  0.806518       11.70         6.35  ...            0   \n",
       "0   0.787577  0.984615  0.872696       14.98         7.99  ...            0   \n",
       "\n",
       "    init_time  sample_runtime       mdr  ext_avg  ext_max  ext_min  \\\n",
       "0   30.999756        4.129825  5.833444     -1.0     -1.0     -1.0   \n",
       "1    0.000000       52.119062  3.321154     -1.0     -1.0     -1.0   \n",
       "0   11.599064        1.290014  4.255824     -1.0     -1.0     -1.0   \n",
       "1    0.000000       42.639229  1.756953     -1.0     -1.0     -1.0   \n",
       "0  854.521942       84.231138  3.957790     -1.0     -1.0     -1.0   \n",
       "\n",
       "  grown_clique_size  n_features  n_samples_explained  \n",
       "0              -1.0        30.0                 20.0  \n",
       "1              -1.0        30.0                 20.0  \n",
       "0              -1.0         9.0                 20.0  \n",
       "1              -1.0         9.0                 20.0  \n",
       "0              -1.0        10.0                 20.0  \n",
       "\n",
       "[5 rows x 27 columns]"
      ]
     },
     "execution_count": 51,
     "metadata": {},
     "output_type": "execute_result"
    }
   ],
   "source": [
    "all_results.head()"
   ]
  },
  {
   "cell_type": "code",
   "execution_count": 52,
   "metadata": {},
   "outputs": [],
   "source": [
    "def render_bar_plot(xfeature, yfeature, xlabel, ylabel, title, save_name=None, xrange=None, yrange=None, xlog=False, lloc=None):\n",
    "    fig, ax = plt.subplots()\n",
    "    pos = np.arange(len(found_ds))\n",
    "    bar_width = 0.15\n",
    "\n",
    "    yvalues = all_results[yfeature].unique()\n",
    "\n",
    "    for i in range(len(yvalues)):\n",
    "        isExpl = all_results[yfeature] == yvalues[i]\n",
    "        hbars = ax.barh(y=(pos + bar_width*i), width=all_results[isExpl][xfeature], height=bar_width, log=xlog, color=explainer_colors[yvalues[i]])\n",
    "\n",
    "    plt.xlabel(xlabel)\n",
    "    plt.ylabel(ylabel)\n",
    "    plt.title(title)\n",
    "\n",
    "    if not lloc:\n",
    "        lloc = \"best\"\n",
    "    plt.legend(explainer_names, loc=lloc)\n",
    "    plt.yticks(pos, found_ds)\n",
    "\n",
    "    if save_name is not None:\n",
    "        plt.savefig(fig_output_path + \"/\" + save_name, bbox_inches=\"tight\")"
   ]
  },
  {
   "cell_type": "code",
   "execution_count": 53,
   "metadata": {},
   "outputs": [
    {
     "data": {
      "image/png": "[encoded data removed]",
      "text/plain": [
       "<Figure size 432x288 with 1 Axes>"
      ]
     },
     "metadata": {
      "needs_background": "light"
     },
     "output_type": "display_data"
    }
   ],
   "source": [
    "render_bar_plot(\"init_time\", \"explainer\", \"Initialization Time (ms)\", \"Dataset\", \"Initilization Time by Explainer\", \"inittime.png\", xlog=True)"
   ]
  },
  {
   "cell_type": "code",
   "execution_count": 54,
   "metadata": {},
   "outputs": [
    {
     "data": {
      "image/png": "[encoded data removed]",
      "text/plain": [
       "<Figure size 432x288 with 1 Axes>"
      ]
     },
     "metadata": {
      "needs_background": "light"
     },
     "output_type": "display_data"
    }
   ],
   "source": [
    "render_bar_plot(\"sample_runtime\", \"explainer\", \"Per Sample Runtime (ms)\", \"Dataset\", \"Per Sample Runtime Time by Explainer\", \"runtime.png\", xlog=True)"
   ]
  },
  {
   "cell_type": "code",
   "execution_count": 55,
   "metadata": {},
   "outputs": [
    {
     "data": {
      "image/png": "[encoded data removed]",
      "text/plain": [
       "<Figure size 432x288 with 1 Axes>"
      ]
     },
     "metadata": {
      "needs_background": "light"
     },
     "output_type": "display_data"
    }
   ],
   "source": [
    "render_bar_plot(\"coverage_ratio\", \"explainer\", \"Coverage\", \"Dataset\", \"Coverage by Explainer\", \"coverage.png\")"
   ]
  },
  {
   "cell_type": "code",
   "execution_count": 56,
   "metadata": {},
   "outputs": [
    {
     "data": {
      "image/png": "[encoded data removed]",
      "text/plain": [
       "<Figure size 432x288 with 1 Axes>"
      ]
     },
     "metadata": {
      "needs_background": "light"
     },
     "output_type": "display_data"
    }
   ],
   "source": [
    "render_bar_plot(\"mdr\", \"explainer\", \"Mean Distance Ratio\", \"Dataset\", \"Distance by Explainer\", \"distance.png\")"
   ]
  },
  {
   "cell_type": "code",
   "execution_count": 57,
   "metadata": {},
   "outputs": [
    {
     "data": {
      "image/png": "[encoded data removed]",
      "text/plain": [
       "<Figure size 432x288 with 1 Axes>"
      ]
     },
     "metadata": {
      "needs_background": "light"
     },
     "output_type": "display_data"
    }
   ],
   "source": [
    "render_bar_plot(\"mean_length\", \"explainer\", \"Features Changes\", \"Dataset\", \"Length by Explainer\", \"length.png\")"
   ]
  },
  {
   "cell_type": "code",
   "execution_count": 58,
   "metadata": {},
   "outputs": [
    {
     "data": {
      "image/png": "[encoded data removed]",
      "text/plain": [
       "<Figure size 432x288 with 1 Axes>"
      ]
     },
     "metadata": {
      "needs_background": "light"
     },
     "output_type": "display_data"
    }
   ],
   "source": [
    "render_bar_plot(\"clique_size\", \"explainer\", \"Trees in Clique\", \"Dataset\", \"Max Clique Size by Dataset\", \"cliques.png\")"
   ]
  },
  {
   "cell_type": "code",
   "execution_count": 59,
   "metadata": {},
   "outputs": [],
   "source": [
    "# Classification performance\n",
    "\n",
    "md_table_path = fig_output_path + \"/results.md\"\n",
    "f = open(md_table_path, \"w\")\n",
    "\n",
    "metrics = [\"f1\", \"avg_nnodes\", \"avg_nleaves\", \"avg_depth\", \"q\", \"jaccard\"]\n",
    "formats = [\"{v:0.2f}\", \"{v:0.2f}\", \"{v:0.2f}\", \"{v:0.2f}\", \"{v:0.2f}\", \"{v:0.2f}\"]\n",
    "\n",
    "f.write(\"| dataset | n | p | f1 | nNodes | nLeaves | depth | Q | J |\\n\")\n",
    "f.write(\"|---------|---|---|----|--------|---------|-------|---|---|\\n\")\n",
    "\n",
    "for ds in found_ds:\n",
    "    n = DS_DIMENSIONS[ds][0]\n",
    "    p = DS_DIMENSIONS[ds][1]\n",
    "    f.write(\"| {ds} | {n} | {p}\".format(ds=ds, n=n, p=p))\n",
    "    for i in range(len(metrics)):\n",
    "        metric = metrics[i]\n",
    "        isexpl = results[found_ds[0]][\"explainer\"] == found_explainers[0]\n",
    "        val = results[ds][isexpl][metric].to_numpy()[0]\n",
    "        f.write((\" | \" + \"{v:0.2f}\" + \"\").format(v=val))\n",
    "    f.write(\" |\")\n",
    "    f.write(\"\\n\")\n",
    "\n",
    "# Explanation performance\n",
    "f.write(\"\\n\\n\")\n",
    "metrics = [\"coverage_ratio\", \"sample_runtime\", \"mean_length\", \"mdr\"]\n",
    "scales = [100, 1, 1, 1]\n",
    "f.write(\"|            |       |     | AFT    | FACET  | AFT   | FACET | AFT   | FACET | AFT   | FACET  |\\n\")\n",
    "f.write(\"| ---------- | ----- | --- | ------ | ------ | ----- | ----- | ----- | ----- | ----- | ------ |\\n\")\n",
    "f.write(\"| Dataset    | n     | p   | C      | C      | R     | R     | L     | L     | D     | D      |\\n\")\n",
    "\n",
    "for ds in found_ds:\n",
    "    n = DS_DIMENSIONS[ds][0]\n",
    "    p = DS_DIMENSIONS[ds][1]\n",
    "    f.write(\"| {ds} | {n} | {p}\".format(ds=ds, n=n, p=p))\n",
    "    for i in range(len(metrics)):\n",
    "        metric = metrics[i]\n",
    "        scale = scales[i]\n",
    "        for explainer in found_explainers:\n",
    "            isexpl = results[found_ds[0]][\"explainer\"] == explainer\n",
    "            val = results[ds][isexpl][metric].to_numpy()[0]\n",
    "            f.write(\" | {v:0.2f}\".format(v=val * scale))\n",
    "    f.write(\" |\")\n",
    "    f.write(\"\\n\")\n",
    "\n",
    "f.close()\n"
   ]
  },
  {
   "cell_type": "code",
   "execution_count": 60,
   "metadata": {},
   "outputs": [
    {
     "name": "stdout",
     "output_type": "stream",
     "text": [
      "nan\n",
      "nan\n"
     ]
    }
   ],
   "source": [
    "# \"clique_size\"\n",
    "# \"grown_clique_size\"\n",
    "is_grow = all_results[\"explainer\"] == \"FACETGrow\"\n",
    "avg_starting_clique = all_results[is_grow][\"clique_size\"].mean()\n",
    "avg_final_clique = all_results[is_grow][\"grown_clique_size\"].mean()\n",
    "print(avg_starting_clique)\n",
    "print(avg_final_clique)"
   ]
  }
 ],
 "metadata": {
  "interpreter": {
   "hash": "0ee1fceac40cd608145abbd18cebcc49c15aa542c45457ebe635f49f93e12ec7"
  },
  "kernelspec": {
   "display_name": "Python 3.8.8 64-bit ('dsrg': conda)",
   "name": "python3"
  },
  "language_info": {
   "codemirror_mode": {
    "name": "ipython",
    "version": 3
   },
   "file_extension": ".py",
   "mimetype": "text/x-python",
   "name": "python",
   "nbconvert_exporter": "python",
   "pygments_lexer": "ipython3",
   "version": "3.8.8"
  },
  "orig_nbformat": 4
 },
 "nbformat": 4,
 "nbformat_minor": 2
}
