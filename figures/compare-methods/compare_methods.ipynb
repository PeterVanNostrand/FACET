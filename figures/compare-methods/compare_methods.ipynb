{
 "cells": [
  {
   "cell_type": "code",
   "execution_count": 34,
   "metadata": {},
   "outputs": [],
   "source": [
    "import pandas as pd\n",
    "import matplotlib.pyplot as plt\n",
    "import numpy as np\n",
    "import os\n",
    "import re\n",
    "import sys\n",
    "\n",
    "sys.path.append(os.path.abspath(\"../../\"))\n",
    "from dataset import DS_NAMES\n",
    "from dataset import DS_DIMENSIONS\n",
    "from utilities.figure_tools import get_latest_results_directory, make_fig_directory, load_results"
   ]
  },
  {
   "cell_type": "code",
   "execution_count": 35,
   "metadata": {},
   "outputs": [
    {
     "name": "stdout",
     "output_type": "stream",
     "text": [
      "Generating figures for run-005\n",
      "Datasets included:\n",
      "\t annthyroid\n",
      "\t cardio\n",
      "\t http\n",
      "\t mulcross\n",
      "\t musk\n",
      "\t pendigits\n",
      "\t satimage\n",
      "\t shuttle\n",
      "\t thyroid\n",
      "\t wbc\n",
      "Explainers included:\n",
      "\t BestCandidate\n",
      "\t GraphMerge\n"
     ]
    }
   ],
   "source": [
    "run_id, run_path = get_latest_results_directory(\"../../results/compare-methods/\")\n",
    "# run_id = 15\n",
    "# run_path = \"C:/Users/Peter/Documents/Peter/9-Graduate-School/dsrg/explainable-ad/code/HEEAD/results/vary-dim/run-015\"\n",
    "fig_output_path = make_fig_directory(run_id)\n",
    "found_ds, results = load_results(run_path, group_field=\"explainer\")\n",
    "\n",
    "all_results = pd.DataFrame(columns=[\"dataset\", \"explainer\", \"n_samples\", \"n_features\", \"accuracy\", \"precision\",\n",
    "                               \"recall\", \"f1\", \"avg_nnodes\", \"avg_nleaves\", \"avg_depth\", \"q\", \"jaccard\", \"coverage_ratio\", \"mean_distance\", \"mean_length\", \"runtime\"])\n",
    "\n",
    "for ds in found_ds:\n",
    "    for index, row in results[ds].iterrows():\n",
    "        row[\"dataset\"] = ds\n",
    "        all_results = all_results.append(row)\n",
    "\n",
    "found_explainers = all_results[\"explainer\"].unique()\n",
    "\n",
    "print(\"Generating figures for run-{:03d}\".format(run_id))\n",
    "print(\"Datasets included:\")\n",
    "for ds in found_ds:\n",
    "    print(\"\\t\", ds)\n",
    "print(\"Explainers included:\")\n",
    "for expl in found_explainers:\n",
    "    print(\"\\t\", expl)"
   ]
  },
  {
   "cell_type": "code",
   "execution_count": 36,
   "metadata": {},
   "outputs": [
    {
     "data": {
      "text/html": [
       "<div>\n",
       "<style scoped>\n",
       "    .dataframe tbody tr th:only-of-type {\n",
       "        vertical-align: middle;\n",
       "    }\n",
       "\n",
       "    .dataframe tbody tr th {\n",
       "        vertical-align: top;\n",
       "    }\n",
       "\n",
       "    .dataframe thead th {\n",
       "        text-align: right;\n",
       "    }\n",
       "</style>\n",
       "<table border=\"1\" class=\"dataframe\">\n",
       "  <thead>\n",
       "    <tr style=\"text-align: right;\">\n",
       "      <th></th>\n",
       "      <th>dataset</th>\n",
       "      <th>explainer</th>\n",
       "      <th>n_samples</th>\n",
       "      <th>n_features</th>\n",
       "      <th>accuracy</th>\n",
       "      <th>precision</th>\n",
       "      <th>recall</th>\n",
       "      <th>f1</th>\n",
       "      <th>avg_nnodes</th>\n",
       "      <th>avg_nleaves</th>\n",
       "      <th>avg_depth</th>\n",
       "      <th>q</th>\n",
       "      <th>jaccard</th>\n",
       "      <th>coverage_ratio</th>\n",
       "      <th>mean_distance</th>\n",
       "      <th>mean_length</th>\n",
       "      <th>runtime</th>\n",
       "    </tr>\n",
       "  </thead>\n",
       "  <tbody>\n",
       "    <tr>\n",
       "      <th>0</th>\n",
       "      <td>annthyroid</td>\n",
       "      <td>BestCandidate</td>\n",
       "      <td>7200</td>\n",
       "      <td>6</td>\n",
       "      <td>0.982730</td>\n",
       "      <td>0.993023</td>\n",
       "      <td>0.988291</td>\n",
       "      <td>0.990648</td>\n",
       "      <td>134.06</td>\n",
       "      <td>67.53</td>\n",
       "      <td>14.14</td>\n",
       "      <td>0.949438</td>\n",
       "      <td>1.000000</td>\n",
       "      <td>1.000000</td>\n",
       "      <td>0.016900</td>\n",
       "      <td>1.593472</td>\n",
       "      <td>25.063037</td>\n",
       "    </tr>\n",
       "    <tr>\n",
       "      <th>1</th>\n",
       "      <td>annthyroid</td>\n",
       "      <td>GraphMerge</td>\n",
       "      <td>7200</td>\n",
       "      <td>6</td>\n",
       "      <td>0.982730</td>\n",
       "      <td>0.993023</td>\n",
       "      <td>0.988291</td>\n",
       "      <td>0.990648</td>\n",
       "      <td>134.06</td>\n",
       "      <td>67.53</td>\n",
       "      <td>14.14</td>\n",
       "      <td>0.949438</td>\n",
       "      <td>1.000000</td>\n",
       "      <td>1.000000</td>\n",
       "      <td>0.014140</td>\n",
       "      <td>1.406389</td>\n",
       "      <td>2.955860</td>\n",
       "    </tr>\n",
       "    <tr>\n",
       "      <th>0</th>\n",
       "      <td>cardio</td>\n",
       "      <td>BestCandidate</td>\n",
       "      <td>1831</td>\n",
       "      <td>21</td>\n",
       "      <td>0.984357</td>\n",
       "      <td>0.992044</td>\n",
       "      <td>0.990797</td>\n",
       "      <td>0.991403</td>\n",
       "      <td>43.72</td>\n",
       "      <td>22.36</td>\n",
       "      <td>9.19</td>\n",
       "      <td>0.890906</td>\n",
       "      <td>0.555309</td>\n",
       "      <td>0.911172</td>\n",
       "      <td>0.430570</td>\n",
       "      <td>2.078443</td>\n",
       "      <td>1.680113</td>\n",
       "    </tr>\n",
       "    <tr>\n",
       "      <th>1</th>\n",
       "      <td>cardio</td>\n",
       "      <td>GraphMerge</td>\n",
       "      <td>1831</td>\n",
       "      <td>21</td>\n",
       "      <td>0.984357</td>\n",
       "      <td>0.992044</td>\n",
       "      <td>0.990797</td>\n",
       "      <td>0.991403</td>\n",
       "      <td>43.72</td>\n",
       "      <td>22.36</td>\n",
       "      <td>9.19</td>\n",
       "      <td>0.890906</td>\n",
       "      <td>0.555309</td>\n",
       "      <td>1.000000</td>\n",
       "      <td>0.107014</td>\n",
       "      <td>1.572752</td>\n",
       "      <td>1.718805</td>\n",
       "    </tr>\n",
       "    <tr>\n",
       "      <th>0</th>\n",
       "      <td>http</td>\n",
       "      <td>BestCandidate</td>\n",
       "      <td>567498</td>\n",
       "      <td>3</td>\n",
       "      <td>0.999981</td>\n",
       "      <td>0.999984</td>\n",
       "      <td>0.999997</td>\n",
       "      <td>0.999991</td>\n",
       "      <td>25.92</td>\n",
       "      <td>13.46</td>\n",
       "      <td>5.88</td>\n",
       "      <td>0.979977</td>\n",
       "      <td>0.954737</td>\n",
       "      <td>1.000000</td>\n",
       "      <td>0.237386</td>\n",
       "      <td>1.531796</td>\n",
       "      <td>289.217157</td>\n",
       "    </tr>\n",
       "  </tbody>\n",
       "</table>\n",
       "</div>"
      ],
      "text/plain": [
       "      dataset      explainer n_samples n_features  accuracy  precision  \\\n",
       "0  annthyroid  BestCandidate      7200          6  0.982730   0.993023   \n",
       "1  annthyroid     GraphMerge      7200          6  0.982730   0.993023   \n",
       "0      cardio  BestCandidate      1831         21  0.984357   0.992044   \n",
       "1      cardio     GraphMerge      1831         21  0.984357   0.992044   \n",
       "0        http  BestCandidate    567498          3  0.999981   0.999984   \n",
       "\n",
       "     recall        f1  avg_nnodes  avg_nleaves  avg_depth         q   jaccard  \\\n",
       "0  0.988291  0.990648      134.06        67.53      14.14  0.949438  1.000000   \n",
       "1  0.988291  0.990648      134.06        67.53      14.14  0.949438  1.000000   \n",
       "0  0.990797  0.991403       43.72        22.36       9.19  0.890906  0.555309   \n",
       "1  0.990797  0.991403       43.72        22.36       9.19  0.890906  0.555309   \n",
       "0  0.999997  0.999991       25.92        13.46       5.88  0.979977  0.954737   \n",
       "\n",
       "   coverage_ratio  mean_distance  mean_length     runtime  \n",
       "0        1.000000       0.016900     1.593472   25.063037  \n",
       "1        1.000000       0.014140     1.406389    2.955860  \n",
       "0        0.911172       0.430570     2.078443    1.680113  \n",
       "1        1.000000       0.107014     1.572752    1.718805  \n",
       "0        1.000000       0.237386     1.531796  289.217157  "
      ]
     },
     "execution_count": 36,
     "metadata": {},
     "output_type": "execute_result"
    }
   ],
   "source": [
    "all_results.head()"
   ]
  },
  {
   "cell_type": "code",
   "execution_count": 37,
   "metadata": {},
   "outputs": [],
   "source": [
    "cmap = plt.get_cmap(\"Set1\")\n",
    "colors = cmap.colors"
   ]
  },
  {
   "cell_type": "code",
   "execution_count": 38,
   "metadata": {},
   "outputs": [],
   "source": [
    "all_results[\"sample_runtime\"] = all_results[\"runtime\"] / all_results[\"n_samples\"] * 1000"
   ]
  },
  {
   "cell_type": "code",
   "execution_count": 39,
   "metadata": {},
   "outputs": [
    {
     "data": {
      "text/html": [
       "<div>\n",
       "<style scoped>\n",
       "    .dataframe tbody tr th:only-of-type {\n",
       "        vertical-align: middle;\n",
       "    }\n",
       "\n",
       "    .dataframe tbody tr th {\n",
       "        vertical-align: top;\n",
       "    }\n",
       "\n",
       "    .dataframe thead th {\n",
       "        text-align: right;\n",
       "    }\n",
       "</style>\n",
       "<table border=\"1\" class=\"dataframe\">\n",
       "  <thead>\n",
       "    <tr style=\"text-align: right;\">\n",
       "      <th></th>\n",
       "      <th>dataset</th>\n",
       "      <th>explainer</th>\n",
       "      <th>n_samples</th>\n",
       "      <th>n_features</th>\n",
       "      <th>accuracy</th>\n",
       "      <th>precision</th>\n",
       "      <th>recall</th>\n",
       "      <th>f1</th>\n",
       "      <th>avg_nnodes</th>\n",
       "      <th>avg_nleaves</th>\n",
       "      <th>avg_depth</th>\n",
       "      <th>q</th>\n",
       "      <th>jaccard</th>\n",
       "      <th>coverage_ratio</th>\n",
       "      <th>mean_distance</th>\n",
       "      <th>mean_length</th>\n",
       "      <th>runtime</th>\n",
       "      <th>sample_runtime</th>\n",
       "    </tr>\n",
       "  </thead>\n",
       "  <tbody>\n",
       "    <tr>\n",
       "      <th>0</th>\n",
       "      <td>annthyroid</td>\n",
       "      <td>BestCandidate</td>\n",
       "      <td>7200</td>\n",
       "      <td>6</td>\n",
       "      <td>0.982730</td>\n",
       "      <td>0.993023</td>\n",
       "      <td>0.988291</td>\n",
       "      <td>0.990648</td>\n",
       "      <td>134.06</td>\n",
       "      <td>67.53</td>\n",
       "      <td>14.14</td>\n",
       "      <td>0.949438</td>\n",
       "      <td>1.000000</td>\n",
       "      <td>1.000000</td>\n",
       "      <td>0.016900</td>\n",
       "      <td>1.593472</td>\n",
       "      <td>25.063037</td>\n",
       "      <td>3.480977</td>\n",
       "    </tr>\n",
       "    <tr>\n",
       "      <th>1</th>\n",
       "      <td>annthyroid</td>\n",
       "      <td>GraphMerge</td>\n",
       "      <td>7200</td>\n",
       "      <td>6</td>\n",
       "      <td>0.982730</td>\n",
       "      <td>0.993023</td>\n",
       "      <td>0.988291</td>\n",
       "      <td>0.990648</td>\n",
       "      <td>134.06</td>\n",
       "      <td>67.53</td>\n",
       "      <td>14.14</td>\n",
       "      <td>0.949438</td>\n",
       "      <td>1.000000</td>\n",
       "      <td>1.000000</td>\n",
       "      <td>0.014140</td>\n",
       "      <td>1.406389</td>\n",
       "      <td>2.955860</td>\n",
       "      <td>0.410536</td>\n",
       "    </tr>\n",
       "    <tr>\n",
       "      <th>0</th>\n",
       "      <td>cardio</td>\n",
       "      <td>BestCandidate</td>\n",
       "      <td>1831</td>\n",
       "      <td>21</td>\n",
       "      <td>0.984357</td>\n",
       "      <td>0.992044</td>\n",
       "      <td>0.990797</td>\n",
       "      <td>0.991403</td>\n",
       "      <td>43.72</td>\n",
       "      <td>22.36</td>\n",
       "      <td>9.19</td>\n",
       "      <td>0.890906</td>\n",
       "      <td>0.555309</td>\n",
       "      <td>0.911172</td>\n",
       "      <td>0.430570</td>\n",
       "      <td>2.078443</td>\n",
       "      <td>1.680113</td>\n",
       "      <td>0.917593</td>\n",
       "    </tr>\n",
       "    <tr>\n",
       "      <th>1</th>\n",
       "      <td>cardio</td>\n",
       "      <td>GraphMerge</td>\n",
       "      <td>1831</td>\n",
       "      <td>21</td>\n",
       "      <td>0.984357</td>\n",
       "      <td>0.992044</td>\n",
       "      <td>0.990797</td>\n",
       "      <td>0.991403</td>\n",
       "      <td>43.72</td>\n",
       "      <td>22.36</td>\n",
       "      <td>9.19</td>\n",
       "      <td>0.890906</td>\n",
       "      <td>0.555309</td>\n",
       "      <td>1.000000</td>\n",
       "      <td>0.107014</td>\n",
       "      <td>1.572752</td>\n",
       "      <td>1.718805</td>\n",
       "      <td>0.938725</td>\n",
       "    </tr>\n",
       "    <tr>\n",
       "      <th>0</th>\n",
       "      <td>http</td>\n",
       "      <td>BestCandidate</td>\n",
       "      <td>567498</td>\n",
       "      <td>3</td>\n",
       "      <td>0.999981</td>\n",
       "      <td>0.999984</td>\n",
       "      <td>0.999997</td>\n",
       "      <td>0.999991</td>\n",
       "      <td>25.92</td>\n",
       "      <td>13.46</td>\n",
       "      <td>5.88</td>\n",
       "      <td>0.979977</td>\n",
       "      <td>0.954737</td>\n",
       "      <td>1.000000</td>\n",
       "      <td>0.237386</td>\n",
       "      <td>1.531796</td>\n",
       "      <td>289.217157</td>\n",
       "      <td>0.509636</td>\n",
       "    </tr>\n",
       "  </tbody>\n",
       "</table>\n",
       "</div>"
      ],
      "text/plain": [
       "      dataset      explainer n_samples n_features  accuracy  precision  \\\n",
       "0  annthyroid  BestCandidate      7200          6  0.982730   0.993023   \n",
       "1  annthyroid     GraphMerge      7200          6  0.982730   0.993023   \n",
       "0      cardio  BestCandidate      1831         21  0.984357   0.992044   \n",
       "1      cardio     GraphMerge      1831         21  0.984357   0.992044   \n",
       "0        http  BestCandidate    567498          3  0.999981   0.999984   \n",
       "\n",
       "     recall        f1  avg_nnodes  avg_nleaves  avg_depth         q   jaccard  \\\n",
       "0  0.988291  0.990648      134.06        67.53      14.14  0.949438  1.000000   \n",
       "1  0.988291  0.990648      134.06        67.53      14.14  0.949438  1.000000   \n",
       "0  0.990797  0.991403       43.72        22.36       9.19  0.890906  0.555309   \n",
       "1  0.990797  0.991403       43.72        22.36       9.19  0.890906  0.555309   \n",
       "0  0.999997  0.999991       25.92        13.46       5.88  0.979977  0.954737   \n",
       "\n",
       "   coverage_ratio  mean_distance  mean_length     runtime sample_runtime  \n",
       "0        1.000000       0.016900     1.593472   25.063037       3.480977  \n",
       "1        1.000000       0.014140     1.406389    2.955860       0.410536  \n",
       "0        0.911172       0.430570     2.078443    1.680113       0.917593  \n",
       "1        1.000000       0.107014     1.572752    1.718805       0.938725  \n",
       "0        1.000000       0.237386     1.531796  289.217157       0.509636  "
      ]
     },
     "execution_count": 39,
     "metadata": {},
     "output_type": "execute_result"
    }
   ],
   "source": [
    "all_results.head()"
   ]
  },
  {
   "cell_type": "code",
   "execution_count": 40,
   "metadata": {},
   "outputs": [],
   "source": [
    "def render_bar_plot(xfeature, yfeature, xlabel, ylabel, title, save_name=None, xrange=None, yrange=None):\n",
    "    fig, ax = plt.subplots()\n",
    "    pos = np.arange(len(found_ds))\n",
    "    bar_width = 0.4\n",
    "\n",
    "    yvalues = all_results[yfeature].unique()\n",
    "\n",
    "    for i in range(len(yvalues)):\n",
    "        isExpl = all_results[yfeature] == yvalues[i]\n",
    "        ax.barh(y=(pos + bar_width*i), width=all_results[isExpl][xfeature], height=bar_width)\n",
    "\n",
    "    plt.xlabel(xlabel)\n",
    "    plt.ylabel(ylabel)\n",
    "    plt.title(title)\n",
    "    plt.legend(found_explainers,loc=\"best\")\n",
    "    plt.yticks(pos, found_ds)\n",
    "\n",
    "    if save_name is not None:\n",
    "        plt.savefig(fig_output_path + \"/\" + save_name)"
   ]
  },
  {
   "cell_type": "code",
   "execution_count": 41,
   "metadata": {},
   "outputs": [
    {
     "data": {
      "image/png": "[encoded data removed]",
      "text/plain": [
       "<Figure size 432x288 with 1 Axes>"
      ]
     },
     "metadata": {
      "needs_background": "light"
     },
     "output_type": "display_data"
    }
   ],
   "source": [
    "render_bar_plot(\"sample_runtime\", \"explainer\", \"Runtime (ms)\", \"Dataset\", \"Runtime by Explainer\", \"runtime.png\")"
   ]
  },
  {
   "cell_type": "code",
   "execution_count": 42,
   "metadata": {},
   "outputs": [
    {
     "data": {
      "image/png": "[encoded data removed]",
      "text/plain": [
       "<Figure size 432x288 with 1 Axes>"
      ]
     },
     "metadata": {
      "needs_background": "light"
     },
     "output_type": "display_data"
    }
   ],
   "source": [
    "render_bar_plot(\"coverage_ratio\", \"explainer\", \"Coverage\", \"Dataset\", \"Coverage by Explainer\", \"coverage.png\")"
   ]
  },
  {
   "cell_type": "code",
   "execution_count": 43,
   "metadata": {},
   "outputs": [
    {
     "data": {
      "image/png": "[encoded data removed]",
      "text/plain": [
       "<Figure size 432x288 with 1 Axes>"
      ]
     },
     "metadata": {
      "needs_background": "light"
     },
     "output_type": "display_data"
    }
   ],
   "source": [
    "render_bar_plot(\"mean_distance\", \"explainer\", \"Mean Distance Ratio\", \"Dataset\", \"Distance by Explainer\", \"distance.png\")"
   ]
  },
  {
   "cell_type": "code",
   "execution_count": 44,
   "metadata": {},
   "outputs": [
    {
     "data": {
      "image/png": "[encoded data removed]",
      "text/plain": [
       "<Figure size 432x288 with 1 Axes>"
      ]
     },
     "metadata": {
      "needs_background": "light"
     },
     "output_type": "display_data"
    }
   ],
   "source": [
    "render_bar_plot(\"mean_length\", \"explainer\", \"Mean Distance Ratio\", \"Dataset\", \"Length by Explainer\", \"length.png\")"
   ]
  },
  {
   "cell_type": "code",
   "execution_count": 45,
   "metadata": {},
   "outputs": [
    {
     "data": {
      "text/plain": [
       "'run-005'"
      ]
     },
     "execution_count": 45,
     "metadata": {},
     "output_type": "execute_result"
    }
   ],
   "source": [
    "fig_output_path"
   ]
  },
  {
   "cell_type": "code",
   "execution_count": 48,
   "metadata": {},
   "outputs": [],
   "source": [
    "# Classification performance\n",
    "\n",
    "md_table_path = fig_output_path + \"/results.md\"\n",
    "f = open(md_table_path, \"w\")\n",
    "\n",
    "metrics = [\"f1\", \"avg_nnodes\", \"avg_nleaves\", \"avg_depth\", \"q\", \"jaccard\"]\n",
    "formats = [\"{v:0.2f}\", \"{v:0.2f}\", \"{v:0.2f}\", \"{v:0.2f}\", \"{v:0.2f}\", \"{v:0.2f}\"]\n",
    "\n",
    "f.write(\"| dataset | n | p | f1 | nNodes | nLeaves | depth | Q | J |\\n\")\n",
    "f.write(\"|---------|---|---|----|--------|---------|-------|---|---|\\n\")\n",
    "\n",
    "for ds in found_ds:\n",
    "    n = DS_DIMENSIONS[ds][0]\n",
    "    p = DS_DIMENSIONS[ds][1]\n",
    "    f.write(\"| {ds} | {n} | {p}\".format(ds=ds, n=n, p=p))\n",
    "    for i in range(len(metrics)):\n",
    "        metric = metrics[i]\n",
    "        isexpl = results[found_ds[0]][\"explainer\"] == found_explainers[0]\n",
    "        val = results[ds][isexpl][metric].to_numpy()[0]\n",
    "        f.write((\" | \" + \"{v:0.2f}\" + \"\").format(v=val))\n",
    "    f.write(\" |\")\n",
    "    f.write(\"\\n\")\n",
    "\n",
    "# Explanation performance\n",
    "f.write(\"\\n\\n\")\n",
    "metrics = [\"coverage_ratio\", \"sample_runtime\", \"mean_length\", \"mean_distance\"]\n",
    "scales = [100, 1, 1, 100]\n",
    "f.write(\"|            |       |     | AFT    | AFT    | AFT   | AFT  | FACET | FACET | FACET | FACET  |\\n\")\n",
    "f.write(\"| ---------- | ----- | --- | ------ | ------ | ----- | ---- | ----- | ----- | ----- | ------ |\\n\")\n",
    "f.write(\"| Dataset    | n     | p   | C      | C      | R     | R    | L     | L     | D     | D      |\\n\")\n",
    "\n",
    "for ds in found_ds:\n",
    "    n = DS_DIMENSIONS[ds][0]\n",
    "    p = DS_DIMENSIONS[ds][1]\n",
    "    f.write(\"| {ds} | {n} | {p}\".format(ds=ds, n=n, p=p))\n",
    "    for i in range(len(metrics)):\n",
    "        metric = metrics[i]\n",
    "        scale = scales[i]\n",
    "        for explainer in found_explainers:\n",
    "            isexpl = results[found_ds[0]][\"explainer\"] == explainer\n",
    "            if metric == \"sample_runtime\":\n",
    "               val = results[ds][isexpl][\"runtime\"].to_numpy()[0] / results[ds][isexpl][\"n_samples\"].to_numpy()[0] * 1000\n",
    "            else:\n",
    "                val = results[ds][isexpl][metric].to_numpy()[0]\n",
    "            f.write(\" | {v:0.2f}\".format(v=val * scale))\n",
    "    f.write(\" |\")\n",
    "    f.write(\"\\n\")\n",
    "\n",
    "f.close()"
   ]
  }
 ],
 "metadata": {
  "interpreter": {
   "hash": "0ee1fceac40cd608145abbd18cebcc49c15aa542c45457ebe635f49f93e12ec7"
  },
  "kernelspec": {
   "display_name": "Python 3.8.8 64-bit ('dsrg': conda)",
   "name": "python3"
  },
  "language_info": {
   "codemirror_mode": {
    "name": "ipython",
    "version": 3
   },
   "file_extension": ".py",
   "mimetype": "text/x-python",
   "name": "python",
   "nbconvert_exporter": "python",
   "pygments_lexer": "ipython3",
   "version": "3.8.8"
  },
  "orig_nbformat": 4
 },
 "nbformat": 4,
 "nbformat_minor": 2
}
