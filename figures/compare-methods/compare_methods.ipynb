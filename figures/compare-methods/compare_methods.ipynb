{
 "cells": [
  {
   "cell_type": "code",
   "execution_count": 1,
   "metadata": {},
   "outputs": [],
   "source": [
    "import pandas as pd\n",
    "import matplotlib.pyplot as plt\n",
    "import numpy as np\n",
    "import os\n",
    "import re\n",
    "import sys\n",
    "\n",
    "sys.path.append(os.path.abspath(\"../../\"))\n",
    "from dataset import DS_NAMES\n",
    "from dataset import DS_DIMENSIONS\n",
    "from utilities.figure_tools import get_latest_results_directory, make_fig_directory, load_results\n",
    "\n",
    "cmap = plt.get_cmap(\"Set1\")\n",
    "colors = cmap.colors"
   ]
  },
  {
   "cell_type": "code",
   "execution_count": 2,
   "metadata": {},
   "outputs": [
    {
     "name": "stdout",
     "output_type": "stream",
     "text": [
      "Generating figures for run-116\n",
      "Datasets included:\n",
      "\t cancer\n",
      "\t glass\n",
      "\t magic\n",
      "\t spambase\n",
      "\t vertebral\n",
      "Explainers included:\n",
      "\t AFT\n",
      "\t FACETIndex\n",
      "\t MACE\n",
      "\t OCEAN\n"
     ]
    }
   ],
   "source": [
    "run_id, run_path = get_latest_results_directory(\"../../results/compare-methods/\")\n",
    "# run_id = 98\n",
    "# run_path = \"C:/Users/Peter/Documents/Peter/9-Graduate-School/2-dsrg/explainable-ad/code/HEEAD/results/compare-methods/run-{:003d}\".format(run_id)\n",
    "fig_output_path = make_fig_directory(run_id)\n",
    "found_ds, results = load_results(run_path, group_fields=[\"explainer\"])\n",
    "\n",
    "all_results = pd.DataFrame(columns=[\"dataset\", \"explainer\", \"n_samples\", \"n_samples_explained\", \"n_features\", \"accuracy\", \"precision\", \"recall\", \"f1\", \"avg_nnodes\", \"avg_nleaves\", \"avg_depth\", \"q\", \"jaccard\", \"coverage_ratio\", \"mean_distance\", \"mean_length\", \"runtime\", \"clique_size\", \"init_time\", \"sample_runtime\", \"mdr\"])\n",
    "\n",
    "for ds in found_ds:\n",
    "    results[ds][\"sample_runtime\"] = results[ds].runtime / results[ds].n_samples_explained * 1000\n",
    "    results[ds][\"init_time\"] = results[ds][\"init_time\"] * 1000\n",
    "    results[ds][\"mdr\"] = results[ds].mean_distance\n",
    "    # results[ds][\"mdr\"] = results[ds].mean_distance / np.sqrt(results[ds].n_features)\n",
    "\n",
    "\n",
    "for ds in found_ds:\n",
    "    for index, row in results[ds].iterrows():\n",
    "        row[\"dataset\"] = ds\n",
    "        all_results = all_results.append(row)\n",
    "idx_neg = all_results[\"clique_size\"] < 0\n",
    "all_results.loc[idx_neg, \"clique_size\"] = 0\n",
    "\n",
    "found_explainers = all_results[\"explainer\"].unique()\n",
    "explainer_dict = {\n",
    "    \"AFT\" : \"AFT\",\n",
    "    \"FACET\" : \"FACET\",\n",
    "    \"FACETPaths\" : \"FACETPaths\",\n",
    "    \"FACETTrees\" : \"FACETTrees\",\n",
    "    \"FACETGrow\" : \"FACETGrow\",\n",
    "    \"FACETIndex\": \"FACETIndex\",\n",
    "    \"FACETBranchBound\": \"FACETBranchBound\",\n",
    "    \"OCEAN\" : \"OCEAN\",\n",
    "    \"MACE\": \"MACE\"\n",
    "}\n",
    "explainer_colors = {\n",
    "    \"AFT\" : colors[3] , # purple\n",
    "    \"FACET\" : colors[0], # red\n",
    "    \"FACETPaths\" : colors[0], # red\n",
    "    \"FACETTrees\" : colors[0], # red\n",
    "    \"FACETGrow\" : \"orangered\",\n",
    "    \"FACETIndex\" : colors[0], # red\n",
    "    \"FACETBranchBound\": \"purple\",\n",
    "    \"OCEAN\" : colors[4], # orange\n",
    "    \"MACE\": colors[1] # blue\n",
    "}\n",
    "explainer_names = []\n",
    "for e in found_explainers:\n",
    "    explainer_names.append(explainer_dict[e])\n",
    "\n",
    "print(\"Generating figures for run-{:03d}\".format(run_id))\n",
    "print(\"Datasets included:\")\n",
    "for ds in found_ds:\n",
    "    print(\"\\t\", ds)\n",
    "print(\"Explainers included:\")\n",
    "for expl in found_explainers:\n",
    "    print(\"\\t\", expl)"
   ]
  },
  {
   "cell_type": "code",
   "execution_count": 3,
   "metadata": {},
   "outputs": [
    {
     "data": {
      "text/html": [
       "<div>\n",
       "<style scoped>\n",
       "    .dataframe tbody tr th:only-of-type {\n",
       "        vertical-align: middle;\n",
       "    }\n",
       "\n",
       "    .dataframe tbody tr th {\n",
       "        vertical-align: top;\n",
       "    }\n",
       "\n",
       "    .dataframe thead th {\n",
       "        text-align: right;\n",
       "    }\n",
       "</style>\n",
       "<table border=\"1\" class=\"dataframe\">\n",
       "  <thead>\n",
       "    <tr style=\"text-align: right;\">\n",
       "      <th></th>\n",
       "      <th>dataset</th>\n",
       "      <th>explainer</th>\n",
       "      <th>n_samples</th>\n",
       "      <th>n_samples_explained</th>\n",
       "      <th>n_features</th>\n",
       "      <th>accuracy</th>\n",
       "      <th>precision</th>\n",
       "      <th>recall</th>\n",
       "      <th>f1</th>\n",
       "      <th>avg_nnodes</th>\n",
       "      <th>...</th>\n",
       "      <th>sample_runtime</th>\n",
       "      <th>mdr</th>\n",
       "      <th>ext_avg</th>\n",
       "      <th>ext_max</th>\n",
       "      <th>ext_min</th>\n",
       "      <th>grown_clique_size</th>\n",
       "      <th>idx_dim_0</th>\n",
       "      <th>idx_dim_1</th>\n",
       "      <th>rects_searched_0</th>\n",
       "      <th>rects_searched_1</th>\n",
       "    </tr>\n",
       "  </thead>\n",
       "  <tbody>\n",
       "    <tr>\n",
       "      <th>0</th>\n",
       "      <td>cancer</td>\n",
       "      <td>AFT</td>\n",
       "      <td>20</td>\n",
       "      <td>20</td>\n",
       "      <td>30</td>\n",
       "      <td>0.95</td>\n",
       "      <td>1.000000</td>\n",
       "      <td>0.666667</td>\n",
       "      <td>0.800000</td>\n",
       "      <td>20.8</td>\n",
       "      <td>...</td>\n",
       "      <td>1.643896</td>\n",
       "      <td>0.200897</td>\n",
       "      <td>-1.0</td>\n",
       "      <td>-1.0</td>\n",
       "      <td>-1.0</td>\n",
       "      <td>-1.0</td>\n",
       "      <td>-1.0</td>\n",
       "      <td>-1.0</td>\n",
       "      <td>-1.0</td>\n",
       "      <td>-1.0</td>\n",
       "    </tr>\n",
       "    <tr>\n",
       "      <th>1</th>\n",
       "      <td>cancer</td>\n",
       "      <td>FACETIndex</td>\n",
       "      <td>20</td>\n",
       "      <td>20</td>\n",
       "      <td>30</td>\n",
       "      <td>0.95</td>\n",
       "      <td>1.000000</td>\n",
       "      <td>0.666667</td>\n",
       "      <td>0.800000</td>\n",
       "      <td>20.8</td>\n",
       "      <td>...</td>\n",
       "      <td>67.200160</td>\n",
       "      <td>0.146492</td>\n",
       "      <td>-1.0</td>\n",
       "      <td>-1.0</td>\n",
       "      <td>-1.0</td>\n",
       "      <td>-1.0</td>\n",
       "      <td>11.0</td>\n",
       "      <td>11.0</td>\n",
       "      <td>12013.0</td>\n",
       "      <td>48404.0</td>\n",
       "    </tr>\n",
       "    <tr>\n",
       "      <th>2</th>\n",
       "      <td>cancer</td>\n",
       "      <td>MACE</td>\n",
       "      <td>20</td>\n",
       "      <td>20</td>\n",
       "      <td>30</td>\n",
       "      <td>0.95</td>\n",
       "      <td>1.000000</td>\n",
       "      <td>0.666667</td>\n",
       "      <td>0.800000</td>\n",
       "      <td>20.8</td>\n",
       "      <td>...</td>\n",
       "      <td>3901.996827</td>\n",
       "      <td>NaN</td>\n",
       "      <td>-1.0</td>\n",
       "      <td>-1.0</td>\n",
       "      <td>-1.0</td>\n",
       "      <td>-1.0</td>\n",
       "      <td>-1.0</td>\n",
       "      <td>-1.0</td>\n",
       "      <td>-1.0</td>\n",
       "      <td>-1.0</td>\n",
       "    </tr>\n",
       "    <tr>\n",
       "      <th>3</th>\n",
       "      <td>cancer</td>\n",
       "      <td>OCEAN</td>\n",
       "      <td>20</td>\n",
       "      <td>20</td>\n",
       "      <td>30</td>\n",
       "      <td>0.95</td>\n",
       "      <td>1.000000</td>\n",
       "      <td>0.666667</td>\n",
       "      <td>0.800000</td>\n",
       "      <td>20.8</td>\n",
       "      <td>...</td>\n",
       "      <td>44.259965</td>\n",
       "      <td>0.139753</td>\n",
       "      <td>-1.0</td>\n",
       "      <td>-1.0</td>\n",
       "      <td>-1.0</td>\n",
       "      <td>-1.0</td>\n",
       "      <td>-1.0</td>\n",
       "      <td>-1.0</td>\n",
       "      <td>-1.0</td>\n",
       "      <td>-1.0</td>\n",
       "    </tr>\n",
       "    <tr>\n",
       "      <th>0</th>\n",
       "      <td>glass</td>\n",
       "      <td>AFT</td>\n",
       "      <td>20</td>\n",
       "      <td>20</td>\n",
       "      <td>9</td>\n",
       "      <td>0.80</td>\n",
       "      <td>0.777778</td>\n",
       "      <td>0.777778</td>\n",
       "      <td>0.777778</td>\n",
       "      <td>21.8</td>\n",
       "      <td>...</td>\n",
       "      <td>1.550019</td>\n",
       "      <td>0.152806</td>\n",
       "      <td>-1.0</td>\n",
       "      <td>-1.0</td>\n",
       "      <td>-1.0</td>\n",
       "      <td>-1.0</td>\n",
       "      <td>-1.0</td>\n",
       "      <td>-1.0</td>\n",
       "      <td>-1.0</td>\n",
       "      <td>-1.0</td>\n",
       "    </tr>\n",
       "  </tbody>\n",
       "</table>\n",
       "<p>5 rows × 30 columns</p>\n",
       "</div>"
      ],
      "text/plain": [
       "  dataset   explainer n_samples n_samples_explained n_features  accuracy  \\\n",
       "0  cancer         AFT        20                  20         30      0.95   \n",
       "1  cancer  FACETIndex        20                  20         30      0.95   \n",
       "2  cancer        MACE        20                  20         30      0.95   \n",
       "3  cancer       OCEAN        20                  20         30      0.95   \n",
       "0   glass         AFT        20                  20          9      0.80   \n",
       "\n",
       "   precision    recall        f1  avg_nnodes  ...  sample_runtime       mdr  \\\n",
       "0   1.000000  0.666667  0.800000        20.8  ...        1.643896  0.200897   \n",
       "1   1.000000  0.666667  0.800000        20.8  ...       67.200160  0.146492   \n",
       "2   1.000000  0.666667  0.800000        20.8  ...     3901.996827       NaN   \n",
       "3   1.000000  0.666667  0.800000        20.8  ...       44.259965  0.139753   \n",
       "0   0.777778  0.777778  0.777778        21.8  ...        1.550019  0.152806   \n",
       "\n",
       "   ext_avg  ext_max  ext_min  grown_clique_size  idx_dim_0  idx_dim_1  \\\n",
       "0     -1.0     -1.0     -1.0               -1.0       -1.0       -1.0   \n",
       "1     -1.0     -1.0     -1.0               -1.0       11.0       11.0   \n",
       "2     -1.0     -1.0     -1.0               -1.0       -1.0       -1.0   \n",
       "3     -1.0     -1.0     -1.0               -1.0       -1.0       -1.0   \n",
       "0     -1.0     -1.0     -1.0               -1.0       -1.0       -1.0   \n",
       "\n",
       "  rects_searched_0  rects_searched_1  \n",
       "0             -1.0              -1.0  \n",
       "1          12013.0           48404.0  \n",
       "2             -1.0              -1.0  \n",
       "3             -1.0              -1.0  \n",
       "0             -1.0              -1.0  \n",
       "\n",
       "[5 rows x 30 columns]"
      ]
     },
     "execution_count": 3,
     "metadata": {},
     "output_type": "execute_result"
    }
   ],
   "source": [
    "all_results.head()"
   ]
  },
  {
   "cell_type": "code",
   "execution_count": 4,
   "metadata": {},
   "outputs": [],
   "source": [
    "def render_bar_plot(xfeature, yfeature, xlabel, ylabel, title, save_name=None, xrange=None, yrange=None, xlog=False, lloc=None):\n",
    "    fig, ax = plt.subplots()\n",
    "    pos = np.arange(len(found_ds))\n",
    "    bar_width = 0.15\n",
    "\n",
    "    yvalues = all_results[yfeature].unique()\n",
    "\n",
    "    for i in range(len(yvalues)):\n",
    "        isExpl = all_results[yfeature] == yvalues[i]\n",
    "        hbars = ax.barh(y=(pos + bar_width*i), width=all_results[isExpl][xfeature], height=bar_width, log=xlog, color=explainer_colors[yvalues[i]])\n",
    "\n",
    "    plt.xlabel(xlabel)\n",
    "    plt.ylabel(ylabel)\n",
    "    plt.title(title)\n",
    "\n",
    "    if not lloc:\n",
    "        lloc = \"best\"\n",
    "    plt.legend(explainer_names, loc=lloc, bbox_to_anchor=(1,1))\n",
    "    plt.yticks(pos, found_ds)\n",
    "\n",
    "    if save_name is not None:\n",
    "        plt.savefig(fig_output_path + \"/\" + save_name, bbox_inches=\"tight\")"
   ]
  },
  {
   "cell_type": "code",
   "execution_count": 5,
   "metadata": {},
   "outputs": [
    {
     "data": {
      "image/png": "[encoded data removed]",
      "text/plain": [
       "<Figure size 432x288 with 1 Axes>"
      ]
     },
     "metadata": {
      "needs_background": "light"
     },
     "output_type": "display_data"
    }
   ],
   "source": [
    "render_bar_plot(\"init_time\", \"explainer\", \"Initialization Time (ms)\", \"Dataset\", \"Initilization Time by Explainer\", \"inittime.png\", xlog=True, lloc=\"upper left\")"
   ]
  },
  {
   "cell_type": "code",
   "execution_count": 6,
   "metadata": {},
   "outputs": [
    {
     "data": {
      "image/png": "[encoded data removed]",
      "text/plain": [
       "<Figure size 432x288 with 1 Axes>"
      ]
     },
     "metadata": {
      "needs_background": "light"
     },
     "output_type": "display_data"
    }
   ],
   "source": [
    "render_bar_plot(\"sample_runtime\", \"explainer\", \"Per Sample Runtime (ms)\", \"Dataset\", \"Per Sample Runtime Time by Explainer\", \"runtime.png\", xlog=True, lloc=\"upper left\")"
   ]
  },
  {
   "cell_type": "code",
   "execution_count": 7,
   "metadata": {},
   "outputs": [
    {
     "data": {
      "image/png": "[encoded data removed]",
      "text/plain": [
       "<Figure size 432x288 with 1 Axes>"
      ]
     },
     "metadata": {
      "needs_background": "light"
     },
     "output_type": "display_data"
    }
   ],
   "source": [
    "render_bar_plot(\"coverage_ratio\", \"explainer\", \"Coverage\", \"Dataset\", \"Coverage by Explainer\", \"coverage.png\", lloc=\"upper left\")"
   ]
  },
  {
   "cell_type": "code",
   "execution_count": 8,
   "metadata": {},
   "outputs": [
    {
     "data": {
      "text/plain": [
       "Index(['dataset', 'explainer', 'n_samples', 'n_samples_explained',\n",
       "       'n_features', 'accuracy', 'precision', 'recall', 'f1', 'avg_nnodes',\n",
       "       'avg_nleaves', 'avg_depth', 'q', 'jaccard', 'coverage_ratio',\n",
       "       'mean_distance', 'mean_length', 'runtime', 'clique_size', 'init_time',\n",
       "       'sample_runtime', 'mdr', 'ext_avg', 'ext_max', 'ext_min',\n",
       "       'grown_clique_size', 'idx_dim_0', 'idx_dim_1', 'rects_searched_0',\n",
       "       'rects_searched_1'],\n",
       "      dtype='object')"
      ]
     },
     "execution_count": 8,
     "metadata": {},
     "output_type": "execute_result"
    }
   ],
   "source": [
    "all_results.columns"
   ]
  },
  {
   "cell_type": "code",
   "execution_count": 9,
   "metadata": {},
   "outputs": [
    {
     "data": {
      "text/html": [
       "<div>\n",
       "<style scoped>\n",
       "    .dataframe tbody tr th:only-of-type {\n",
       "        vertical-align: middle;\n",
       "    }\n",
       "\n",
       "    .dataframe tbody tr th {\n",
       "        vertical-align: top;\n",
       "    }\n",
       "\n",
       "    .dataframe thead th {\n",
       "        text-align: right;\n",
       "    }\n",
       "</style>\n",
       "<table border=\"1\" class=\"dataframe\">\n",
       "  <thead>\n",
       "    <tr style=\"text-align: right;\">\n",
       "      <th></th>\n",
       "      <th>dataset</th>\n",
       "      <th>explainer</th>\n",
       "      <th>mean_distance</th>\n",
       "      <th>mean_length</th>\n",
       "    </tr>\n",
       "  </thead>\n",
       "  <tbody>\n",
       "    <tr>\n",
       "      <th>0</th>\n",
       "      <td>cancer</td>\n",
       "      <td>AFT</td>\n",
       "      <td>0.200897</td>\n",
       "      <td>2.20</td>\n",
       "    </tr>\n",
       "    <tr>\n",
       "      <th>1</th>\n",
       "      <td>cancer</td>\n",
       "      <td>FACETIndex</td>\n",
       "      <td>0.146492</td>\n",
       "      <td>3.45</td>\n",
       "    </tr>\n",
       "    <tr>\n",
       "      <th>2</th>\n",
       "      <td>cancer</td>\n",
       "      <td>MACE</td>\n",
       "      <td>NaN</td>\n",
       "      <td>NaN</td>\n",
       "    </tr>\n",
       "    <tr>\n",
       "      <th>3</th>\n",
       "      <td>cancer</td>\n",
       "      <td>OCEAN</td>\n",
       "      <td>0.139753</td>\n",
       "      <td>3.90</td>\n",
       "    </tr>\n",
       "    <tr>\n",
       "      <th>0</th>\n",
       "      <td>glass</td>\n",
       "      <td>AFT</td>\n",
       "      <td>0.152806</td>\n",
       "      <td>1.40</td>\n",
       "    </tr>\n",
       "  </tbody>\n",
       "</table>\n",
       "</div>"
      ],
      "text/plain": [
       "  dataset   explainer  mean_distance  mean_length\n",
       "0  cancer         AFT       0.200897         2.20\n",
       "1  cancer  FACETIndex       0.146492         3.45\n",
       "2  cancer        MACE            NaN          NaN\n",
       "3  cancer       OCEAN       0.139753         3.90\n",
       "0   glass         AFT       0.152806         1.40"
      ]
     },
     "execution_count": 9,
     "metadata": {},
     "output_type": "execute_result"
    }
   ],
   "source": [
    "all_results[[\"dataset\", \"explainer\", \"mean_distance\", \"mean_length\"]].head()"
   ]
  },
  {
   "cell_type": "code",
   "execution_count": 10,
   "metadata": {},
   "outputs": [
    {
     "data": {
      "image/png": "[encoded data removed]",
      "text/plain": [
       "<Figure size 432x288 with 1 Axes>"
      ]
     },
     "metadata": {
      "needs_background": "light"
     },
     "output_type": "display_data"
    }
   ],
   "source": [
    "render_bar_plot(\"mdr\", \"explainer\", \"Explanation Distance\", \"Dataset\", \"Distance by Explainer\", \"distance.png\", lloc=\"upper left\")"
   ]
  },
  {
   "cell_type": "code",
   "execution_count": 11,
   "metadata": {},
   "outputs": [
    {
     "data": {
      "image/png": "[encoded data removed]",
      "text/plain": [
       "<Figure size 432x288 with 1 Axes>"
      ]
     },
     "metadata": {
      "needs_background": "light"
     },
     "output_type": "display_data"
    }
   ],
   "source": [
    "render_bar_plot(\"mean_length\", \"explainer\", \"Features Changes\", \"Dataset\", \"Length by Explainer\", \"length.png\")"
   ]
  },
  {
   "cell_type": "code",
   "execution_count": 12,
   "metadata": {},
   "outputs": [
    {
     "data": {
      "image/png": "[encoded data removed]",
      "text/plain": [
       "<Figure size 432x288 with 1 Axes>"
      ]
     },
     "metadata": {
      "needs_background": "light"
     },
     "output_type": "display_data"
    }
   ],
   "source": [
    "render_bar_plot(\"clique_size\", \"explainer\", \"Trees in Clique\", \"Dataset\", \"Max Clique Size by Dataset\", \"cliques.png\")"
   ]
  },
  {
   "cell_type": "code",
   "execution_count": 13,
   "metadata": {},
   "outputs": [],
   "source": [
    "if \"OCEAN\" in found_explainers and \"FACETIndex\" in found_explainers:\n",
    "    idx_ocean = all_results[\"explainer\"] == \"OCEAN\"\n",
    "    all_results[idx_ocean][[\"dataset\", \"explainer\", \"mean_distance\", \"mdr\"]]"
   ]
  },
  {
   "cell_type": "code",
   "execution_count": 14,
   "metadata": {},
   "outputs": [],
   "source": [
    "if \"OCEAN\" in found_explainers and \"FACETIndex\" in found_explainers:\n",
    "    idx_facet = all_results[\"explainer\"] == \"FACETIndex\"\n",
    "    all_results[idx_facet][[\"dataset\", \"explainer\", \"mean_distance\", \"mdr\"]]"
   ]
  },
  {
   "cell_type": "code",
   "execution_count": 15,
   "metadata": {},
   "outputs": [],
   "source": [
    "if \"FACETBranchBound\" in found_explainers and \"FACETIndex\" in found_explainers:\n",
    "    print(\"Ratio to optimal\")\n",
    "    idx_fbb = all_results[\"explainer\"] == \"FACETBranchBound\"\n",
    "    for ds in found_ds:\n",
    "        idx_ds = all_results[\"dataset\"] == ds\n",
    "        ratio_to_optimal = 0\n",
    "        opt_dist = float(all_results[np.logical_and(idx_ds, idx_fbb)][\"mean_distance\"])\n",
    "        facet_dist = float(all_results[np.logical_and(idx_ds, idx_facet)][\"mean_distance\"])\n",
    "        print(ds, facet_dist / opt_dist)"
   ]
  },
  {
   "cell_type": "code",
   "execution_count": 16,
   "metadata": {},
   "outputs": [],
   "source": [
    "if \"FACETGrow\" in found_explainers:\n",
    "    is_grow = all_results[\"explainer\"] == \"FACETGrow\"\n",
    "    avg_starting_clique = all_results[is_grow][\"clique_size\"].mean()\n",
    "    avg_final_clique = all_results[is_grow][\"grown_clique_size\"].mean()\n",
    "    print(avg_starting_clique)\n",
    "    print(avg_final_clique)"
   ]
  },
  {
   "cell_type": "code",
   "execution_count": 17,
   "metadata": {},
   "outputs": [
    {
     "data": {
      "text/plain": [
       "Index(['dataset', 'explainer', 'n_samples', 'n_samples_explained',\n",
       "       'n_features', 'accuracy', 'precision', 'recall', 'f1', 'avg_nnodes',\n",
       "       'avg_nleaves', 'avg_depth', 'q', 'jaccard', 'coverage_ratio',\n",
       "       'mean_distance', 'mean_length', 'runtime', 'clique_size', 'init_time',\n",
       "       'sample_runtime', 'mdr', 'ext_avg', 'ext_max', 'ext_min',\n",
       "       'grown_clique_size', 'idx_dim_0', 'idx_dim_1', 'rects_searched_0',\n",
       "       'rects_searched_1'],\n",
       "      dtype='object')"
      ]
     },
     "execution_count": 17,
     "metadata": {},
     "output_type": "execute_result"
    }
   ],
   "source": [
    "all_results.columns"
   ]
  },
  {
   "cell_type": "code",
   "execution_count": 18,
   "metadata": {},
   "outputs": [
    {
     "name": "stdout",
     "output_type": "stream",
     "text": [
      "Hyper-Rectangle Enumeration Rate (rects / sec):\n",
      "cancer 34.353953123585306\n",
      "glass 12.397069595866629\n",
      "magic 1206.4958446136961\n",
      "spambase 64.21673784874152\n",
      "vertebral 23.281334987137388\n"
     ]
    }
   ],
   "source": [
    "if \"FACETIndex\" in found_explainers:\n",
    "    isExpl = all_results[\"explainer\"] == \"FACETIndex\"\n",
    "    print(\"Hyper-Rectangle Enumeration Rate (rects / sec):\")\n",
    "    for ds in found_ds:\n",
    "        n_rects = 0.8 * DS_DIMENSIONS[ds][0]\n",
    "        is_ds = all_results[\"dataset\"] == ds\n",
    "        is_value = (np.logical_and(isExpl, is_ds))\n",
    "        ds_init_time = all_results[is_value][\"init_time\"].iloc[0]\n",
    "        print(ds, n_rects / (ds_init_time / 1000))\n",
    "\n",
    "    all_results[isExpl][[\"dataset\", \"init_time\", \"n_samples\"]].head(50)"
   ]
  },
  {
   "cell_type": "code",
   "execution_count": 19,
   "metadata": {},
   "outputs": [
    {
     "ename": "KeyError",
     "evalue": "''",
     "output_type": "error",
     "traceback": [
      "\u001b[1;31m---------------------------------------------------------------------------\u001b[0m",
      "\u001b[1;31mKeyError\u001b[0m                                  Traceback (most recent call last)",
      "\u001b[1;32mc:\\Users\\Peter\\Anaconda3\\envs\\dsrg\\lib\\site-packages\\pandas\\core\\indexes\\base.py\u001b[0m in \u001b[0;36mget_loc\u001b[1;34m(self, key, method, tolerance)\u001b[0m\n\u001b[0;32m   3079\u001b[0m             \u001b[1;32mtry\u001b[0m\u001b[1;33m:\u001b[0m\u001b[1;33m\u001b[0m\u001b[1;33m\u001b[0m\u001b[0m\n\u001b[1;32m-> 3080\u001b[1;33m                 \u001b[1;32mreturn\u001b[0m \u001b[0mself\u001b[0m\u001b[1;33m.\u001b[0m\u001b[0m_engine\u001b[0m\u001b[1;33m.\u001b[0m\u001b[0mget_loc\u001b[0m\u001b[1;33m(\u001b[0m\u001b[0mcasted_key\u001b[0m\u001b[1;33m)\u001b[0m\u001b[1;33m\u001b[0m\u001b[1;33m\u001b[0m\u001b[0m\n\u001b[0m\u001b[0;32m   3081\u001b[0m             \u001b[1;32mexcept\u001b[0m \u001b[0mKeyError\u001b[0m \u001b[1;32mas\u001b[0m \u001b[0merr\u001b[0m\u001b[1;33m:\u001b[0m\u001b[1;33m\u001b[0m\u001b[1;33m\u001b[0m\u001b[0m\n",
      "\u001b[1;32mpandas\\_libs\\index.pyx\u001b[0m in \u001b[0;36mpandas._libs.index.IndexEngine.get_loc\u001b[1;34m()\u001b[0m\n",
      "\u001b[1;32mpandas\\_libs\\index.pyx\u001b[0m in \u001b[0;36mpandas._libs.index.IndexEngine.get_loc\u001b[1;34m()\u001b[0m\n",
      "\u001b[1;32mpandas\\_libs\\hashtable_class_helper.pxi\u001b[0m in \u001b[0;36mpandas._libs.hashtable.PyObjectHashTable.get_item\u001b[1;34m()\u001b[0m\n",
      "\u001b[1;32mpandas\\_libs\\hashtable_class_helper.pxi\u001b[0m in \u001b[0;36mpandas._libs.hashtable.PyObjectHashTable.get_item\u001b[1;34m()\u001b[0m\n",
      "\u001b[1;31mKeyError\u001b[0m: ''",
      "\nThe above exception was the direct cause of the following exception:\n",
      "\u001b[1;31mKeyError\u001b[0m                                  Traceback (most recent call last)",
      "\u001b[1;32m<ipython-input-19-e149170e0f13>\u001b[0m in \u001b[0;36m<module>\u001b[1;34m\u001b[0m\n\u001b[1;32m----> 1\u001b[1;33m \u001b[0mresults\u001b[0m\u001b[1;33m[\u001b[0m\u001b[1;34m\"cancer\"\u001b[0m\u001b[1;33m]\u001b[0m\u001b[1;33m[\u001b[0m\u001b[1;34m\"\"\u001b[0m\u001b[1;33m]\u001b[0m\u001b[1;33m\u001b[0m\u001b[1;33m\u001b[0m\u001b[0m\n\u001b[0m",
      "\u001b[1;32mc:\\Users\\Peter\\Anaconda3\\envs\\dsrg\\lib\\site-packages\\pandas\\core\\frame.py\u001b[0m in \u001b[0;36m__getitem__\u001b[1;34m(self, key)\u001b[0m\n\u001b[0;32m   3022\u001b[0m             \u001b[1;32mif\u001b[0m \u001b[0mself\u001b[0m\u001b[1;33m.\u001b[0m\u001b[0mcolumns\u001b[0m\u001b[1;33m.\u001b[0m\u001b[0mnlevels\u001b[0m \u001b[1;33m>\u001b[0m \u001b[1;36m1\u001b[0m\u001b[1;33m:\u001b[0m\u001b[1;33m\u001b[0m\u001b[1;33m\u001b[0m\u001b[0m\n\u001b[0;32m   3023\u001b[0m                 \u001b[1;32mreturn\u001b[0m \u001b[0mself\u001b[0m\u001b[1;33m.\u001b[0m\u001b[0m_getitem_multilevel\u001b[0m\u001b[1;33m(\u001b[0m\u001b[0mkey\u001b[0m\u001b[1;33m)\u001b[0m\u001b[1;33m\u001b[0m\u001b[1;33m\u001b[0m\u001b[0m\n\u001b[1;32m-> 3024\u001b[1;33m             \u001b[0mindexer\u001b[0m \u001b[1;33m=\u001b[0m \u001b[0mself\u001b[0m\u001b[1;33m.\u001b[0m\u001b[0mcolumns\u001b[0m\u001b[1;33m.\u001b[0m\u001b[0mget_loc\u001b[0m\u001b[1;33m(\u001b[0m\u001b[0mkey\u001b[0m\u001b[1;33m)\u001b[0m\u001b[1;33m\u001b[0m\u001b[1;33m\u001b[0m\u001b[0m\n\u001b[0m\u001b[0;32m   3025\u001b[0m             \u001b[1;32mif\u001b[0m \u001b[0mis_integer\u001b[0m\u001b[1;33m(\u001b[0m\u001b[0mindexer\u001b[0m\u001b[1;33m)\u001b[0m\u001b[1;33m:\u001b[0m\u001b[1;33m\u001b[0m\u001b[1;33m\u001b[0m\u001b[0m\n\u001b[0;32m   3026\u001b[0m                 \u001b[0mindexer\u001b[0m \u001b[1;33m=\u001b[0m \u001b[1;33m[\u001b[0m\u001b[0mindexer\u001b[0m\u001b[1;33m]\u001b[0m\u001b[1;33m\u001b[0m\u001b[1;33m\u001b[0m\u001b[0m\n",
      "\u001b[1;32mc:\\Users\\Peter\\Anaconda3\\envs\\dsrg\\lib\\site-packages\\pandas\\core\\indexes\\base.py\u001b[0m in \u001b[0;36mget_loc\u001b[1;34m(self, key, method, tolerance)\u001b[0m\n\u001b[0;32m   3080\u001b[0m                 \u001b[1;32mreturn\u001b[0m \u001b[0mself\u001b[0m\u001b[1;33m.\u001b[0m\u001b[0m_engine\u001b[0m\u001b[1;33m.\u001b[0m\u001b[0mget_loc\u001b[0m\u001b[1;33m(\u001b[0m\u001b[0mcasted_key\u001b[0m\u001b[1;33m)\u001b[0m\u001b[1;33m\u001b[0m\u001b[1;33m\u001b[0m\u001b[0m\n\u001b[0;32m   3081\u001b[0m             \u001b[1;32mexcept\u001b[0m \u001b[0mKeyError\u001b[0m \u001b[1;32mas\u001b[0m \u001b[0merr\u001b[0m\u001b[1;33m:\u001b[0m\u001b[1;33m\u001b[0m\u001b[1;33m\u001b[0m\u001b[0m\n\u001b[1;32m-> 3082\u001b[1;33m                 \u001b[1;32mraise\u001b[0m \u001b[0mKeyError\u001b[0m\u001b[1;33m(\u001b[0m\u001b[0mkey\u001b[0m\u001b[1;33m)\u001b[0m \u001b[1;32mfrom\u001b[0m \u001b[0merr\u001b[0m\u001b[1;33m\u001b[0m\u001b[1;33m\u001b[0m\u001b[0m\n\u001b[0m\u001b[0;32m   3083\u001b[0m \u001b[1;33m\u001b[0m\u001b[0m\n\u001b[0;32m   3084\u001b[0m         \u001b[1;32mif\u001b[0m \u001b[0mtolerance\u001b[0m \u001b[1;32mis\u001b[0m \u001b[1;32mnot\u001b[0m \u001b[1;32mNone\u001b[0m\u001b[1;33m:\u001b[0m\u001b[1;33m\u001b[0m\u001b[1;33m\u001b[0m\u001b[0m\n",
      "\u001b[1;31mKeyError\u001b[0m: ''"
     ]
    }
   ],
   "source": [
    "results[\"cancer\"][\"\"]"
   ]
  }
 ],
 "metadata": {
  "kernelspec": {
   "display_name": "Python 3.8.8 ('dsrg')",
   "language": "python",
   "name": "python3"
  },
  "language_info": {
   "codemirror_mode": {
    "name": "ipython",
    "version": 3
   },
   "file_extension": ".py",
   "mimetype": "text/x-python",
   "name": "python",
   "nbconvert_exporter": "python",
   "pygments_lexer": "ipython3",
   "version": "3.8.8"
  },
  "orig_nbformat": 4,
  "vscode": {
   "interpreter": {
    "hash": "08812bb2998125df4c8e516011843b79b484604e59ec6ff09af2a17f9c9172dc"
   }
  }
 },
 "nbformat": 4,
 "nbformat_minor": 2
}
