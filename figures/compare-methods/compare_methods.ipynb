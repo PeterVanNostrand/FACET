{
 "cells": [
  {
   "cell_type": "code",
   "execution_count": 21,
   "metadata": {},
   "outputs": [],
   "source": [
    "import pandas as pd\n",
    "import matplotlib.pyplot as plt\n",
    "import numpy as np\n",
    "import os\n",
    "import re\n",
    "import sys\n",
    "\n",
    "sys.path.append(os.path.abspath(\"../../\"))\n",
    "from dataset import DS_NAMES\n",
    "from dataset import DS_DIMENSIONS\n",
    "from utilities.figure_tools import get_latest_results_directory, make_fig_directory, load_results\n",
    "\n",
    "cmap = plt.get_cmap(\"Set1\")\n",
    "colors = cmap.colors"
   ]
  },
  {
   "cell_type": "code",
   "execution_count": 22,
   "metadata": {},
   "outputs": [
    {
     "name": "stdout",
     "output_type": "stream",
     "text": [
      "Generating figures for run-103\n",
      "Datasets included:\n",
      "\t cancer\n",
      "\t glass\n",
      "\t magic\n",
      "\t spambase\n",
      "\t vertebral\n",
      "Explainers included:\n",
      "\t FACETIndex\n",
      "\t OCEAN\n"
     ]
    }
   ],
   "source": [
    "run_id, run_path = get_latest_results_directory(\"../../results/compare-methods/\")\n",
    "# run_id = 98\n",
    "# run_path = \"C:/Users/Peter/Documents/Peter/9-Graduate-School/2-dsrg/explainable-ad/code/HEEAD/results/compare-methods/run-{:003d}\".format(run_id)\n",
    "fig_output_path = make_fig_directory(run_id)\n",
    "found_ds, results = load_results(run_path, group_fields=[\"explainer\"])\n",
    "\n",
    "all_results = pd.DataFrame(columns=[\"dataset\", \"explainer\", \"n_samples\", \"n_samples_explained\", \"n_features\", \"accuracy\", \"precision\", \"recall\", \"f1\", \"avg_nnodes\", \"avg_nleaves\", \"avg_depth\", \"q\", \"jaccard\", \"coverage_ratio\", \"mean_distance\", \"mean_length\", \"runtime\", \"clique_size\", \"init_time\", \"sample_runtime\", \"mdr\"])\n",
    "\n",
    "for ds in found_ds:\n",
    "    results[ds][\"sample_runtime\"] = results[ds].runtime / results[ds].n_samples_explained * 1000\n",
    "    results[ds][\"init_time\"] = results[ds][\"init_time\"] * 1000\n",
    "    results[ds][\"mdr\"] = results[ds].mean_distance\n",
    "    # results[ds][\"mdr\"] = results[ds].mean_distance / np.sqrt(results[ds].n_features)\n",
    "\n",
    "\n",
    "for ds in found_ds:\n",
    "    for index, row in results[ds].iterrows():\n",
    "        row[\"dataset\"] = ds\n",
    "        all_results = all_results.append(row)\n",
    "idx_neg = all_results[\"clique_size\"] < 0\n",
    "all_results.loc[idx_neg, \"clique_size\"] = 0\n",
    "\n",
    "found_explainers = all_results[\"explainer\"].unique()\n",
    "explainer_dict = {\n",
    "    \"AFT\" : \"AFT\",\n",
    "    \"FACET\" : \"FACET\",\n",
    "    \"FACETPaths\" : \"FACETPaths\",\n",
    "    \"FACETTrees\" : \"FACETTrees\",\n",
    "    \"FACETGrow\" : \"FACETGrow\",\n",
    "    \"FACETIndex\": \"FACETIndex\",\n",
    "    \"FACETBranchBound\": \"FACETBranchBound\",\n",
    "    \"OCEAN\" : \"OCEAN\",\n",
    "    \"MACE\": \"MACE\"\n",
    "}\n",
    "explainer_colors = {\n",
    "    \"AFT\" : colors[3] , # purple\n",
    "    \"FACET\" : colors[0], # red\n",
    "    \"FACETPaths\" : colors[0], # red\n",
    "    \"FACETTrees\" : colors[0], # red\n",
    "    \"FACETGrow\" : \"orangered\",\n",
    "    \"FACETIndex\" : colors[0], # red\n",
    "    \"FACETBranchBound\": \"purple\",\n",
    "    \"OCEAN\" : colors[4], # orange\n",
    "    \"MACE\": colors[1] # blue\n",
    "}\n",
    "explainer_names = []\n",
    "for e in found_explainers:\n",
    "    explainer_names.append(explainer_dict[e])\n",
    "\n",
    "print(\"Generating figures for run-{:03d}\".format(run_id))\n",
    "print(\"Datasets included:\")\n",
    "for ds in found_ds:\n",
    "    print(\"\\t\", ds)\n",
    "print(\"Explainers included:\")\n",
    "for expl in found_explainers:\n",
    "    print(\"\\t\", expl)"
   ]
  },
  {
   "cell_type": "code",
   "execution_count": 23,
   "metadata": {},
   "outputs": [
    {
     "data": {
      "text/html": [
       "<div>\n",
       "<style scoped>\n",
       "    .dataframe tbody tr th:only-of-type {\n",
       "        vertical-align: middle;\n",
       "    }\n",
       "\n",
       "    .dataframe tbody tr th {\n",
       "        vertical-align: top;\n",
       "    }\n",
       "\n",
       "    .dataframe thead th {\n",
       "        text-align: right;\n",
       "    }\n",
       "</style>\n",
       "<table border=\"1\" class=\"dataframe\">\n",
       "  <thead>\n",
       "    <tr style=\"text-align: right;\">\n",
       "      <th></th>\n",
       "      <th>dataset</th>\n",
       "      <th>explainer</th>\n",
       "      <th>n_samples</th>\n",
       "      <th>n_samples_explained</th>\n",
       "      <th>n_features</th>\n",
       "      <th>accuracy</th>\n",
       "      <th>precision</th>\n",
       "      <th>recall</th>\n",
       "      <th>f1</th>\n",
       "      <th>avg_nnodes</th>\n",
       "      <th>...</th>\n",
       "      <th>mean_length</th>\n",
       "      <th>runtime</th>\n",
       "      <th>clique_size</th>\n",
       "      <th>init_time</th>\n",
       "      <th>sample_runtime</th>\n",
       "      <th>mdr</th>\n",
       "      <th>ext_avg</th>\n",
       "      <th>ext_max</th>\n",
       "      <th>ext_min</th>\n",
       "      <th>grown_clique_size</th>\n",
       "    </tr>\n",
       "  </thead>\n",
       "  <tbody>\n",
       "    <tr>\n",
       "      <th>0</th>\n",
       "      <td>cancer</td>\n",
       "      <td>FACETIndex</td>\n",
       "      <td>20</td>\n",
       "      <td>20</td>\n",
       "      <td>30</td>\n",
       "      <td>0.94</td>\n",
       "      <td>0.966667</td>\n",
       "      <td>0.818009</td>\n",
       "      <td>0.876739</td>\n",
       "      <td>22.28</td>\n",
       "      <td>...</td>\n",
       "      <td>6.29</td>\n",
       "      <td>3.663973</td>\n",
       "      <td>0</td>\n",
       "      <td>39275.478649</td>\n",
       "      <td>183.198638</td>\n",
       "      <td>0.200227</td>\n",
       "      <td>-1.0</td>\n",
       "      <td>-1.0</td>\n",
       "      <td>-1.0</td>\n",
       "      <td>-1.0</td>\n",
       "    </tr>\n",
       "    <tr>\n",
       "      <th>1</th>\n",
       "      <td>cancer</td>\n",
       "      <td>OCEAN</td>\n",
       "      <td>20</td>\n",
       "      <td>20</td>\n",
       "      <td>30</td>\n",
       "      <td>0.94</td>\n",
       "      <td>0.966667</td>\n",
       "      <td>0.818009</td>\n",
       "      <td>0.876739</td>\n",
       "      <td>22.28</td>\n",
       "      <td>...</td>\n",
       "      <td>6.03</td>\n",
       "      <td>1.942200</td>\n",
       "      <td>0</td>\n",
       "      <td>0.000000</td>\n",
       "      <td>97.109983</td>\n",
       "      <td>0.154579</td>\n",
       "      <td>-1.0</td>\n",
       "      <td>-1.0</td>\n",
       "      <td>-1.0</td>\n",
       "      <td>-1.0</td>\n",
       "    </tr>\n",
       "    <tr>\n",
       "      <th>0</th>\n",
       "      <td>glass</td>\n",
       "      <td>FACETIndex</td>\n",
       "      <td>20</td>\n",
       "      <td>20</td>\n",
       "      <td>9</td>\n",
       "      <td>0.82</td>\n",
       "      <td>0.839105</td>\n",
       "      <td>0.856624</td>\n",
       "      <td>0.840750</td>\n",
       "      <td>22.02</td>\n",
       "      <td>...</td>\n",
       "      <td>3.31</td>\n",
       "      <td>0.663204</td>\n",
       "      <td>0</td>\n",
       "      <td>18689.646816</td>\n",
       "      <td>33.160181</td>\n",
       "      <td>0.069989</td>\n",
       "      <td>-1.0</td>\n",
       "      <td>-1.0</td>\n",
       "      <td>-1.0</td>\n",
       "      <td>-1.0</td>\n",
       "    </tr>\n",
       "    <tr>\n",
       "      <th>1</th>\n",
       "      <td>glass</td>\n",
       "      <td>OCEAN</td>\n",
       "      <td>20</td>\n",
       "      <td>20</td>\n",
       "      <td>9</td>\n",
       "      <td>0.82</td>\n",
       "      <td>0.839105</td>\n",
       "      <td>0.856624</td>\n",
       "      <td>0.840750</td>\n",
       "      <td>22.02</td>\n",
       "      <td>...</td>\n",
       "      <td>3.07</td>\n",
       "      <td>1.718822</td>\n",
       "      <td>0</td>\n",
       "      <td>0.000000</td>\n",
       "      <td>85.941117</td>\n",
       "      <td>0.048846</td>\n",
       "      <td>-1.0</td>\n",
       "      <td>-1.0</td>\n",
       "      <td>-1.0</td>\n",
       "      <td>-1.0</td>\n",
       "    </tr>\n",
       "    <tr>\n",
       "      <th>0</th>\n",
       "      <td>magic</td>\n",
       "      <td>FACETIndex</td>\n",
       "      <td>20</td>\n",
       "      <td>20</td>\n",
       "      <td>10</td>\n",
       "      <td>0.87</td>\n",
       "      <td>0.825994</td>\n",
       "      <td>0.977778</td>\n",
       "      <td>0.894877</td>\n",
       "      <td>57.60</td>\n",
       "      <td>...</td>\n",
       "      <td>3.74</td>\n",
       "      <td>1.178658</td>\n",
       "      <td>0</td>\n",
       "      <td>23176.734304</td>\n",
       "      <td>58.932903</td>\n",
       "      <td>0.120960</td>\n",
       "      <td>-1.0</td>\n",
       "      <td>-1.0</td>\n",
       "      <td>-1.0</td>\n",
       "      <td>-1.0</td>\n",
       "    </tr>\n",
       "  </tbody>\n",
       "</table>\n",
       "<p>5 rows × 26 columns</p>\n",
       "</div>"
      ],
      "text/plain": [
       "  dataset   explainer n_samples n_samples_explained n_features  accuracy  \\\n",
       "0  cancer  FACETIndex        20                  20         30      0.94   \n",
       "1  cancer       OCEAN        20                  20         30      0.94   \n",
       "0   glass  FACETIndex        20                  20          9      0.82   \n",
       "1   glass       OCEAN        20                  20          9      0.82   \n",
       "0   magic  FACETIndex        20                  20         10      0.87   \n",
       "\n",
       "   precision    recall        f1  avg_nnodes  ...  mean_length   runtime  \\\n",
       "0   0.966667  0.818009  0.876739       22.28  ...         6.29  3.663973   \n",
       "1   0.966667  0.818009  0.876739       22.28  ...         6.03  1.942200   \n",
       "0   0.839105  0.856624  0.840750       22.02  ...         3.31  0.663204   \n",
       "1   0.839105  0.856624  0.840750       22.02  ...         3.07  1.718822   \n",
       "0   0.825994  0.977778  0.894877       57.60  ...         3.74  1.178658   \n",
       "\n",
       "   clique_size     init_time  sample_runtime       mdr  ext_avg  ext_max  \\\n",
       "0            0  39275.478649      183.198638  0.200227     -1.0     -1.0   \n",
       "1            0      0.000000       97.109983  0.154579     -1.0     -1.0   \n",
       "0            0  18689.646816       33.160181  0.069989     -1.0     -1.0   \n",
       "1            0      0.000000       85.941117  0.048846     -1.0     -1.0   \n",
       "0            0  23176.734304       58.932903  0.120960     -1.0     -1.0   \n",
       "\n",
       "  ext_min  grown_clique_size  \n",
       "0    -1.0               -1.0  \n",
       "1    -1.0               -1.0  \n",
       "0    -1.0               -1.0  \n",
       "1    -1.0               -1.0  \n",
       "0    -1.0               -1.0  \n",
       "\n",
       "[5 rows x 26 columns]"
      ]
     },
     "execution_count": 23,
     "metadata": {},
     "output_type": "execute_result"
    }
   ],
   "source": [
    "all_results.head()"
   ]
  },
  {
   "cell_type": "code",
   "execution_count": 24,
   "metadata": {},
   "outputs": [],
   "source": [
    "def render_bar_plot(xfeature, yfeature, xlabel, ylabel, title, save_name=None, xrange=None, yrange=None, xlog=False, lloc=None):\n",
    "    fig, ax = plt.subplots()\n",
    "    pos = np.arange(len(found_ds))\n",
    "    bar_width = 0.15\n",
    "\n",
    "    yvalues = all_results[yfeature].unique()\n",
    "\n",
    "    for i in range(len(yvalues)):\n",
    "        isExpl = all_results[yfeature] == yvalues[i]\n",
    "        hbars = ax.barh(y=(pos + bar_width*i), width=all_results[isExpl][xfeature], height=bar_width, log=xlog, color=explainer_colors[yvalues[i]])\n",
    "\n",
    "    plt.xlabel(xlabel)\n",
    "    plt.ylabel(ylabel)\n",
    "    plt.title(title)\n",
    "\n",
    "    if not lloc:\n",
    "        lloc = \"best\"\n",
    "    plt.legend(explainer_names, loc=lloc, bbox_to_anchor=(1,1))\n",
    "    plt.yticks(pos, found_ds)\n",
    "\n",
    "    if save_name is not None:\n",
    "        plt.savefig(fig_output_path + \"/\" + save_name, bbox_inches=\"tight\")"
   ]
  },
  {
   "cell_type": "code",
   "execution_count": 25,
   "metadata": {},
   "outputs": [],
   "source": [
    "render_bar_plot(\"init_time\", \"explainer\", \"Initialization Time (ms)\", \"Dataset\", \"Initilization Time by Explainer\", \"inittime.png\", xlog=True, lloc=\"upper left\")"
   ]
  },
  {
   "cell_type": "code",
   "execution_count": 26,
   "metadata": {},
   "outputs": [],
   "source": [
    "render_bar_plot(\"sample_runtime\", \"explainer\", \"Per Sample Runtime (ms)\", \"Dataset\", \"Per Sample Runtime Time by Explainer\", \"runtime.png\", xlog=True, lloc=\"upper left\")"
   ]
  },
  {
   "cell_type": "code",
   "execution_count": 27,
   "metadata": {},
   "outputs": [],
   "source": [
    "render_bar_plot(\"coverage_ratio\", \"explainer\", \"Coverage\", \"Dataset\", \"Coverage by Explainer\", \"coverage.png\", lloc=\"upper left\")"
   ]
  },
  {
   "cell_type": "code",
   "execution_count": 28,
   "metadata": {},
   "outputs": [
    {
     "data": {
      "text/plain": [
       "Index(['dataset', 'explainer', 'n_samples', 'n_samples_explained',\n",
       "       'n_features', 'accuracy', 'precision', 'recall', 'f1', 'avg_nnodes',\n",
       "       'avg_nleaves', 'avg_depth', 'q', 'jaccard', 'coverage_ratio',\n",
       "       'mean_distance', 'mean_length', 'runtime', 'clique_size', 'init_time',\n",
       "       'sample_runtime', 'mdr', 'ext_avg', 'ext_max', 'ext_min',\n",
       "       'grown_clique_size'],\n",
       "      dtype='object')"
      ]
     },
     "execution_count": 28,
     "metadata": {},
     "output_type": "execute_result"
    }
   ],
   "source": [
    "all_results.columns"
   ]
  },
  {
   "cell_type": "code",
   "execution_count": 29,
   "metadata": {},
   "outputs": [
    {
     "data": {
      "text/html": [
       "<div>\n",
       "<style scoped>\n",
       "    .dataframe tbody tr th:only-of-type {\n",
       "        vertical-align: middle;\n",
       "    }\n",
       "\n",
       "    .dataframe tbody tr th {\n",
       "        vertical-align: top;\n",
       "    }\n",
       "\n",
       "    .dataframe thead th {\n",
       "        text-align: right;\n",
       "    }\n",
       "</style>\n",
       "<table border=\"1\" class=\"dataframe\">\n",
       "  <thead>\n",
       "    <tr style=\"text-align: right;\">\n",
       "      <th></th>\n",
       "      <th>dataset</th>\n",
       "      <th>explainer</th>\n",
       "      <th>mean_distance</th>\n",
       "      <th>mean_length</th>\n",
       "    </tr>\n",
       "  </thead>\n",
       "  <tbody>\n",
       "    <tr>\n",
       "      <th>0</th>\n",
       "      <td>cancer</td>\n",
       "      <td>FACETIndex</td>\n",
       "      <td>0.200227</td>\n",
       "      <td>6.29</td>\n",
       "    </tr>\n",
       "    <tr>\n",
       "      <th>1</th>\n",
       "      <td>cancer</td>\n",
       "      <td>OCEAN</td>\n",
       "      <td>0.154579</td>\n",
       "      <td>6.03</td>\n",
       "    </tr>\n",
       "    <tr>\n",
       "      <th>0</th>\n",
       "      <td>glass</td>\n",
       "      <td>FACETIndex</td>\n",
       "      <td>0.069989</td>\n",
       "      <td>3.31</td>\n",
       "    </tr>\n",
       "    <tr>\n",
       "      <th>1</th>\n",
       "      <td>glass</td>\n",
       "      <td>OCEAN</td>\n",
       "      <td>0.048846</td>\n",
       "      <td>3.07</td>\n",
       "    </tr>\n",
       "    <tr>\n",
       "      <th>0</th>\n",
       "      <td>magic</td>\n",
       "      <td>FACETIndex</td>\n",
       "      <td>0.120960</td>\n",
       "      <td>3.74</td>\n",
       "    </tr>\n",
       "  </tbody>\n",
       "</table>\n",
       "</div>"
      ],
      "text/plain": [
       "  dataset   explainer  mean_distance  mean_length\n",
       "0  cancer  FACETIndex       0.200227         6.29\n",
       "1  cancer       OCEAN       0.154579         6.03\n",
       "0   glass  FACETIndex       0.069989         3.31\n",
       "1   glass       OCEAN       0.048846         3.07\n",
       "0   magic  FACETIndex       0.120960         3.74"
      ]
     },
     "execution_count": 29,
     "metadata": {},
     "output_type": "execute_result"
    }
   ],
   "source": [
    "all_results[[\"dataset\", \"explainer\", \"mean_distance\", \"mean_length\"]].head()"
   ]
  },
  {
   "cell_type": "code",
   "execution_count": 30,
   "metadata": {},
   "outputs": [],
   "source": [
    "render_bar_plot(\"mdr\", \"explainer\", \"Explanation Distance\", \"Dataset\", \"Distance by Explainer\", \"distance.png\", lloc=\"upper left\")"
   ]
  },
  {
   "cell_type": "code",
   "execution_count": 31,
   "metadata": {},
   "outputs": [],
   "source": [
    "render_bar_plot(\"mean_length\", \"explainer\", \"Features Changes\", \"Dataset\", \"Length by Explainer\", \"length.png\")"
   ]
  },
  {
   "cell_type": "code",
   "execution_count": 32,
   "metadata": {},
   "outputs": [],
   "source": [
    "render_bar_plot(\"clique_size\", \"explainer\", \"Trees in Clique\", \"Dataset\", \"Max Clique Size by Dataset\", \"cliques.png\")"
   ]
  },
  {
   "cell_type": "code",
   "execution_count": 33,
   "metadata": {},
   "outputs": [],
   "source": [
    "if \"OCEAN\" in found_explainers and \"FACETIndex\" in found_explainers:\n",
    "    idx_ocean = all_results[\"explainer\"] == \"OCEAN\"\n",
    "    all_results[idx_ocean][[\"dataset\", \"explainer\", \"mean_distance\", \"mdr\"]]"
   ]
  },
  {
   "cell_type": "code",
   "execution_count": 34,
   "metadata": {},
   "outputs": [],
   "source": [
    "if \"OCEAN\" in found_explainers and \"FACETIndex\" in found_explainers:\n",
    "    idx_facet = all_results[\"explainer\"] == \"FACETIndex\"\n",
    "    all_results[idx_facet][[\"dataset\", \"explainer\", \"mean_distance\", \"mdr\"]]"
   ]
  },
  {
   "cell_type": "code",
   "execution_count": 35,
   "metadata": {},
   "outputs": [],
   "source": [
    "if \"FACETBranchBound\" in found_explainers and \"FACETIndex\" in found_explainers:\n",
    "    print(\"Ratio to optimal\")\n",
    "    idx_fbb = all_results[\"explainer\"] == \"FACETBranchBound\"\n",
    "    for ds in found_ds:\n",
    "        idx_ds = all_results[\"dataset\"] == ds\n",
    "        ratio_to_optimal = 0\n",
    "        opt_dist = float(all_results[np.logical_and(idx_ds, idx_fbb)][\"mean_distance\"])\n",
    "        facet_dist = float(all_results[np.logical_and(idx_ds, idx_facet)][\"mean_distance\"])\n",
    "        print(ds, facet_dist / opt_dist)"
   ]
  },
  {
   "cell_type": "code",
   "execution_count": 36,
   "metadata": {},
   "outputs": [],
   "source": [
    "if \"FACETGrow\" in found_explainers:\n",
    "    is_grow = all_results[\"explainer\"] == \"FACETGrow\"\n",
    "    avg_starting_clique = all_results[is_grow][\"clique_size\"].mean()\n",
    "    avg_final_clique = all_results[is_grow][\"grown_clique_size\"].mean()\n",
    "    print(avg_starting_clique)\n",
    "    print(avg_final_clique)"
   ]
  },
  {
   "cell_type": "code",
   "execution_count": 37,
   "metadata": {},
   "outputs": [
    {
     "data": {
      "text/plain": [
       "Index(['dataset', 'explainer', 'n_samples', 'n_samples_explained',\n",
       "       'n_features', 'accuracy', 'precision', 'recall', 'f1', 'avg_nnodes',\n",
       "       'avg_nleaves', 'avg_depth', 'q', 'jaccard', 'coverage_ratio',\n",
       "       'mean_distance', 'mean_length', 'runtime', 'clique_size', 'init_time',\n",
       "       'sample_runtime', 'mdr', 'ext_avg', 'ext_max', 'ext_min',\n",
       "       'grown_clique_size'],\n",
       "      dtype='object')"
      ]
     },
     "execution_count": 37,
     "metadata": {},
     "output_type": "execute_result"
    }
   ],
   "source": [
    "all_results.columns"
   ]
  },
  {
   "cell_type": "code",
   "execution_count": 38,
   "metadata": {},
   "outputs": [
    {
     "name": "stdout",
     "output_type": "stream",
     "text": [
      "Hyper-Rectangle Enumeration Rate (rects / sec):\n",
      "cancer 11.569559827884028\n",
      "glass 6.934320443513779\n",
      "magic 656.4859311129529\n",
      "spambase 71.00278483401802\n",
      "vertebral 14.04997643774475\n"
     ]
    }
   ],
   "source": [
    "if \"FACETIndex\" in found_explainers:\n",
    "    isExpl = all_results[\"explainer\"] == \"FACETIndex\"\n",
    "    print(\"Hyper-Rectangle Enumeration Rate (rects / sec):\")\n",
    "    for ds in found_ds:\n",
    "        n_rects = 0.8 * DS_DIMENSIONS[ds][0]\n",
    "        is_ds = all_results[\"dataset\"] == ds\n",
    "        is_value = (np.logical_and(isExpl, is_ds))\n",
    "        ds_init_time = all_results[is_value][\"init_time\"].iloc[0]\n",
    "        print(ds, n_rects / (ds_init_time / 1000))\n",
    "\n",
    "    all_results[isExpl][[\"dataset\", \"init_time\", \"n_samples\"]].head(50)"
   ]
  },
  {
   "cell_type": "code",
   "execution_count": 39,
   "metadata": {},
   "outputs": [
    {
     "ename": "KeyError",
     "evalue": "''",
     "output_type": "error",
     "traceback": [
      "\u001b[1;31m---------------------------------------------------------------------------\u001b[0m",
      "\u001b[1;31mKeyError\u001b[0m                                  Traceback (most recent call last)",
      "\u001b[1;32mc:\\Users\\peter\\Anaconda3\\envs\\dsrg\\lib\\site-packages\\pandas\\core\\indexes\\base.py\u001b[0m in \u001b[0;36mget_loc\u001b[1;34m(self, key, method, tolerance)\u001b[0m\n\u001b[0;32m   2888\u001b[0m             \u001b[1;32mtry\u001b[0m\u001b[1;33m:\u001b[0m\u001b[1;33m\u001b[0m\u001b[1;33m\u001b[0m\u001b[0m\n\u001b[1;32m-> 2889\u001b[1;33m                 \u001b[1;32mreturn\u001b[0m \u001b[0mself\u001b[0m\u001b[1;33m.\u001b[0m\u001b[0m_engine\u001b[0m\u001b[1;33m.\u001b[0m\u001b[0mget_loc\u001b[0m\u001b[1;33m(\u001b[0m\u001b[0mcasted_key\u001b[0m\u001b[1;33m)\u001b[0m\u001b[1;33m\u001b[0m\u001b[1;33m\u001b[0m\u001b[0m\n\u001b[0m\u001b[0;32m   2890\u001b[0m             \u001b[1;32mexcept\u001b[0m \u001b[0mKeyError\u001b[0m \u001b[1;32mas\u001b[0m \u001b[0merr\u001b[0m\u001b[1;33m:\u001b[0m\u001b[1;33m\u001b[0m\u001b[1;33m\u001b[0m\u001b[0m\n",
      "\u001b[1;32mpandas\\_libs\\index.pyx\u001b[0m in \u001b[0;36mpandas._libs.index.IndexEngine.get_loc\u001b[1;34m()\u001b[0m\n",
      "\u001b[1;32mpandas\\_libs\\index.pyx\u001b[0m in \u001b[0;36mpandas._libs.index.IndexEngine.get_loc\u001b[1;34m()\u001b[0m\n",
      "\u001b[1;32mpandas\\_libs\\hashtable_class_helper.pxi\u001b[0m in \u001b[0;36mpandas._libs.hashtable.PyObjectHashTable.get_item\u001b[1;34m()\u001b[0m\n",
      "\u001b[1;32mpandas\\_libs\\hashtable_class_helper.pxi\u001b[0m in \u001b[0;36mpandas._libs.hashtable.PyObjectHashTable.get_item\u001b[1;34m()\u001b[0m\n",
      "\u001b[1;31mKeyError\u001b[0m: ''",
      "\nThe above exception was the direct cause of the following exception:\n",
      "\u001b[1;31mKeyError\u001b[0m                                  Traceback (most recent call last)",
      "\u001b[1;32m<ipython-input-39-e149170e0f13>\u001b[0m in \u001b[0;36m<module>\u001b[1;34m\u001b[0m\n\u001b[1;32m----> 1\u001b[1;33m \u001b[0mresults\u001b[0m\u001b[1;33m[\u001b[0m\u001b[1;34m\"cancer\"\u001b[0m\u001b[1;33m]\u001b[0m\u001b[1;33m[\u001b[0m\u001b[1;34m\"\"\u001b[0m\u001b[1;33m]\u001b[0m\u001b[1;33m\u001b[0m\u001b[1;33m\u001b[0m\u001b[0m\n\u001b[0m",
      "\u001b[1;32mc:\\Users\\peter\\Anaconda3\\envs\\dsrg\\lib\\site-packages\\pandas\\core\\frame.py\u001b[0m in \u001b[0;36m__getitem__\u001b[1;34m(self, key)\u001b[0m\n\u001b[0;32m   2900\u001b[0m             \u001b[1;32mif\u001b[0m \u001b[0mself\u001b[0m\u001b[1;33m.\u001b[0m\u001b[0mcolumns\u001b[0m\u001b[1;33m.\u001b[0m\u001b[0mnlevels\u001b[0m \u001b[1;33m>\u001b[0m \u001b[1;36m1\u001b[0m\u001b[1;33m:\u001b[0m\u001b[1;33m\u001b[0m\u001b[1;33m\u001b[0m\u001b[0m\n\u001b[0;32m   2901\u001b[0m                 \u001b[1;32mreturn\u001b[0m \u001b[0mself\u001b[0m\u001b[1;33m.\u001b[0m\u001b[0m_getitem_multilevel\u001b[0m\u001b[1;33m(\u001b[0m\u001b[0mkey\u001b[0m\u001b[1;33m)\u001b[0m\u001b[1;33m\u001b[0m\u001b[1;33m\u001b[0m\u001b[0m\n\u001b[1;32m-> 2902\u001b[1;33m             \u001b[0mindexer\u001b[0m \u001b[1;33m=\u001b[0m \u001b[0mself\u001b[0m\u001b[1;33m.\u001b[0m\u001b[0mcolumns\u001b[0m\u001b[1;33m.\u001b[0m\u001b[0mget_loc\u001b[0m\u001b[1;33m(\u001b[0m\u001b[0mkey\u001b[0m\u001b[1;33m)\u001b[0m\u001b[1;33m\u001b[0m\u001b[1;33m\u001b[0m\u001b[0m\n\u001b[0m\u001b[0;32m   2903\u001b[0m             \u001b[1;32mif\u001b[0m \u001b[0mis_integer\u001b[0m\u001b[1;33m(\u001b[0m\u001b[0mindexer\u001b[0m\u001b[1;33m)\u001b[0m\u001b[1;33m:\u001b[0m\u001b[1;33m\u001b[0m\u001b[1;33m\u001b[0m\u001b[0m\n\u001b[0;32m   2904\u001b[0m                 \u001b[0mindexer\u001b[0m \u001b[1;33m=\u001b[0m \u001b[1;33m[\u001b[0m\u001b[0mindexer\u001b[0m\u001b[1;33m]\u001b[0m\u001b[1;33m\u001b[0m\u001b[1;33m\u001b[0m\u001b[0m\n",
      "\u001b[1;32mc:\\Users\\peter\\Anaconda3\\envs\\dsrg\\lib\\site-packages\\pandas\\core\\indexes\\base.py\u001b[0m in \u001b[0;36mget_loc\u001b[1;34m(self, key, method, tolerance)\u001b[0m\n\u001b[0;32m   2889\u001b[0m                 \u001b[1;32mreturn\u001b[0m \u001b[0mself\u001b[0m\u001b[1;33m.\u001b[0m\u001b[0m_engine\u001b[0m\u001b[1;33m.\u001b[0m\u001b[0mget_loc\u001b[0m\u001b[1;33m(\u001b[0m\u001b[0mcasted_key\u001b[0m\u001b[1;33m)\u001b[0m\u001b[1;33m\u001b[0m\u001b[1;33m\u001b[0m\u001b[0m\n\u001b[0;32m   2890\u001b[0m             \u001b[1;32mexcept\u001b[0m \u001b[0mKeyError\u001b[0m \u001b[1;32mas\u001b[0m \u001b[0merr\u001b[0m\u001b[1;33m:\u001b[0m\u001b[1;33m\u001b[0m\u001b[1;33m\u001b[0m\u001b[0m\n\u001b[1;32m-> 2891\u001b[1;33m                 \u001b[1;32mraise\u001b[0m \u001b[0mKeyError\u001b[0m\u001b[1;33m(\u001b[0m\u001b[0mkey\u001b[0m\u001b[1;33m)\u001b[0m \u001b[1;32mfrom\u001b[0m \u001b[0merr\u001b[0m\u001b[1;33m\u001b[0m\u001b[1;33m\u001b[0m\u001b[0m\n\u001b[0m\u001b[0;32m   2892\u001b[0m \u001b[1;33m\u001b[0m\u001b[0m\n\u001b[0;32m   2893\u001b[0m         \u001b[1;32mif\u001b[0m \u001b[0mtolerance\u001b[0m \u001b[1;32mis\u001b[0m \u001b[1;32mnot\u001b[0m \u001b[1;32mNone\u001b[0m\u001b[1;33m:\u001b[0m\u001b[1;33m\u001b[0m\u001b[1;33m\u001b[0m\u001b[0m\n",
      "\u001b[1;31mKeyError\u001b[0m: ''"
     ]
    }
   ],
   "source": [
    "results[\"cancer\"][\"\"]"
   ]
  }
 ],
 "metadata": {
  "kernelspec": {
   "display_name": "Python 3.8.12 ('dsrg')",
   "language": "python",
   "name": "python3"
  },
  "language_info": {
   "codemirror_mode": {
    "name": "ipython",
    "version": 3
   },
   "file_extension": ".py",
   "mimetype": "text/x-python",
   "name": "python",
   "nbconvert_exporter": "python",
   "pygments_lexer": "ipython3",
   "version": "3.8.12"
  },
  "orig_nbformat": 4,
  "vscode": {
   "interpreter": {
    "hash": "dc0e34937bf08b56d17dfaabe30dd61457d446943c7674bbd57adc1564f8a55a"
   }
  }
 },
 "nbformat": 4,
 "nbformat_minor": 2
}
