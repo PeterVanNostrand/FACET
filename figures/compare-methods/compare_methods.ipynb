{
 "cells": [
  {
   "cell_type": "code",
   "execution_count": 76,
   "metadata": {},
   "outputs": [],
   "source": [
    "import pandas as pd\n",
    "import matplotlib.pyplot as plt\n",
    "import numpy as np\n",
    "import os\n",
    "import re\n",
    "import sys\n",
    "\n",
    "sys.path.append(os.path.abspath(\"../../\"))\n",
    "from dataset import DS_NAMES\n",
    "from dataset import DS_DIMENSIONS\n",
    "from utilities.figure_tools import get_latest_results_directory, make_fig_directory, load_results\n",
    "\n",
    "cmap = plt.get_cmap(\"Set1\")\n",
    "colors = cmap.colors"
   ]
  },
  {
   "cell_type": "code",
   "execution_count": 77,
   "metadata": {},
   "outputs": [
    {
     "name": "stdout",
     "output_type": "stream",
     "text": [
      "Generating figures for run-094\n",
      "Datasets included:\n",
      "\t cancer\n",
      "\t glass\n",
      "\t magic\n",
      "\t spambase\n",
      "\t vertebral\n",
      "Explainers included:\n",
      "\t FACETBranchBound\n",
      "\t FACETGrow\n",
      "\t FACETIndex\n",
      "\t OCEAN\n"
     ]
    }
   ],
   "source": [
    "run_id, run_path = get_latest_results_directory(\"../../results/compare-methods/\")\n",
    "# run_id = 89\n",
    "# run_path = \"C:/Users/Peter/Documents/Peter/9-Graduate-School/2-dsrg/explainable-ad/code/HEEAD/results/compare-methods/run-{:003d}\".format(run_id)\n",
    "fig_output_path = make_fig_directory(run_id)\n",
    "found_ds, results = load_results(run_path, group_fields=[\"explainer\"])\n",
    "\n",
    "all_results = pd.DataFrame(columns=[\"dataset\", \"explainer\", \"n_samples\", \"n_samples_explained\", \"n_features\", \"accuracy\", \"precision\", \"recall\", \"f1\", \"avg_nnodes\", \"avg_nleaves\", \"avg_depth\", \"q\", \"jaccard\", \"coverage_ratio\", \"mean_distance\", \"mean_length\", \"runtime\", \"clique_size\", \"init_time\", \"sample_runtime\", \"mdr\"])\n",
    "\n",
    "for ds in found_ds:\n",
    "    results[ds][\"sample_runtime\"] = results[ds].runtime / results[ds].n_samples_explained * 1000\n",
    "    results[ds][\"init_time\"] = results[ds][\"init_time\"] * 1000\n",
    "    results[ds][\"mdr\"] = results[ds].mean_distance\n",
    "    # results[ds][\"mdr\"] = results[ds].mean_distance / np.sqrt(results[ds].n_features)\n",
    "\n",
    "\n",
    "for ds in found_ds:\n",
    "    for index, row in results[ds].iterrows():\n",
    "        row[\"dataset\"] = ds\n",
    "        all_results = all_results.append(row)\n",
    "idx_neg = all_results[\"clique_size\"] < 0\n",
    "all_results.loc[idx_neg, \"clique_size\"] = 0\n",
    "\n",
    "found_explainers = all_results[\"explainer\"].unique()\n",
    "explainer_dict = {\n",
    "    \"AFT\" : \"AFT\",\n",
    "    \"FACET\" : \"FACET\",\n",
    "    \"FACETPaths\" : \"FACETPaths\",\n",
    "    \"FACETTrees\" : \"FACETTrees\",\n",
    "    \"FACETGrow\" : \"FACETGrow\",\n",
    "    \"FACETIndex\": \"FACETIndex\",\n",
    "    \"FACETBranchBound\": \"FACETBranchBound\",\n",
    "    \"OCEAN\" : \"OCEAN\",\n",
    "    \"MACE\": \"MACE\"\n",
    "}\n",
    "explainer_colors = {\n",
    "    \"AFT\" : colors[3] , # purple\n",
    "    \"FACET\" : colors[0], # red\n",
    "    \"FACETPaths\" : colors[0], # red\n",
    "    \"FACETTrees\" : colors[0], # red\n",
    "    \"FACETGrow\" : \"orangered\",\n",
    "    \"FACETIndex\" : colors[0], # red\n",
    "    \"FACETBranchBound\": \"purple\",\n",
    "    \"OCEAN\" : colors[4], # orange\n",
    "    \"MACE\": colors[1] # blue\n",
    "}\n",
    "explainer_names = []\n",
    "for e in found_explainers:\n",
    "    explainer_names.append(explainer_dict[e])\n",
    "\n",
    "print(\"Generating figures for run-{:03d}\".format(run_id))\n",
    "print(\"Datasets included:\")\n",
    "for ds in found_ds:\n",
    "    print(\"\\t\", ds)\n",
    "print(\"Explainers included:\")\n",
    "for expl in found_explainers:\n",
    "    print(\"\\t\", expl)"
   ]
  },
  {
   "cell_type": "code",
   "execution_count": 78,
   "metadata": {},
   "outputs": [
    {
     "data": {
      "text/html": [
       "<div>\n",
       "<style scoped>\n",
       "    .dataframe tbody tr th:only-of-type {\n",
       "        vertical-align: middle;\n",
       "    }\n",
       "\n",
       "    .dataframe tbody tr th {\n",
       "        vertical-align: top;\n",
       "    }\n",
       "\n",
       "    .dataframe thead th {\n",
       "        text-align: right;\n",
       "    }\n",
       "</style>\n",
       "<table border=\"1\" class=\"dataframe\">\n",
       "  <thead>\n",
       "    <tr style=\"text-align: right;\">\n",
       "      <th></th>\n",
       "      <th>dataset</th>\n",
       "      <th>explainer</th>\n",
       "      <th>n_samples</th>\n",
       "      <th>n_samples_explained</th>\n",
       "      <th>n_features</th>\n",
       "      <th>accuracy</th>\n",
       "      <th>precision</th>\n",
       "      <th>recall</th>\n",
       "      <th>f1</th>\n",
       "      <th>avg_nnodes</th>\n",
       "      <th>...</th>\n",
       "      <th>mean_length</th>\n",
       "      <th>runtime</th>\n",
       "      <th>clique_size</th>\n",
       "      <th>init_time</th>\n",
       "      <th>sample_runtime</th>\n",
       "      <th>mdr</th>\n",
       "      <th>ext_avg</th>\n",
       "      <th>ext_max</th>\n",
       "      <th>ext_min</th>\n",
       "      <th>grown_clique_size</th>\n",
       "    </tr>\n",
       "  </thead>\n",
       "  <tbody>\n",
       "    <tr>\n",
       "      <th>0</th>\n",
       "      <td>cancer</td>\n",
       "      <td>FACETBranchBound</td>\n",
       "      <td>20.0</td>\n",
       "      <td>20.0</td>\n",
       "      <td>30.0</td>\n",
       "      <td>0.955</td>\n",
       "      <td>0.952381</td>\n",
       "      <td>0.889004</td>\n",
       "      <td>0.910078</td>\n",
       "      <td>12.56</td>\n",
       "      <td>...</td>\n",
       "      <td>3.915000</td>\n",
       "      <td>4.280875</td>\n",
       "      <td>0.00</td>\n",
       "      <td>64.402032</td>\n",
       "      <td>214.043772</td>\n",
       "      <td>0.154080</td>\n",
       "      <td>276.115</td>\n",
       "      <td>627.7</td>\n",
       "      <td>131.0</td>\n",
       "      <td>-1.000</td>\n",
       "    </tr>\n",
       "    <tr>\n",
       "      <th>1</th>\n",
       "      <td>cancer</td>\n",
       "      <td>FACETGrow</td>\n",
       "      <td>20.0</td>\n",
       "      <td>20.0</td>\n",
       "      <td>30.0</td>\n",
       "      <td>0.955</td>\n",
       "      <td>0.952381</td>\n",
       "      <td>0.889004</td>\n",
       "      <td>0.910078</td>\n",
       "      <td>12.56</td>\n",
       "      <td>...</td>\n",
       "      <td>7.545000</td>\n",
       "      <td>0.032396</td>\n",
       "      <td>0.57</td>\n",
       "      <td>45.950103</td>\n",
       "      <td>1.619793</td>\n",
       "      <td>0.424413</td>\n",
       "      <td>-1.000</td>\n",
       "      <td>-1.0</td>\n",
       "      <td>-1.0</td>\n",
       "      <td>9.995</td>\n",
       "    </tr>\n",
       "    <tr>\n",
       "      <th>2</th>\n",
       "      <td>cancer</td>\n",
       "      <td>FACETIndex</td>\n",
       "      <td>20.0</td>\n",
       "      <td>20.0</td>\n",
       "      <td>30.0</td>\n",
       "      <td>0.955</td>\n",
       "      <td>0.952381</td>\n",
       "      <td>0.889004</td>\n",
       "      <td>0.910078</td>\n",
       "      <td>12.56</td>\n",
       "      <td>...</td>\n",
       "      <td>3.790000</td>\n",
       "      <td>3.734157</td>\n",
       "      <td>0.00</td>\n",
       "      <td>3133.356404</td>\n",
       "      <td>186.707851</td>\n",
       "      <td>0.165073</td>\n",
       "      <td>-1.000</td>\n",
       "      <td>-1.0</td>\n",
       "      <td>-1.0</td>\n",
       "      <td>-1.000</td>\n",
       "    </tr>\n",
       "    <tr>\n",
       "      <th>3</th>\n",
       "      <td>cancer</td>\n",
       "      <td>OCEAN</td>\n",
       "      <td>20.0</td>\n",
       "      <td>20.0</td>\n",
       "      <td>30.0</td>\n",
       "      <td>0.955</td>\n",
       "      <td>0.952381</td>\n",
       "      <td>0.889004</td>\n",
       "      <td>0.910078</td>\n",
       "      <td>12.56</td>\n",
       "      <td>...</td>\n",
       "      <td>3.836471</td>\n",
       "      <td>0.532153</td>\n",
       "      <td>0.00</td>\n",
       "      <td>0.000000</td>\n",
       "      <td>26.607629</td>\n",
       "      <td>0.154201</td>\n",
       "      <td>-1.000</td>\n",
       "      <td>-1.0</td>\n",
       "      <td>-1.0</td>\n",
       "      <td>-1.000</td>\n",
       "    </tr>\n",
       "    <tr>\n",
       "      <th>0</th>\n",
       "      <td>glass</td>\n",
       "      <td>FACETBranchBound</td>\n",
       "      <td>20.0</td>\n",
       "      <td>20.0</td>\n",
       "      <td>9.0</td>\n",
       "      <td>0.795</td>\n",
       "      <td>0.791477</td>\n",
       "      <td>0.850427</td>\n",
       "      <td>0.810027</td>\n",
       "      <td>11.50</td>\n",
       "      <td>...</td>\n",
       "      <td>1.810000</td>\n",
       "      <td>0.876564</td>\n",
       "      <td>0.00</td>\n",
       "      <td>65.300560</td>\n",
       "      <td>43.828180</td>\n",
       "      <td>0.051610</td>\n",
       "      <td>124.295</td>\n",
       "      <td>181.9</td>\n",
       "      <td>76.2</td>\n",
       "      <td>-1.000</td>\n",
       "    </tr>\n",
       "  </tbody>\n",
       "</table>\n",
       "<p>5 rows × 26 columns</p>\n",
       "</div>"
      ],
      "text/plain": [
       "  dataset         explainer  n_samples  n_samples_explained  n_features  \\\n",
       "0  cancer  FACETBranchBound       20.0                 20.0        30.0   \n",
       "1  cancer         FACETGrow       20.0                 20.0        30.0   \n",
       "2  cancer        FACETIndex       20.0                 20.0        30.0   \n",
       "3  cancer             OCEAN       20.0                 20.0        30.0   \n",
       "0   glass  FACETBranchBound       20.0                 20.0         9.0   \n",
       "\n",
       "   accuracy  precision    recall        f1  avg_nnodes  ...  mean_length  \\\n",
       "0     0.955   0.952381  0.889004  0.910078       12.56  ...     3.915000   \n",
       "1     0.955   0.952381  0.889004  0.910078       12.56  ...     7.545000   \n",
       "2     0.955   0.952381  0.889004  0.910078       12.56  ...     3.790000   \n",
       "3     0.955   0.952381  0.889004  0.910078       12.56  ...     3.836471   \n",
       "0     0.795   0.791477  0.850427  0.810027       11.50  ...     1.810000   \n",
       "\n",
       "    runtime  clique_size    init_time  sample_runtime       mdr  ext_avg  \\\n",
       "0  4.280875         0.00    64.402032      214.043772  0.154080  276.115   \n",
       "1  0.032396         0.57    45.950103        1.619793  0.424413   -1.000   \n",
       "2  3.734157         0.00  3133.356404      186.707851  0.165073   -1.000   \n",
       "3  0.532153         0.00     0.000000       26.607629  0.154201   -1.000   \n",
       "0  0.876564         0.00    65.300560       43.828180  0.051610  124.295   \n",
       "\n",
       "   ext_max  ext_min  grown_clique_size  \n",
       "0    627.7    131.0             -1.000  \n",
       "1     -1.0     -1.0              9.995  \n",
       "2     -1.0     -1.0             -1.000  \n",
       "3     -1.0     -1.0             -1.000  \n",
       "0    181.9     76.2             -1.000  \n",
       "\n",
       "[5 rows x 26 columns]"
      ]
     },
     "execution_count": 78,
     "metadata": {},
     "output_type": "execute_result"
    }
   ],
   "source": [
    "all_results.head()"
   ]
  },
  {
   "cell_type": "code",
   "execution_count": 79,
   "metadata": {},
   "outputs": [],
   "source": [
    "def render_bar_plot(xfeature, yfeature, xlabel, ylabel, title, save_name=None, xrange=None, yrange=None, xlog=False, lloc=None):\n",
    "    fig, ax = plt.subplots()\n",
    "    pos = np.arange(len(found_ds))\n",
    "    bar_width = 0.15\n",
    "\n",
    "    yvalues = all_results[yfeature].unique()\n",
    "\n",
    "    for i in range(len(yvalues)):\n",
    "        isExpl = all_results[yfeature] == yvalues[i]\n",
    "        hbars = ax.barh(y=(pos + bar_width*i), width=all_results[isExpl][xfeature], height=bar_width, log=xlog, color=explainer_colors[yvalues[i]])\n",
    "\n",
    "    plt.xlabel(xlabel)\n",
    "    plt.ylabel(ylabel)\n",
    "    plt.title(title)\n",
    "\n",
    "    if not lloc:\n",
    "        lloc = \"best\"\n",
    "    plt.legend(explainer_names, loc=lloc, bbox_to_anchor=(1,1))\n",
    "    plt.yticks(pos, found_ds)\n",
    "\n",
    "    if save_name is not None:\n",
    "        plt.savefig(fig_output_path + \"/\" + save_name, bbox_inches=\"tight\")"
   ]
  },
  {
   "cell_type": "code",
   "execution_count": 80,
   "metadata": {},
   "outputs": [
    {
     "data": {
      "image/png": "[encoded data removed]",
      "text/plain": [
       "<Figure size 432x288 with 1 Axes>"
      ]
     },
     "metadata": {
      "needs_background": "light"
     },
     "output_type": "display_data"
    }
   ],
   "source": [
    "render_bar_plot(\"init_time\", \"explainer\", \"Initialization Time (ms)\", \"Dataset\", \"Initilization Time by Explainer\", \"inittime.png\", xlog=True, lloc=\"upper left\")"
   ]
  },
  {
   "cell_type": "code",
   "execution_count": 81,
   "metadata": {},
   "outputs": [
    {
     "data": {
      "image/png": "[encoded data removed]",
      "text/plain": [
       "<Figure size 432x288 with 1 Axes>"
      ]
     },
     "metadata": {
      "needs_background": "light"
     },
     "output_type": "display_data"
    }
   ],
   "source": [
    "render_bar_plot(\"sample_runtime\", \"explainer\", \"Per Sample Runtime (ms)\", \"Dataset\", \"Per Sample Runtime Time by Explainer\", \"runtime.png\", xlog=True, lloc=\"upper left\")"
   ]
  },
  {
   "cell_type": "code",
   "execution_count": 82,
   "metadata": {},
   "outputs": [
    {
     "data": {
      "image/png": "[encoded data removed]",
      "text/plain": [
       "<Figure size 432x288 with 1 Axes>"
      ]
     },
     "metadata": {
      "needs_background": "light"
     },
     "output_type": "display_data"
    }
   ],
   "source": [
    "render_bar_plot(\"coverage_ratio\", \"explainer\", \"Coverage\", \"Dataset\", \"Coverage by Explainer\", \"coverage.png\", lloc=\"upper left\")"
   ]
  },
  {
   "cell_type": "code",
   "execution_count": 83,
   "metadata": {},
   "outputs": [
    {
     "data": {
      "text/plain": [
       "Index(['dataset', 'explainer', 'n_samples', 'n_samples_explained',\n",
       "       'n_features', 'accuracy', 'precision', 'recall', 'f1', 'avg_nnodes',\n",
       "       'avg_nleaves', 'avg_depth', 'q', 'jaccard', 'coverage_ratio',\n",
       "       'mean_distance', 'mean_length', 'runtime', 'clique_size', 'init_time',\n",
       "       'sample_runtime', 'mdr', 'ext_avg', 'ext_max', 'ext_min',\n",
       "       'grown_clique_size'],\n",
       "      dtype='object')"
      ]
     },
     "execution_count": 83,
     "metadata": {},
     "output_type": "execute_result"
    }
   ],
   "source": [
    "all_results.columns"
   ]
  },
  {
   "cell_type": "code",
   "execution_count": 84,
   "metadata": {},
   "outputs": [
    {
     "data": {
      "text/html": [
       "<div>\n",
       "<style scoped>\n",
       "    .dataframe tbody tr th:only-of-type {\n",
       "        vertical-align: middle;\n",
       "    }\n",
       "\n",
       "    .dataframe tbody tr th {\n",
       "        vertical-align: top;\n",
       "    }\n",
       "\n",
       "    .dataframe thead th {\n",
       "        text-align: right;\n",
       "    }\n",
       "</style>\n",
       "<table border=\"1\" class=\"dataframe\">\n",
       "  <thead>\n",
       "    <tr style=\"text-align: right;\">\n",
       "      <th></th>\n",
       "      <th>dataset</th>\n",
       "      <th>explainer</th>\n",
       "      <th>mean_distance</th>\n",
       "      <th>mean_length</th>\n",
       "    </tr>\n",
       "  </thead>\n",
       "  <tbody>\n",
       "    <tr>\n",
       "      <th>0</th>\n",
       "      <td>cancer</td>\n",
       "      <td>FACETBranchBound</td>\n",
       "      <td>0.154080</td>\n",
       "      <td>3.915000</td>\n",
       "    </tr>\n",
       "    <tr>\n",
       "      <th>1</th>\n",
       "      <td>cancer</td>\n",
       "      <td>FACETGrow</td>\n",
       "      <td>0.424413</td>\n",
       "      <td>7.545000</td>\n",
       "    </tr>\n",
       "    <tr>\n",
       "      <th>2</th>\n",
       "      <td>cancer</td>\n",
       "      <td>FACETIndex</td>\n",
       "      <td>0.165073</td>\n",
       "      <td>3.790000</td>\n",
       "    </tr>\n",
       "    <tr>\n",
       "      <th>3</th>\n",
       "      <td>cancer</td>\n",
       "      <td>OCEAN</td>\n",
       "      <td>0.154201</td>\n",
       "      <td>3.836471</td>\n",
       "    </tr>\n",
       "    <tr>\n",
       "      <th>0</th>\n",
       "      <td>glass</td>\n",
       "      <td>FACETBranchBound</td>\n",
       "      <td>0.051610</td>\n",
       "      <td>1.810000</td>\n",
       "    </tr>\n",
       "  </tbody>\n",
       "</table>\n",
       "</div>"
      ],
      "text/plain": [
       "  dataset         explainer  mean_distance  mean_length\n",
       "0  cancer  FACETBranchBound       0.154080     3.915000\n",
       "1  cancer         FACETGrow       0.424413     7.545000\n",
       "2  cancer        FACETIndex       0.165073     3.790000\n",
       "3  cancer             OCEAN       0.154201     3.836471\n",
       "0   glass  FACETBranchBound       0.051610     1.810000"
      ]
     },
     "execution_count": 84,
     "metadata": {},
     "output_type": "execute_result"
    }
   ],
   "source": [
    "all_results[[\"dataset\", \"explainer\", \"mean_distance\", \"mean_length\"]].head()"
   ]
  },
  {
   "cell_type": "code",
   "execution_count": 85,
   "metadata": {},
   "outputs": [
    {
     "data": {
      "image/png": "[encoded data removed]",
      "text/plain": [
       "<Figure size 432x288 with 1 Axes>"
      ]
     },
     "metadata": {
      "needs_background": "light"
     },
     "output_type": "display_data"
    }
   ],
   "source": [
    "render_bar_plot(\"mdr\", \"explainer\", \"Explanation Distance\", \"Dataset\", \"Distance by Explainer\", \"distance.png\", lloc=\"upper left\")"
   ]
  },
  {
   "cell_type": "code",
   "execution_count": 86,
   "metadata": {},
   "outputs": [
    {
     "data": {
      "image/png": "[encoded data removed]",
      "text/plain": [
       "<Figure size 432x288 with 1 Axes>"
      ]
     },
     "metadata": {
      "needs_background": "light"
     },
     "output_type": "display_data"
    }
   ],
   "source": [
    "render_bar_plot(\"mean_length\", \"explainer\", \"Features Changes\", \"Dataset\", \"Length by Explainer\", \"length.png\")"
   ]
  },
  {
   "cell_type": "code",
   "execution_count": 87,
   "metadata": {},
   "outputs": [
    {
     "data": {
      "image/png": "[encoded data removed]",
      "text/plain": [
       "<Figure size 432x288 with 1 Axes>"
      ]
     },
     "metadata": {
      "needs_background": "light"
     },
     "output_type": "display_data"
    }
   ],
   "source": [
    "render_bar_plot(\"clique_size\", \"explainer\", \"Trees in Clique\", \"Dataset\", \"Max Clique Size by Dataset\", \"cliques.png\")"
   ]
  },
  {
   "cell_type": "code",
   "execution_count": 88,
   "metadata": {},
   "outputs": [],
   "source": [
    "if \"OCEAN\" in found_explainers and \"FACETIndex\" in found_explainers:\n",
    "    idx_ocean = all_results[\"explainer\"] == \"OCEAN\"\n",
    "    all_results[idx_ocean][[\"dataset\", \"explainer\", \"mean_distance\", \"mdr\"]]"
   ]
  },
  {
   "cell_type": "code",
   "execution_count": 89,
   "metadata": {},
   "outputs": [],
   "source": [
    "if \"OCEAN\" in found_explainers and \"FACETIndex\" in found_explainers:\n",
    "    idx_facet = all_results[\"explainer\"] == \"FACETIndex\"\n",
    "    all_results[idx_facet][[\"dataset\", \"explainer\", \"mean_distance\", \"mdr\"]]"
   ]
  },
  {
   "cell_type": "code",
   "execution_count": 90,
   "metadata": {},
   "outputs": [
    {
     "name": "stdout",
     "output_type": "stream",
     "text": [
      "Ratio to optimal\n",
      "cancer 1.0713449566861764\n",
      "glass 1.1235386084495402\n",
      "magic 1.0551232459865272\n",
      "spambase 1.6049371925901228\n",
      "vertebral 1.0940686069688945\n"
     ]
    }
   ],
   "source": [
    "if \"FACETBranchBound\" in found_explainers and \"FACETIndex\" in found_explainers:\n",
    "    print(\"Ratio to optimal\")\n",
    "    idx_fbb = all_results[\"explainer\"] == \"FACETBranchBound\"\n",
    "    for ds in found_ds:\n",
    "        idx_ds = all_results[\"dataset\"] == ds\n",
    "        ratio_to_optimal = 0\n",
    "        opt_dist = float(all_results[np.logical_and(idx_ds, idx_fbb)][\"mean_distance\"])\n",
    "        facet_dist = float(all_results[np.logical_and(idx_ds, idx_facet)][\"mean_distance\"])\n",
    "        print(ds, facet_dist / opt_dist)"
   ]
  },
  {
   "cell_type": "code",
   "execution_count": 91,
   "metadata": {},
   "outputs": [
    {
     "name": "stdout",
     "output_type": "stream",
     "text": [
      "1.4420000000000002\n",
      "9.637000000000002\n"
     ]
    }
   ],
   "source": [
    "if \"FACETGrow\" in found_explainers:\n",
    "    is_grow = all_results[\"explainer\"] == \"FACETGrow\"\n",
    "    avg_starting_clique = all_results[is_grow][\"clique_size\"].mean()\n",
    "    avg_final_clique = all_results[is_grow][\"grown_clique_size\"].mean()\n",
    "    print(avg_starting_clique)\n",
    "    print(avg_final_clique)"
   ]
  },
  {
   "cell_type": "code",
   "execution_count": 92,
   "metadata": {},
   "outputs": [
    {
     "data": {
      "text/plain": [
       "Index(['dataset', 'explainer', 'n_samples', 'n_samples_explained',\n",
       "       'n_features', 'accuracy', 'precision', 'recall', 'f1', 'avg_nnodes',\n",
       "       'avg_nleaves', 'avg_depth', 'q', 'jaccard', 'coverage_ratio',\n",
       "       'mean_distance', 'mean_length', 'runtime', 'clique_size', 'init_time',\n",
       "       'sample_runtime', 'mdr', 'ext_avg', 'ext_max', 'ext_min',\n",
       "       'grown_clique_size'],\n",
       "      dtype='object')"
      ]
     },
     "execution_count": 92,
     "metadata": {},
     "output_type": "execute_result"
    }
   ],
   "source": [
    "all_results.columns"
   ]
  },
  {
   "cell_type": "code",
   "execution_count": 93,
   "metadata": {},
   "outputs": [
    {
     "name": "stdout",
     "output_type": "stream",
     "text": [
      "Hyper-Rectangle Enumeration Rate (rects / sec):\n",
      "cancer 145.02020880093943\n",
      "glass 43.24960798757578\n",
      "magic 4856.4864288944245\n",
      "spambase 1206.9369038662505\n",
      "vertebral 76.07932613228404\n"
     ]
    }
   ],
   "source": [
    "if \"FACETIndex\" in found_explainers:\n",
    "    isExpl = all_results[\"explainer\"] == \"FACETIndex\"\n",
    "    print(\"Hyper-Rectangle Enumeration Rate (rects / sec):\")\n",
    "    for ds in found_ds:\n",
    "        n_rects = 0.8 * DS_DIMENSIONS[ds][0]\n",
    "        is_ds = all_results[\"dataset\"] == ds\n",
    "        is_value = (np.logical_and(isExpl, is_ds))\n",
    "        ds_init_time = all_results[is_value][\"init_time\"].iloc[0]\n",
    "        print(ds, n_rects / (ds_init_time / 1000))\n",
    "\n",
    "    all_results[isExpl][[\"dataset\", \"init_time\", \"n_samples\"]].head(50)"
   ]
  }
 ],
 "metadata": {
  "interpreter": {
   "hash": "0ee1fceac40cd608145abbd18cebcc49c15aa542c45457ebe635f49f93e12ec7"
  },
  "kernelspec": {
   "display_name": "Python 3.8.8 64-bit ('dsrg': conda)",
   "name": "python3"
  },
  "language_info": {
   "codemirror_mode": {
    "name": "ipython",
    "version": 3
   },
   "file_extension": ".py",
   "mimetype": "text/x-python",
   "name": "python",
   "nbconvert_exporter": "python",
   "pygments_lexer": "ipython3",
   "version": "3.8.8"
  },
  "orig_nbformat": 4
 },
 "nbformat": 4,
 "nbformat_minor": 2
}
