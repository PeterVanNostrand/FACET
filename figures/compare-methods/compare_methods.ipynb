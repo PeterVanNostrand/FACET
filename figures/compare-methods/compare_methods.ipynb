{
 "cells": [
  {
   "cell_type": "code",
   "execution_count": 12,
   "metadata": {},
   "outputs": [],
   "source": [
    "import pandas as pd\n",
    "import matplotlib.pyplot as plt\n",
    "import numpy as np\n",
    "import os\n",
    "import re\n",
    "import sys\n",
    "\n",
    "sys.path.append(os.path.abspath(\"../../\"))\n",
    "from dataset import DS_NAMES\n",
    "from dataset import DS_DIMENSIONS\n",
    "from utilities.figure_tools import get_latest_results_directory, make_fig_directory, load_results\n",
    "\n",
    "cmap = plt.get_cmap(\"Set1\")\n",
    "colors = cmap.colors"
   ]
  },
  {
   "cell_type": "code",
   "execution_count": 13,
   "metadata": {},
   "outputs": [
    {
     "name": "stdout",
     "output_type": "stream",
     "text": [
      "Generating figures for run-030\n",
      "Datasets included:\n",
      "\t magic\n",
      "\t vertebral\n",
      "Explainers included:\n",
      "\t BestCandidate\n",
      "\t FACETPaths\n",
      "\t OCEAN\n"
     ]
    }
   ],
   "source": [
    "run_id, run_path = get_latest_results_directory(\"../../results/compare-methods/\")\n",
    "# run_id = 1\n",
    "# run_path = \"C:/Users/Peter/Documents/Peter/9-Graduate-School/2-dsrg/explainable-ad/code/HEEAD/results/compare-methods/run-{:003d}\".format(run_id)\n",
    "fig_output_path = make_fig_directory(run_id)\n",
    "found_ds, results = load_results(run_path, group_field=\"explainer\")\n",
    "\n",
    "all_results = pd.DataFrame(columns=[\"dataset\", \"explainer\", \"n_samples\", \"n_samples_explained\" \"n_features\", \"accuracy\", \"precision\", \"recall\", \"f1\", \"avg_nnodes\", \"avg_nleaves\", \"avg_depth\", \"q\", \"jaccard\", \"coverage_ratio\", \"mean_distance\", \"mean_length\", \"runtime\", \"clique_size\", \"init_time\", \"sample_runtime\", \"mdr\"])\n",
    "\n",
    "for ds in found_ds:\n",
    "    results[ds][\"sample_runtime\"] = results[ds].runtime / results[ds].n_samples_explained * 1000\n",
    "    results[ds][\"init_time\"] = results[ds][\"init_time\"] * 1000\n",
    "    results[ds][\"mdr\"] = results[ds].mean_distance / np.sqrt(results[ds].n_features) * 100\n",
    "\n",
    "for ds in found_ds:\n",
    "    for index, row in results[ds].iterrows():\n",
    "        row[\"dataset\"] = ds\n",
    "        all_results = all_results.append(row)\n",
    "idx_neg = all_results[\"clique_size\"] < 0\n",
    "all_results.loc[idx_neg, \"clique_size\"] = 0\n",
    "\n",
    "found_explainers = all_results[\"explainer\"].unique()\n",
    "explainer_dict = {\n",
    "    \"BestCandidate\" : \"AFT\",\n",
    "    \"FACET\" : \"FACET\",\n",
    "    \"FACETPaths\" : \"FACETPaths\",\n",
    "    \"FACETTrees\" : \"FACETTrees\",\n",
    "    \"OCEAN\" : \"OCEAN\",\n",
    "    \"MACE\": \"MACE\"\n",
    "}\n",
    "explainer_colors = {\n",
    "    \"BestCandidate\" : colors[3] , # purple\n",
    "    \"FACET\" : colors[0], # red\n",
    "    \"FACETPaths\" : colors[0], # red\n",
    "    \"FACETTrees\" : colors[0], # red\n",
    "    \"OCEAN\" : colors[4], # orange\n",
    "    \"MACE\": colors[1] # blue\n",
    "}\n",
    "explainer_names = []\n",
    "for e in found_explainers:\n",
    "    explainer_names.append(explainer_dict[e])\n",
    "\n",
    "print(\"Generating figures for run-{:03d}\".format(run_id))\n",
    "print(\"Datasets included:\")\n",
    "for ds in found_ds:\n",
    "    print(\"\\t\", ds)\n",
    "print(\"Explainers included:\")\n",
    "for expl in found_explainers:\n",
    "    print(\"\\t\", expl)"
   ]
  },
  {
   "cell_type": "code",
   "execution_count": 14,
   "metadata": {},
   "outputs": [
    {
     "data": {
      "text/html": [
       "<div>\n",
       "<style scoped>\n",
       "    .dataframe tbody tr th:only-of-type {\n",
       "        vertical-align: middle;\n",
       "    }\n",
       "\n",
       "    .dataframe tbody tr th {\n",
       "        vertical-align: top;\n",
       "    }\n",
       "\n",
       "    .dataframe thead th {\n",
       "        text-align: right;\n",
       "    }\n",
       "</style>\n",
       "<table border=\"1\" class=\"dataframe\">\n",
       "  <thead>\n",
       "    <tr style=\"text-align: right;\">\n",
       "      <th></th>\n",
       "      <th>dataset</th>\n",
       "      <th>explainer</th>\n",
       "      <th>n_samples</th>\n",
       "      <th>n_samples_explainedn_features</th>\n",
       "      <th>accuracy</th>\n",
       "      <th>precision</th>\n",
       "      <th>recall</th>\n",
       "      <th>f1</th>\n",
       "      <th>avg_nnodes</th>\n",
       "      <th>avg_nleaves</th>\n",
       "      <th>...</th>\n",
       "      <th>coverage_ratio</th>\n",
       "      <th>mean_distance</th>\n",
       "      <th>mean_length</th>\n",
       "      <th>runtime</th>\n",
       "      <th>clique_size</th>\n",
       "      <th>init_time</th>\n",
       "      <th>sample_runtime</th>\n",
       "      <th>mdr</th>\n",
       "      <th>n_features</th>\n",
       "      <th>n_samples_explained</th>\n",
       "    </tr>\n",
       "  </thead>\n",
       "  <tbody>\n",
       "    <tr>\n",
       "      <th>0</th>\n",
       "      <td>magic</td>\n",
       "      <td>BestCandidate</td>\n",
       "      <td>20</td>\n",
       "      <td>NaN</td>\n",
       "      <td>0.9</td>\n",
       "      <td>0.888889</td>\n",
       "      <td>1.000000</td>\n",
       "      <td>0.941176</td>\n",
       "      <td>14.9</td>\n",
       "      <td>7.95</td>\n",
       "      <td>...</td>\n",
       "      <td>0.9</td>\n",
       "      <td>0.146977</td>\n",
       "      <td>1.388889</td>\n",
       "      <td>0.043998</td>\n",
       "      <td>0.0</td>\n",
       "      <td>0.000000</td>\n",
       "      <td>2.199912</td>\n",
       "      <td>4.647825</td>\n",
       "      <td>10.0</td>\n",
       "      <td>20.0</td>\n",
       "    </tr>\n",
       "    <tr>\n",
       "      <th>1</th>\n",
       "      <td>magic</td>\n",
       "      <td>FACETPaths</td>\n",
       "      <td>20</td>\n",
       "      <td>NaN</td>\n",
       "      <td>0.9</td>\n",
       "      <td>0.888889</td>\n",
       "      <td>1.000000</td>\n",
       "      <td>0.941176</td>\n",
       "      <td>14.9</td>\n",
       "      <td>7.95</td>\n",
       "      <td>...</td>\n",
       "      <td>1.0</td>\n",
       "      <td>0.437615</td>\n",
       "      <td>7.200000</td>\n",
       "      <td>69.673063</td>\n",
       "      <td>19.5</td>\n",
       "      <td>1294.306755</td>\n",
       "      <td>3483.653128</td>\n",
       "      <td>13.838601</td>\n",
       "      <td>10.0</td>\n",
       "      <td>20.0</td>\n",
       "    </tr>\n",
       "    <tr>\n",
       "      <th>2</th>\n",
       "      <td>magic</td>\n",
       "      <td>OCEAN</td>\n",
       "      <td>20</td>\n",
       "      <td>NaN</td>\n",
       "      <td>0.9</td>\n",
       "      <td>0.888889</td>\n",
       "      <td>1.000000</td>\n",
       "      <td>0.941176</td>\n",
       "      <td>14.9</td>\n",
       "      <td>7.95</td>\n",
       "      <td>...</td>\n",
       "      <td>1.0</td>\n",
       "      <td>0.093495</td>\n",
       "      <td>2.950000</td>\n",
       "      <td>1.251908</td>\n",
       "      <td>0.0</td>\n",
       "      <td>0.000000</td>\n",
       "      <td>62.595403</td>\n",
       "      <td>2.956579</td>\n",
       "      <td>10.0</td>\n",
       "      <td>20.0</td>\n",
       "    </tr>\n",
       "    <tr>\n",
       "      <th>0</th>\n",
       "      <td>vertebral</td>\n",
       "      <td>BestCandidate</td>\n",
       "      <td>20</td>\n",
       "      <td>NaN</td>\n",
       "      <td>0.8</td>\n",
       "      <td>0.769231</td>\n",
       "      <td>0.909091</td>\n",
       "      <td>0.833333</td>\n",
       "      <td>12.4</td>\n",
       "      <td>6.70</td>\n",
       "      <td>...</td>\n",
       "      <td>0.7</td>\n",
       "      <td>0.080292</td>\n",
       "      <td>1.214286</td>\n",
       "      <td>0.039000</td>\n",
       "      <td>0.0</td>\n",
       "      <td>0.000000</td>\n",
       "      <td>1.950014</td>\n",
       "      <td>3.277917</td>\n",
       "      <td>6.0</td>\n",
       "      <td>20.0</td>\n",
       "    </tr>\n",
       "    <tr>\n",
       "      <th>1</th>\n",
       "      <td>vertebral</td>\n",
       "      <td>FACETPaths</td>\n",
       "      <td>20</td>\n",
       "      <td>NaN</td>\n",
       "      <td>0.8</td>\n",
       "      <td>0.769231</td>\n",
       "      <td>0.909091</td>\n",
       "      <td>0.833333</td>\n",
       "      <td>12.4</td>\n",
       "      <td>6.70</td>\n",
       "      <td>...</td>\n",
       "      <td>1.0</td>\n",
       "      <td>0.423688</td>\n",
       "      <td>4.800000</td>\n",
       "      <td>79.912713</td>\n",
       "      <td>19.5</td>\n",
       "      <td>1033.535480</td>\n",
       "      <td>3995.635653</td>\n",
       "      <td>17.296978</td>\n",
       "      <td>6.0</td>\n",
       "      <td>20.0</td>\n",
       "    </tr>\n",
       "  </tbody>\n",
       "</table>\n",
       "<p>5 rows × 23 columns</p>\n",
       "</div>"
      ],
      "text/plain": [
       "     dataset      explainer n_samples  n_samples_explainedn_features  \\\n",
       "0      magic  BestCandidate        20                            NaN   \n",
       "1      magic     FACETPaths        20                            NaN   \n",
       "2      magic          OCEAN        20                            NaN   \n",
       "0  vertebral  BestCandidate        20                            NaN   \n",
       "1  vertebral     FACETPaths        20                            NaN   \n",
       "\n",
       "   accuracy  precision    recall        f1  avg_nnodes  avg_nleaves  ...  \\\n",
       "0       0.9   0.888889  1.000000  0.941176        14.9         7.95  ...   \n",
       "1       0.9   0.888889  1.000000  0.941176        14.9         7.95  ...   \n",
       "2       0.9   0.888889  1.000000  0.941176        14.9         7.95  ...   \n",
       "0       0.8   0.769231  0.909091  0.833333        12.4         6.70  ...   \n",
       "1       0.8   0.769231  0.909091  0.833333        12.4         6.70  ...   \n",
       "\n",
       "   coverage_ratio  mean_distance  mean_length    runtime  clique_size  \\\n",
       "0             0.9       0.146977     1.388889   0.043998          0.0   \n",
       "1             1.0       0.437615     7.200000  69.673063         19.5   \n",
       "2             1.0       0.093495     2.950000   1.251908          0.0   \n",
       "0             0.7       0.080292     1.214286   0.039000          0.0   \n",
       "1             1.0       0.423688     4.800000  79.912713         19.5   \n",
       "\n",
       "     init_time  sample_runtime        mdr  n_features  n_samples_explained  \n",
       "0     0.000000        2.199912   4.647825        10.0                 20.0  \n",
       "1  1294.306755     3483.653128  13.838601        10.0                 20.0  \n",
       "2     0.000000       62.595403   2.956579        10.0                 20.0  \n",
       "0     0.000000        1.950014   3.277917         6.0                 20.0  \n",
       "1  1033.535480     3995.635653  17.296978         6.0                 20.0  \n",
       "\n",
       "[5 rows x 23 columns]"
      ]
     },
     "execution_count": 14,
     "metadata": {},
     "output_type": "execute_result"
    }
   ],
   "source": [
    "all_results.head()"
   ]
  },
  {
   "cell_type": "code",
   "execution_count": 15,
   "metadata": {},
   "outputs": [],
   "source": [
    "def render_bar_plot(xfeature, yfeature, xlabel, ylabel, title, save_name=None, xrange=None, yrange=None, xlog=False, lloc=None):\n",
    "    fig, ax = plt.subplots()\n",
    "    pos = np.arange(len(found_ds))\n",
    "    bar_width = 0.15\n",
    "\n",
    "    yvalues = all_results[yfeature].unique()\n",
    "\n",
    "    for i in range(len(yvalues)):\n",
    "        isExpl = all_results[yfeature] == yvalues[i]\n",
    "        hbars = ax.barh(y=(pos + bar_width*i), width=all_results[isExpl][xfeature], height=bar_width, log=xlog, color=explainer_colors[yvalues[i]])\n",
    "\n",
    "    plt.xlabel(xlabel)\n",
    "    plt.ylabel(ylabel)\n",
    "    plt.title(title)\n",
    "\n",
    "    if not lloc:\n",
    "        lloc = \"best\"\n",
    "    plt.legend(explainer_names, loc=lloc)\n",
    "    plt.yticks(pos, found_ds)\n",
    "\n",
    "    if save_name is not None:\n",
    "        plt.savefig(fig_output_path + \"/\" + save_name, bbox_inches=\"tight\")"
   ]
  },
  {
   "cell_type": "code",
   "execution_count": 16,
   "metadata": {},
   "outputs": [
    {
     "data": {
      "image/png": "[encoded data removed]",
      "text/plain": [
       "<Figure size 432x288 with 1 Axes>"
      ]
     },
     "metadata": {
      "needs_background": "light"
     },
     "output_type": "display_data"
    }
   ],
   "source": [
    "render_bar_plot(\"init_time\", \"explainer\", \"Initialization Time (ms)\", \"Dataset\", \"Initilization Time by Explainer\", \"inittime.png\", xlog=True)"
   ]
  },
  {
   "cell_type": "code",
   "execution_count": 17,
   "metadata": {},
   "outputs": [
    {
     "data": {
      "image/png": "[encoded data removed]",
      "text/plain": [
       "<Figure size 432x288 with 1 Axes>"
      ]
     },
     "metadata": {
      "needs_background": "light"
     },
     "output_type": "display_data"
    }
   ],
   "source": [
    "render_bar_plot(\"sample_runtime\", \"explainer\", \"Per Sample Runtime (ms)\", \"Dataset\", \"Per Sample Runtime Time by Explainer\", \"runtime.png\", xlog=True)"
   ]
  },
  {
   "cell_type": "code",
   "execution_count": 18,
   "metadata": {},
   "outputs": [
    {
     "data": {
      "image/png": "[encoded data removed]",
      "text/plain": [
       "<Figure size 432x288 with 1 Axes>"
      ]
     },
     "metadata": {
      "needs_background": "light"
     },
     "output_type": "display_data"
    }
   ],
   "source": [
    "render_bar_plot(\"coverage_ratio\", \"explainer\", \"Coverage\", \"Dataset\", \"Coverage by Explainer\", \"coverage.png\")"
   ]
  },
  {
   "cell_type": "code",
   "execution_count": 19,
   "metadata": {},
   "outputs": [
    {
     "data": {
      "image/png": "[encoded data removed]",
      "text/plain": [
       "<Figure size 432x288 with 1 Axes>"
      ]
     },
     "metadata": {
      "needs_background": "light"
     },
     "output_type": "display_data"
    }
   ],
   "source": [
    "render_bar_plot(\"mdr\", \"explainer\", \"Mean Distance Ratio\", \"Dataset\", \"Distance by Explainer\", \"distance.png\")"
   ]
  },
  {
   "cell_type": "code",
   "execution_count": 20,
   "metadata": {},
   "outputs": [
    {
     "data": {
      "image/png": "[encoded data removed]",
      "text/plain": [
       "<Figure size 432x288 with 1 Axes>"
      ]
     },
     "metadata": {
      "needs_background": "light"
     },
     "output_type": "display_data"
    }
   ],
   "source": [
    "render_bar_plot(\"mean_length\", \"explainer\", \"Features Changes\", \"Dataset\", \"Length by Explainer\", \"length.png\")"
   ]
  },
  {
   "cell_type": "code",
   "execution_count": 21,
   "metadata": {},
   "outputs": [
    {
     "data": {
      "image/png": "[encoded data removed]",
      "text/plain": [
       "<Figure size 432x288 with 1 Axes>"
      ]
     },
     "metadata": {
      "needs_background": "light"
     },
     "output_type": "display_data"
    }
   ],
   "source": [
    "render_bar_plot(\"clique_size\", \"explainer\", \"Trees in Clique\", \"Dataset\", \"Max Clique Size by Dataset\", \"cliques.png\")"
   ]
  },
  {
   "cell_type": "code",
   "execution_count": 22,
   "metadata": {},
   "outputs": [],
   "source": [
    "# Classification performance\n",
    "\n",
    "md_table_path = fig_output_path + \"/results.md\"\n",
    "f = open(md_table_path, \"w\")\n",
    "\n",
    "metrics = [\"f1\", \"avg_nnodes\", \"avg_nleaves\", \"avg_depth\", \"q\", \"jaccard\"]\n",
    "formats = [\"{v:0.2f}\", \"{v:0.2f}\", \"{v:0.2f}\", \"{v:0.2f}\", \"{v:0.2f}\", \"{v:0.2f}\"]\n",
    "\n",
    "f.write(\"| dataset | n | p | f1 | nNodes | nLeaves | depth | Q | J |\\n\")\n",
    "f.write(\"|---------|---|---|----|--------|---------|-------|---|---|\\n\")\n",
    "\n",
    "for ds in found_ds:\n",
    "    n = DS_DIMENSIONS[ds][0]\n",
    "    p = DS_DIMENSIONS[ds][1]\n",
    "    f.write(\"| {ds} | {n} | {p}\".format(ds=ds, n=n, p=p))\n",
    "    for i in range(len(metrics)):\n",
    "        metric = metrics[i]\n",
    "        isexpl = results[found_ds[0]][\"explainer\"] == found_explainers[0]\n",
    "        val = results[ds][isexpl][metric].to_numpy()[0]\n",
    "        f.write((\" | \" + \"{v:0.2f}\" + \"\").format(v=val))\n",
    "    f.write(\" |\")\n",
    "    f.write(\"\\n\")\n",
    "\n",
    "# Explanation performance\n",
    "f.write(\"\\n\\n\")\n",
    "metrics = [\"coverage_ratio\", \"sample_runtime\", \"mean_length\", \"mdr\"]\n",
    "scales = [100, 1, 1, 1]\n",
    "f.write(\"|            |       |     | AFT    | FACET  | AFT   | FACET | AFT   | FACET | AFT   | FACET  |\\n\")\n",
    "f.write(\"| ---------- | ----- | --- | ------ | ------ | ----- | ----- | ----- | ----- | ----- | ------ |\\n\")\n",
    "f.write(\"| Dataset    | n     | p   | C      | C      | R     | R     | L     | L     | D     | D      |\\n\")\n",
    "\n",
    "for ds in found_ds:\n",
    "    n = DS_DIMENSIONS[ds][0]\n",
    "    p = DS_DIMENSIONS[ds][1]\n",
    "    f.write(\"| {ds} | {n} | {p}\".format(ds=ds, n=n, p=p))\n",
    "    for i in range(len(metrics)):\n",
    "        metric = metrics[i]\n",
    "        scale = scales[i]\n",
    "        for explainer in found_explainers:\n",
    "            isexpl = results[found_ds[0]][\"explainer\"] == explainer\n",
    "            val = results[ds][isexpl][metric].to_numpy()[0]\n",
    "            f.write(\" | {v:0.2f}\".format(v=val * scale))\n",
    "    f.write(\" |\")\n",
    "    f.write(\"\\n\")\n",
    "\n",
    "f.close()\n"
   ]
  }
 ],
 "metadata": {
  "interpreter": {
   "hash": "0ee1fceac40cd608145abbd18cebcc49c15aa542c45457ebe635f49f93e12ec7"
  },
  "kernelspec": {
   "display_name": "Python 3.8.8 64-bit ('dsrg': conda)",
   "name": "python3"
  },
  "language_info": {
   "codemirror_mode": {
    "name": "ipython",
    "version": 3
   },
   "file_extension": ".py",
   "mimetype": "text/x-python",
   "name": "python",
   "nbconvert_exporter": "python",
   "pygments_lexer": "ipython3",
   "version": "3.8.8"
  },
  "orig_nbformat": 4
 },
 "nbformat": 4,
 "nbformat_minor": 2
}
