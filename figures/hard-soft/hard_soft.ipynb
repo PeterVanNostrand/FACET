{
 "cells": [
  {
   "cell_type": "code",
   "execution_count": 1,
   "metadata": {},
   "outputs": [],
   "source": [
    "import pandas as pd\n",
    "import matplotlib.pyplot as plt\n",
    "import numpy as np\n",
    "import os\n",
    "import re\n",
    "import sys\n",
    "\n",
    "sys.path.append(os.path.abspath(\"../../\"))\n",
    "from dataset import DS_NAMES\n",
    "from dataset import DS_DIMENSIONS\n",
    "from utilities.figure_tools import get_latest_results_directory, make_fig_directory, load_results\n",
    "\n",
    "cmap = plt.get_cmap(\"Set1\")\n",
    "colors = cmap.colors"
   ]
  },
  {
   "cell_type": "code",
   "execution_count": 2,
   "metadata": {},
   "outputs": [
    {
     "name": "stdout",
     "output_type": "stream",
     "text": [
      "Generating figures for run-002\n"
     ]
    }
   ],
   "source": [
    "run_id, run_path = get_latest_results_directory(\"../../results/hard-soft/\")\n",
    "\n",
    "manual_select = False\n",
    "if manual_select:\n",
    "    run_id = 5\n",
    "    run_path = \"C:/Users/Peter/Documents/Peter/9-Graduate-School/2-dsrg/explainable-ad/code/HEEAD/results/hard-soft/run-{:003d}\".format(run_id)\n",
    "# fig_output_path = make_fig_directory(run_id)\n",
    "found_ds, results = load_results(run_path, group_fields=[\"dataset\"])\n",
    "print(\"Generating figures for run-{:03d}\".format(run_id))"
   ]
  },
  {
   "cell_type": "code",
   "execution_count": 3,
   "metadata": {},
   "outputs": [
    {
     "name": "stdout",
     "output_type": "stream",
     "text": [
      "(5, 16)\n"
     ]
    }
   ],
   "source": [
    "all_results = pd.DataFrame()\n",
    "for ds in found_ds:\n",
    "    all_results = pd.concat([all_results, results[ds]], ignore_index=True)\n",
    "all_results = all_results.groupby(\"dataset\").mean()\n",
    "print(all_results.shape)"
   ]
  },
  {
   "cell_type": "code",
   "execution_count": 4,
   "metadata": {},
   "outputs": [
    {
     "data": {
      "text/html": [
       "<div>\n",
       "<style scoped>\n",
       "    .dataframe tbody tr th:only-of-type {\n",
       "        vertical-align: middle;\n",
       "    }\n",
       "\n",
       "    .dataframe tbody tr th {\n",
       "        vertical-align: top;\n",
       "    }\n",
       "\n",
       "    .dataframe thead th {\n",
       "        text-align: right;\n",
       "    }\n",
       "</style>\n",
       "<table border=\"1\" class=\"dataframe\">\n",
       "  <thead>\n",
       "    <tr style=\"text-align: right;\">\n",
       "      <th></th>\n",
       "      <th>f1_soft</th>\n",
       "      <th>f1_hard</th>\n",
       "      <th>f1_cost</th>\n",
       "    </tr>\n",
       "    <tr>\n",
       "      <th>dataset</th>\n",
       "      <th></th>\n",
       "      <th></th>\n",
       "      <th></th>\n",
       "    </tr>\n",
       "  </thead>\n",
       "  <tbody>\n",
       "    <tr>\n",
       "      <th>cancer</th>\n",
       "      <td>0.932203</td>\n",
       "      <td>0.931516</td>\n",
       "      <td>0.000687</td>\n",
       "    </tr>\n",
       "    <tr>\n",
       "      <th>glass</th>\n",
       "      <td>0.809015</td>\n",
       "      <td>0.810227</td>\n",
       "      <td>-0.001211</td>\n",
       "    </tr>\n",
       "    <tr>\n",
       "      <th>magic</th>\n",
       "      <td>0.861633</td>\n",
       "      <td>0.862601</td>\n",
       "      <td>-0.000968</td>\n",
       "    </tr>\n",
       "    <tr>\n",
       "      <th>spambase</th>\n",
       "      <td>0.872198</td>\n",
       "      <td>0.857477</td>\n",
       "      <td>0.014721</td>\n",
       "    </tr>\n",
       "    <tr>\n",
       "      <th>vertebral</th>\n",
       "      <td>0.834290</td>\n",
       "      <td>0.817022</td>\n",
       "      <td>0.017268</td>\n",
       "    </tr>\n",
       "  </tbody>\n",
       "</table>\n",
       "</div>"
      ],
      "text/plain": [
       "            f1_soft   f1_hard   f1_cost\n",
       "dataset                                \n",
       "cancer     0.932203  0.931516  0.000687\n",
       "glass      0.809015  0.810227 -0.001211\n",
       "magic      0.861633  0.862601 -0.000968\n",
       "spambase   0.872198  0.857477  0.014721\n",
       "vertebral  0.834290  0.817022  0.017268"
      ]
     },
     "execution_count": 4,
     "metadata": {},
     "output_type": "execute_result"
    }
   ],
   "source": [
    "all_results[\"f1_cost\"] = all_results[\"f1_soft\"] - all_results[\"f1_hard\"]\n",
    "all_results[[\"f1_soft\", \"f1_hard\", \"f1_cost\"]].head()"
   ]
  }
 ],
 "metadata": {
  "interpreter": {
   "hash": "0ee1fceac40cd608145abbd18cebcc49c15aa542c45457ebe635f49f93e12ec7"
  },
  "kernelspec": {
   "display_name": "Python 3.8.8 ('dsrg')",
   "language": "python",
   "name": "python3"
  },
  "language_info": {
   "codemirror_mode": {
    "name": "ipython",
    "version": 3
   },
   "file_extension": ".py",
   "mimetype": "text/x-python",
   "name": "python",
   "nbconvert_exporter": "python",
   "pygments_lexer": "ipython3",
   "version": "3.8.8"
  },
  "orig_nbformat": 4
 },
 "nbformat": 4,
 "nbformat_minor": 2
}
