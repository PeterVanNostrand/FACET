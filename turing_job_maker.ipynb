{
 "cells": [
  {
   "cell_type": "code",
   "execution_count": 14,
   "metadata": {},
   "outputs": [],
   "source": [
    "import os\n",
    "\n",
    "out_path = \"./scripts/\"\n",
    "\n",
    "if not os.path.isdir(out_path):\n",
    "    os.makedirs(out_path)\n",
    "\n",
    "DS_NAMES = [\n",
    "    \"cancer\",\n",
    "    \"glass\",\n",
    "    \"magic\",\n",
    "    \"spambase\",\n",
    "    \"vertebral\"\n",
    "]\n",
    "\n",
    "EXPLAINERS = [\"FACETIndex\", \"OCEAN\", \"RFOCSE\", \"AFT\", \"MACE\"]"
   ]
  },
  {
   "cell_type": "code",
   "execution_count": 15,
   "metadata": {},
   "outputs": [],
   "source": [
    "slurm_command = \"#!/bin/bash\\n\\\n",
    "#SBATCH --output=./results/log-files/source.log\\n\\\n",
    "#SBATCH -C EPYC-7543\\n\\\n",
    "#SBATCH --nodes 1\\n\\\n",
    "#SBATCH --ntasks 4\\n\\\n",
    "#SBATCH --mem=16GB\\n\\\n",
    "#SBATCH --gres=gpu:0\\n\\\n",
    "source /home/pvannostrand/anaconda3/bin/activate facet\\n\\\n",
    "\\n\\\n",
    "RUNPATH=/home/pvannostrand/FACET\\n\\\n",
    "cd $RUNPATH\\n\\\n",
    "\\n\\\n",
    "module load gurobi/9.5.0\\n\\n\""
   ]
  },
  {
   "cell_type": "code",
   "execution_count": 16,
   "metadata": {},
   "outputs": [],
   "source": [
    "python_command = \"python main.py --expr perturb --method {} --ds {} --ntrees 10 --maxdepth 5 --it 0 1 2 3 4 5 6 7 8 9 --values 0.00001 0.00002 0.00003 0.00004 0.00005 0.00006 0.00007 0.00008 0.00009 0.00010 0.00011 0.00012 0.00013 0.00014 0.00015 0.00016 0.00017 0.00018 0.00019 0.00020 0.00021 0.00022 0.00023 0.00024 0.00025 0.00026 0.00027 0.00028 0.00029 0.00030 0.00031 0.00032 0.00033 0.00034 0.00035 0.00036 0.00037 0.00038 0.00039 0.00040 0.00041 0.00042 0.00043 0.00044 0.00045 0.00046 0.00047 0.00048 0.00049 0.00050 0.00100 0.00150 0.00200 0.00250 0.00300 0.00350 0.00400 0.00450 0.00500 0.00550 0.00600 0.00650 0.00700 0.00750 0.00800 0.00850 0.00900 0.00950 0.01000 0.01050 0.01100 0.01150 0.01200 0.01250 0.01300 0.01350 0.01400 0.01450 0.01500 0.01550 0.01600 0.01650 0.01700 0.01750 0.01800 0.01850 0.01900 0.01950 0.02000 0.02050 0.02100 0.02150 0.02200 0.02250 0.02300 0.02350 0.02400 0.02450 0.02500 0.02550 0.02600 0.02650 0.02700 0.02750 0.02800 0.02850 0.02900 0.02950 0.03000 0.03050 0.03100 0.03150 0.03200 0.03250 0.03300 0.03350 0.03400 0.03450 0.03500 0.03550 0.03600 0.03650 0.03700 0.03750 0.03800 0.03850 0.03900 0.03950 0.04000 0.04050 0.04100 0.04150 0.04200 0.04250 0.04300 0.04350 0.04400 0.04450 0.04500 0.04550 0.04600 0.04650 0.04700 0.04750 0.04800 0.04850 0.04900 0.04950 0.05000 0.05500 0.06000 0.06500 0.07000 0.07500 0.08000 0.08500 0.09000 0.09500 0.10000 0.10500 0.11000 0.11500 0.12000 0.12500 0.13000 0.13500 0.14000 0.14500 0.15000 0.15500 0.16000 0.16500 0.17000 0.17500 0.18000 0.18500 0.19000 0.19500 0.20000 0.20500 0.21000 0.21500 0.22000 0.22500 0.23000 0.23500 0.24000 0.24500 0.25000 0.25500 0.26000 0.26500 0.27000 0.27500 0.28000 0.28500 0.29000 0.29500 0.30000 0.30500 0.31000 0.31500 0.32000 0.32500 0.33000 0.33500 0.34000 0.34500 0.35000 0.35500 0.36000 0.36500 0.37000 0.37500 0.38000 0.38500 0.39000 0.39500 0.40000 0.40500 0.41000 0.41500 0.42000 0.42500 0.43000 0.43500 0.44000 0.44500 0.45000 0.45500 0.46000 0.46500 0.47000 0.47500 0.48000 0.48500 0.49000 0.49500 0.50000\""
   ]
  },
  {
   "cell_type": "code",
   "execution_count": 17,
   "metadata": {},
   "outputs": [],
   "source": [
    "for expl in EXPLAINERS:\n",
    "    for ds in DS_NAMES:\n",
    "        with open(out_path + \"{}{}.sh\".format(expl[0].lower(), ds[0]), \"w\") as f:\n",
    "            f.write(slurm_command + python_command.format(ds, expl))"
   ]
  }
 ],
 "metadata": {
  "kernelspec": {
   "display_name": "dsrg",
   "language": "python",
   "name": "python3"
  },
  "language_info": {
   "codemirror_mode": {
    "name": "ipython",
    "version": 3
   },
   "file_extension": ".py",
   "mimetype": "text/x-python",
   "name": "python",
   "nbconvert_exporter": "python",
   "pygments_lexer": "ipython3",
   "version": "3.8.13"
  },
  "orig_nbformat": 4,
  "vscode": {
   "interpreter": {
    "hash": "08812bb2998125df4c8e516011843b79b484604e59ec6ff09af2a17f9c9172dc"
   }
  }
 },
 "nbformat": 4,
 "nbformat_minor": 2
}
