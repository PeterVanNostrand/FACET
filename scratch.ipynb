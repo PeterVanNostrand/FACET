{
 "cells": [
  {
   "cell_type": "code",
   "execution_count": 8,
   "metadata": {},
   "outputs": [
    {
     "data": {
      "text/plain": [
       "(2, 4)"
      ]
     },
     "execution_count": 8,
     "metadata": {},
     "output_type": "execute_result"
    }
   ],
   "source": [
    "import numpy as np\n",
    "from sklearn.preprocessing import normalize\n",
    "\n",
    "nperms = 10\n",
    "x = np.array([[1, 2 ,3, 4], [1, 2 ,3, 4]])\n",
    "x.shape"
   ]
  },
  {
   "cell_type": "code",
   "execution_count": 9,
   "metadata": {},
   "outputs": [
    {
     "data": {
      "text/plain": [
       "array([[0.32260493, 0.04407645, 0.99085986, 0.84759686],\n",
       "       [0.67963564, 0.39395628, 0.29169495, 0.99672879],\n",
       "       [0.65459636, 0.51638035, 0.70663038, 0.36823241],\n",
       "       [0.69394461, 0.77659398, 0.37194903, 0.06659951],\n",
       "       [0.10646994, 0.55157793, 0.06759899, 0.0981488 ],\n",
       "       [0.72996638, 0.0272126 , 0.89870529, 0.52542069],\n",
       "       [0.02006736, 0.09891067, 0.45131284, 0.35431314],\n",
       "       [0.57569263, 0.34892643, 0.47290487, 0.21588351],\n",
       "       [0.07069161, 0.78700906, 0.73128106, 0.82859757],\n",
       "       [0.94993607, 0.34636352, 0.53479584, 0.9195895 ]])"
      ]
     },
     "execution_count": 9,
     "metadata": {},
     "output_type": "execute_result"
    }
   ],
   "source": [
    "unscaled_permutations = np.random.rand(nperms, x.shape[1])\n",
    "unscaled_permutations"
   ]
  },
  {
   "cell_type": "code",
   "execution_count": 10,
   "metadata": {},
   "outputs": [
    {
     "data": {
      "text/plain": [
       "array([[0.24003979, 0.03279584, 0.73726643, 0.63066912],\n",
       "       [0.52192333, 0.30253706, 0.22400591, 0.76543368],\n",
       "       [0.56759281, 0.44774733, 0.61271089, 0.31928999],\n",
       "       [0.62636122, 0.70096136, 0.33572485, 0.06011337],\n",
       "       [0.18540306, 0.96049871, 0.11771454, 0.17091292],\n",
       "       [0.57398903, 0.02139788, 0.70667226, 0.41315014],\n",
       "       [0.03444529, 0.1697785 , 0.77467087, 0.60817253],\n",
       "       [0.67685634, 0.41024161, 0.55600618, 0.25381969],\n",
       "       [0.05203364, 0.57929004, 0.53827059, 0.60990189],\n",
       "       [0.64724956, 0.23599866, 0.36438913, 0.62657259]])"
      ]
     },
     "execution_count": 10,
     "metadata": {},
     "output_type": "execute_result"
    }
   ],
   "source": [
    "normalized_permutations = normalize(unscaled_permutations, axis=1)\n",
    "normalized_permutations"
   ]
  },
  {
   "cell_type": "code",
   "execution_count": 22,
   "metadata": {},
   "outputs": [
    {
     "data": {
      "text/plain": [
       "array([1., 1., 1., 1., 1., 1., 1., 1., 1., 1.])"
      ]
     },
     "execution_count": 22,
     "metadata": {},
     "output_type": "execute_result"
    }
   ],
   "source": [
    "np.sqrt(np.sum(normalized_permutations**2, axis=1))"
   ]
  },
  {
   "cell_type": "code",
   "execution_count": 24,
   "metadata": {},
   "outputs": [
    {
     "data": {
      "text/plain": [
       "array([[0.0024004 , 0.00032796, 0.00737266, 0.00630669],\n",
       "       [0.00521923, 0.00302537, 0.00224006, 0.00765434],\n",
       "       [0.00567593, 0.00447747, 0.00612711, 0.0031929 ],\n",
       "       [0.00626361, 0.00700961, 0.00335725, 0.00060113],\n",
       "       [0.00185403, 0.00960499, 0.00117715, 0.00170913],\n",
       "       [0.00573989, 0.00021398, 0.00706672, 0.0041315 ],\n",
       "       [0.00034445, 0.00169779, 0.00774671, 0.00608173],\n",
       "       [0.00676856, 0.00410242, 0.00556006, 0.0025382 ],\n",
       "       [0.00052034, 0.0057929 , 0.00538271, 0.00609902],\n",
       "       [0.0064725 , 0.00235999, 0.00364389, 0.00626573]])"
      ]
     },
     "execution_count": 24,
     "metadata": {},
     "output_type": "execute_result"
    }
   ],
   "source": [
    "scaled_permutations = 0.01 * normalized_permutations\n",
    "scaled_permutations"
   ]
  },
  {
   "cell_type": "code",
   "execution_count": 25,
   "metadata": {},
   "outputs": [
    {
     "data": {
      "text/plain": [
       "array([0.01, 0.01, 0.01, 0.01, 0.01, 0.01, 0.01, 0.01, 0.01, 0.01])"
      ]
     },
     "execution_count": 25,
     "metadata": {},
     "output_type": "execute_result"
    }
   ],
   "source": [
    "np.sqrt(np.sum(scaled_permutations**2, axis=1))"
   ]
  },
  {
   "cell_type": "code",
   "execution_count": 28,
   "metadata": {},
   "outputs": [],
   "source": [
    "rect = np.array([[0, 0, 0], [1, 1, 1]])"
   ]
  },
  {
   "cell_type": "code",
   "execution_count": 29,
   "metadata": {},
   "outputs": [
    {
     "name": "stdout",
     "output_type": "stream",
     "text": [
      "[0. 0. 0.]\n",
      "[1. 1. 1.]\n",
      "[0.5 0.5 0.5]\n"
     ]
    }
   ],
   "source": [
    "lower_bounds = np.maximum(rect[0], 0.0)\n",
    "print(lower_bounds)\n",
    "upper_bounds = np.minimum(rect[1], 1.0)\n",
    "print(upper_bounds)\n",
    "center = (upper_bounds + lower_bounds) / 2\n",
    "print(center)"
   ]
  },
  {
   "cell_type": "code",
   "execution_count": 35,
   "metadata": {},
   "outputs": [
    {
     "data": {
      "text/html": [
       "<div>\n",
       "<style scoped>\n",
       "    .dataframe tbody tr th:only-of-type {\n",
       "        vertical-align: middle;\n",
       "    }\n",
       "\n",
       "    .dataframe tbody tr th {\n",
       "        vertical-align: top;\n",
       "    }\n",
       "\n",
       "    .dataframe thead th {\n",
       "        text-align: right;\n",
       "    }\n",
       "</style>\n",
       "<table border=\"1\" class=\"dataframe\">\n",
       "  <thead>\n",
       "    <tr style=\"text-align: right;\">\n",
       "      <th></th>\n",
       "      <th>iteration</th>\n",
       "      <th>explainer</th>\n",
       "      <th>datset</th>\n",
       "      <th>instance</th>\n",
       "      <th>perturbation_size</th>\n",
       "      <th>npermutations</th>\n",
       "      <th>per_valid</th>\n",
       "    </tr>\n",
       "  </thead>\n",
       "  <tbody>\n",
       "  </tbody>\n",
       "</table>\n",
       "</div>"
      ],
      "text/plain": [
       "Empty DataFrame\n",
       "Columns: [iteration, explainer, datset, instance, perturbation_size, npermutations, per_valid]\n",
       "Index: []"
      ]
     },
     "execution_count": 35,
     "metadata": {},
     "output_type": "execute_result"
    }
   ],
   "source": [
    "import pandas as pd\n",
    "df = pd.DataFrame(columns=[\"iteration\", \"explainer\", \"datset\", \"instance\", \"perturbation_size\", \"npermutations\", \"per_valid\"])\n",
    "df"
   ]
  },
  {
   "cell_type": "code",
   "execution_count": 4,
   "metadata": {},
   "outputs": [
    {
     "data": {
      "text/html": [
       "<div>\n",
       "<style scoped>\n",
       "    .dataframe tbody tr th:only-of-type {\n",
       "        vertical-align: middle;\n",
       "    }\n",
       "\n",
       "    .dataframe tbody tr th {\n",
       "        vertical-align: top;\n",
       "    }\n",
       "\n",
       "    .dataframe thead th {\n",
       "        text-align: right;\n",
       "    }\n",
       "</style>\n",
       "<table border=\"1\" class=\"dataframe\">\n",
       "  <thead>\n",
       "    <tr style=\"text-align: right;\">\n",
       "      <th></th>\n",
       "      <th>iteration</th>\n",
       "      <th>explainer</th>\n",
       "      <th>datset</th>\n",
       "      <th>instance</th>\n",
       "      <th>perturbation_size</th>\n",
       "      <th>npermutations</th>\n",
       "      <th>per_valid</th>\n",
       "    </tr>\n",
       "  </thead>\n",
       "  <tbody>\n",
       "    <tr>\n",
       "      <th>0</th>\n",
       "      <td>0</td>\n",
       "      <td>FACETIndex</td>\n",
       "      <td>vertebral</td>\n",
       "      <td>17</td>\n",
       "      <td>0.1</td>\n",
       "      <td>100</td>\n",
       "      <td>0.9</td>\n",
       "    </tr>\n",
       "  </tbody>\n",
       "</table>\n",
       "</div>"
      ],
      "text/plain": [
       "   iteration   explainer     datset  instance  perturbation_size  \\\n",
       "0          0  FACETIndex  vertebral        17                0.1   \n",
       "\n",
       "   npermutations  per_valid  \n",
       "0            100        0.9  "
      ]
     },
     "execution_count": 4,
     "metadata": {},
     "output_type": "execute_result"
    }
   ],
   "source": [
    "import pandas as pd\n",
    "row = {\n",
    "    \"iteration\": 0,\n",
    "    \"explainer\": \"FACETIndex\",\n",
    "    \"datset\": \"vertebral\",\n",
    "    \"instance\": 17,\n",
    "    \"perturbation_size\": 0.1,\n",
    "    \"npermutations\": 100,\n",
    "    \"per_valid\": 0.9,\n",
    "}\n",
    "df = pd.DataFrame(row, index=[0])\n",
    "df"
   ]
  },
  {
   "cell_type": "code",
   "execution_count": null,
   "metadata": {},
   "outputs": [],
   "source": [
    "# vertebral pertubation range\n",
    "i = 0\n",
    "while i<=5e-2:\n",
    "    i += 5e-4\n",
    "    print(\"{:0.4f}\".format(i), end=\" \")"
   ]
  },
  {
   "cell_type": "code",
   "execution_count": 24,
   "metadata": {},
   "outputs": [
    {
     "name": "stdout",
     "output_type": "stream",
     "text": [
      "0.00001 0.00002 0.00003 0.00004 0.00005 0.00006 0.00007 0.00008 0.00009 0.00010 0.00011 0.00012 0.00013 0.00014 0.00015 0.00016 0.00017 0.00018 0.00019 0.00020 0.00021 0.00022 0.00023 0.00024 0.00025 0.00026 0.00027 0.00028 0.00029 0.00030 0.00031 0.00032 0.00033 0.00034 0.00035 0.00036 0.00037 0.00038 0.00039 0.00040 0.00041 0.00042 0.00043 0.00044 0.00045 0.00046 0.00047 0.00048 0.00049 0.00050 0.00100 0.00150 0.00200 0.00250 0.00300 0.00350 0.00400 0.00450 0.00500 0.00550 0.00600 0.00650 0.00700 0.00750 0.00800 0.00850 0.00900 0.00950 0.01000 0.01050 0.01100 0.01150 0.01200 0.01250 0.01300 0.01350 0.01400 0.01450 0.01500 0.01550 0.01600 0.01650 0.01700 0.01750 0.01800 0.01850 0.01900 0.01950 0.02000 0.02050 0.02100 0.02150 0.02200 0.02250 0.02300 0.02350 0.02400 0.02450 0.02500 0.02550 0.02600 0.02650 0.02700 0.02750 0.02800 0.02850 0.02900 0.02950 0.03000 0.03050 0.03100 0.03150 0.03200 0.03250 0.03300 0.03350 0.03400 0.03450 0.03500 0.03550 0.03600 0.03650 0.03700 0.03750 0.03800 0.03850 0.03900 0.03950 0.04000 0.04050 0.04100 0.04150 0.04200 0.04250 0.04300 0.04350 0.04400 0.04450 0.04500 0.04550 0.04600 0.04650 0.04700 0.04750 0.04800 0.04850 0.04900 0.04950 0.05000 0.05500 0.06000 0.06500 0.07000 0.07500 0.08000 0.08500 0.09000 0.09500 0.10000 0.10500 0.11000 0.11500 0.12000 0.12500 0.13000 0.13500 0.14000 0.14500 0.15000 0.15500 0.16000 0.16500 0.17000 0.17500 0.18000 0.18500 0.19000 0.19500 0.20000 0.20500 0.21000 0.21500 0.22000 0.22500 0.23000 0.23500 0.24000 0.24500 0.25000 0.25500 0.26000 0.26500 0.27000 0.27500 0.28000 0.28500 0.29000 0.29500 0.30000 0.30500 0.31000 0.31500 0.32000 0.32500 0.33000 0.33500 0.34000 0.34500 0.35000 0.35500 0.36000 0.36500 0.37000 0.37500 0.38000 0.38500 0.39000 0.39500 0.40000 0.40500 0.41000 0.41500 0.42000 0.42500 0.43000 0.43500 0.44000 0.44500 0.45000 0.45500 0.46000 0.46500 0.47000 0.47500 0.48000 0.48500 0.49000 0.49500 0.50000 "
     ]
    }
   ],
   "source": [
    "i = 0\n",
    "while i<=5e-4:\n",
    "    i += 1e-5   \n",
    "    print(\"{:0.5f}\".format(i), end=\" \")\n",
    "while i<=5e-2:\n",
    "    i += 5e-4\n",
    "    print(\"{:0.5f}\".format(i), end=\" \")\n",
    "while i<=5e-1:\n",
    "    i += 5e-3\n",
    "    print(\"{:0.5f}\".format(i), end=\" \")"
   ]
  },
  {
   "cell_type": "code",
   "execution_count": 27,
   "metadata": {},
   "outputs": [
    {
     "data": {
      "text/html": [
       "<div>\n",
       "<style scoped>\n",
       "    .dataframe tbody tr th:only-of-type {\n",
       "        vertical-align: middle;\n",
       "    }\n",
       "\n",
       "    .dataframe tbody tr th {\n",
       "        vertical-align: top;\n",
       "    }\n",
       "\n",
       "    .dataframe thead th {\n",
       "        text-align: right;\n",
       "    }\n",
       "</style>\n",
       "<table border=\"1\" class=\"dataframe\">\n",
       "  <thead>\n",
       "    <tr style=\"text-align: right;\">\n",
       "      <th></th>\n",
       "      <th>0</th>\n",
       "      <th>1</th>\n",
       "      <th>2</th>\n",
       "      <th>3</th>\n",
       "    </tr>\n",
       "  </thead>\n",
       "  <tbody>\n",
       "    <tr>\n",
       "      <th>0</th>\n",
       "      <td>0</td>\n",
       "      <td>0</td>\n",
       "      <td>0</td>\n",
       "      <td>0</td>\n",
       "    </tr>\n",
       "    <tr>\n",
       "      <th>1</th>\n",
       "      <td>1</td>\n",
       "      <td>1</td>\n",
       "      <td>1</td>\n",
       "      <td>1</td>\n",
       "    </tr>\n",
       "  </tbody>\n",
       "</table>\n",
       "</div>"
      ],
      "text/plain": [
       "   0  1  2  3\n",
       "0  0  0  0  0\n",
       "1  1  1  1  1"
      ]
     },
     "execution_count": 27,
     "metadata": {},
     "output_type": "execute_result"
    }
   ],
   "source": [
    "import numpy as np\n",
    "import pandas as pd\n",
    "arr = np.array([[0, 0, 0, 0], [1, 1, 1, 1]])\n",
    "df = pd.DataFrame(arr)\n",
    "df"
   ]
  }
 ],
 "metadata": {
  "kernelspec": {
   "display_name": "dsrg",
   "language": "python",
   "name": "python3"
  },
  "language_info": {
   "codemirror_mode": {
    "name": "ipython",
    "version": 3
   },
   "file_extension": ".py",
   "mimetype": "text/x-python",
   "name": "python",
   "nbconvert_exporter": "python",
   "pygments_lexer": "ipython3",
   "version": "3.8.13"
  },
  "orig_nbformat": 4,
  "vscode": {
   "interpreter": {
    "hash": "08812bb2998125df4c8e516011843b79b484604e59ec6ff09af2a17f9c9172dc"
   }
  }
 },
 "nbformat": 4,
 "nbformat_minor": 2
}
